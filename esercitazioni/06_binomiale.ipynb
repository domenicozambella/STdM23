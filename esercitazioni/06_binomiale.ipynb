{
 "cells": [
  {
   "cell_type": "code",
   "execution_count": 1,
   "metadata": {},
   "outputs": [
    {
     "data": {
      "text/html": [
       "<style>\n",
       "div.jp-MarkdownOutput {font-family: \"Times New Roman\", Times, serif;   \n",
       "    /* background-color: #eee;  */\n",
       "    /* border-left: 5px solid #00b5b4; */\n",
       "    font-size: 10pt;\n",
       "    line-height: 140%;\n",
       "}\n",
       ".text_cell_render {\n",
       "    font-family: \"Times New Roman\", Times, serif;    \n",
       "    /* background-color: #eee;  */\n",
       "    /* border-left: 5px solid #00b5b4; */\n",
       "    font-size: 14pt;\n",
       "    line-height: 140%;s\n",
       "}\n",
       "\n",
       "h1 {\n",
       "    font-size: xx-large  !important;\n",
       "    margin-top: 0ex !important;\n",
       "}\n",
       "\n",
       "h2 {\n",
       "    font-size: larger !important;\n",
       "    margin-top: 0ex !important;\n",
       "    margin-bottom: 0ex !important;\n",
       "    padding-bottom: 0ex !important;\n",
       "}\n",
       "\n",
       "h3 {\n",
       "    font-size: large !important;\n",
       "    margin-top: 0ex !important;\n",
       "    margin-bottom: 0ex !important;\n",
       "    padding-bottom: 0ex !important;\n",
       "}\n",
       "\n",
       "mark {\n",
       "    background-color: #ffdd00;\n",
       "    border-top-right-radius: 5px;\n",
       "    border-top-left-radius: 5px;\n",
       "    border-bottom-right-radius: 5px;\n",
       "    border-bottom-left-radius: 5px;\n",
       "    padding-top: 0.1ex;\n",
       "    padding-bottom: 0.2ex;\n",
       "    padding-left: 0.7ex;\n",
       "    padding-right: 0.7ex;\n",
       "}\n",
       "\n",
       ".ita {\n",
       "    background-color: #bbddee;\n",
       "}\n",
       "\n",
       ".errore {background-color:#d88;\n",
       "        width:310px;\n",
       "        height:17ex;\n",
       "        display:inline-block;\n",
       "        margin:5px;\n",
       "        padding:8px;\n",
       "}\n",
       "\n",
       ".corretto {background-color:#2d8;\n",
       "        width:310px;\n",
       "        height:17ex;\n",
       "        display:inline-block;\n",
       "        margin:5px;\n",
       "        padding:8px;\n",
       "}\n",
       "\n",
       "n-a {background-color: #ffdddd;}\n",
       "\n",
       "ul, ol {\n",
       "     padding-left: 2ex !important;\n",
       "}\n",
       "ul {\n",
       "     margin-top: 0ex !important;\n",
       "     margin-bottom: 0ex !important;\n",
       "     list-style-type: square !important;\n",
       "}\n",
       "\n",
       "div.warn {    \n",
       "    background-color: #fcf2f2;\n",
       "    border-color: #dFb5b4;\n",
       "    border-left: 5px solid #dfb5b4;\n",
       "    margin-top: 1ex;\n",
       "    padding: 1ex;\n",
       "}\n",
       ".right{\n",
       "    float:right\n",
       "}\n",
       "\n",
       "hr { \n",
       "    display: block;\n",
       "    margin-top: 0.5ex;\n",
       "    margin-bottom: 0.5ex;\n",
       "    margin-left: auto;\n",
       "    margin-right: auto;\n",
       "    border-style: inset;\n",
       "    border-width: 1px;\n",
       "}\n",
       "</style>\n"
      ],
      "text/plain": [
       "<IPython.core.display.HTML object>"
      ]
     },
     "execution_count": 1,
     "metadata": {},
     "output_type": "execute_result"
    }
   ],
   "source": [
    "# RUN THIS CELL: it loads some style files\n",
    "from IPython.display import HTML\n",
    "with open( './style/custom.css', 'r' ) as f: html_style = f.read()\n",
    "HTML( html_style )"
   ]
  },
  {
   "cell_type": "markdown",
   "metadata": {},
   "source": [
    "### Esercizio 1\n",
    "\n",
    "Consideriamo due sequenze di $25$ caratteri dell'alfabeto $\\{a,g,c,t\\}$. Assumiamo che tutti i caratteri occorrano con la stessa probabilità indipendentemente dalla posizione. Qual è la probabilità che due sequenze coincidano in $\\ge 10$ posizioni?"
   ]
  },
  {
   "cell_type": "markdown",
   "metadata": {},
   "source": [
    "***Soluzione***\n",
    "\n",
    "Devo calcolare $\\Pr(X\\ge 10)$ con $X\\sim B(25,1/4)$."
   ]
  },
  {
   "cell_type": "code",
   "execution_count": 2,
   "metadata": {},
   "outputs": [
    {
     "data": {
      "text/plain": [
       "0.07132826270035508"
      ]
     },
     "execution_count": 2,
     "metadata": {},
     "output_type": "execute_result"
    }
   ],
   "source": [
    "from scipy.stats import binom\n",
    "\n",
    "1 - binom.cdf(9,25,1/4)"
   ]
  },
  {
   "cell_type": "markdown",
   "metadata": {},
   "source": [
    "### Esercizio 2\n",
    "\n",
    "In un gioco a due giocatori, $A$ e $B$, ogni partita vale un punto che è vinto da uno dei due giocatori (non ci sono patte). Vince il gioco chi per primo raggiunge 8 punti. In ciascuna partita $A$ vince con probabilità $0.6$.\n",
    "\n",
    "Qual è la probabilità che $A$ vinca il gioco in $\\le11$ partite?"
   ]
  },
  {
   "cell_type": "markdown",
   "metadata": {},
   "source": [
    "***Soluzione***\n",
    "\n",
    "Devo calcolare $\\Pr(X\\ge 8)$ con $X\\sim B(11,0.6)$."
   ]
  },
  {
   "cell_type": "code",
   "execution_count": 3,
   "metadata": {},
   "outputs": [
    {
     "data": {
      "text/plain": [
       "0.29628426239999994"
      ]
     },
     "execution_count": 3,
     "metadata": {},
     "output_type": "execute_result"
    }
   ],
   "source": [
    "1 - binom.cdf(7,11,0.6)"
   ]
  },
  {
   "cell_type": "markdown",
   "metadata": {},
   "source": [
    "### Esercizio 3\n",
    "\n",
    "Abbiamo $35$ monete di cui $28$ sono equilibrate, le altre sono difettose e hanno\n",
    "probabilità $0.6$ di dare come risultato *Testa*. Scegliamo a caso una di queste $35$ monete. Per\n",
    "decidere se è equilibrata o difettosa, la lanciamo $30$ volte. Se otteniamo ≥ $18$ volte *Testa* diremo\n",
    "che è difettosa. Dei seguenti dati si usino solo quelli pertinenti"
   ]
  },
  {
   "cell_type": "markdown",
   "metadata": {},
   "source": [
    "### Domanda 1\n",
    "\n",
    "Qual è la probabilità di dichiarare difettosa una moneta che non lo è?"
   ]
  },
  {
   "cell_type": "markdown",
   "metadata": {},
   "source": [
    "$X\\in\\{0,1,\\dots,30\\}$ v.a. numero di risultati Testa dal lancio di una monetina scelta a caso.\n",
    "\n",
    "$X_e\\in\\{0,1,\\dots,3\\}$ v.a. numero di risultati Testa dal lancio di una monetina equilibrata. \n",
    "\n",
    "$X_e\\sim B(30,0.5)$ \n",
    "\n",
    "$X_d\\in\\{0,1,\\dots,3\\}$ v.a. numero di risultati Testa dal lancio di una monetina difettosa.\n",
    "\n",
    "$X_d\\sim B(30,0.6)$ \n",
    "\n",
    "**Risposta** $\\quad\\Pr(X_e\\ge18)$ "
   ]
  },
  {
   "cell_type": "markdown",
   "metadata": {},
   "source": [
    "### Domanda 2\n",
    "\n",
    "Qual è la probabilità che una moneta dichiarata difettosa lo sia veramente?"
   ]
  },
  {
   "cell_type": "markdown",
   "metadata": {},
   "source": [
    "**Risposta** \n",
    "\n",
    "Sia $D$ evento abbiamo scelto una moneta difettosa.\n",
    "\n",
    "Dobbiamo calcolare $\\Pr(D|X\\ge18)$.\n",
    "\n",
    "Conosciamo:\n",
    "\n",
    "$\\Pr(X\\ge18|D)=\\Pr(X_d\\ge18)$\n",
    "\n",
    "$\\Pr(D)=7/35=1/5$\n",
    "\n",
    "Applicando la regola di Bayes\n",
    "\n",
    "\n",
    "$\\Pr(D|X\\ge18)=\\dfrac{\\Pr(X_d\\ge18)\\Pr(D)}{\\Pr(X\\ge18)}$\n",
    " \n",
    "Il valore $\\Pr(X\\ge18)$ lo calcoliamo col teorema delle probabilità totali:\n",
    "\n",
    "$\\Pr(X\\ge18)=\\Pr(X_d\\ge18)\\Pr(D)+\\Pr(X_e\\ge18)\\Pr(\\neg D)$."
   ]
  }
 ],
 "metadata": {
  "kernelspec": {
   "display_name": "Python 3 (ipykernel)",
   "language": "python",
   "name": "python3"
  },
  "language_info": {
   "codemirror_mode": {
    "name": "ipython",
    "version": 3
   },
   "file_extension": ".py",
   "mimetype": "text/x-python",
   "name": "python",
   "nbconvert_exporter": "python",
   "pygments_lexer": "ipython3",
   "version": "3.9.13"
  }
 },
 "nbformat": 4,
 "nbformat_minor": 2
}
