{
 "cells": [
  {
   "cell_type": "code",
   "execution_count": 1,
   "metadata": {},
   "outputs": [
    {
     "data": {
      "text/html": [
       "<style>\n",
       "div.jp-MarkdownOutput {font-family: \"Times New Roman\", Times, serif;   \n",
       "    /* background-color: #eee;  */\n",
       "    /* border-left: 5px solid #00b5b4; */\n",
       "    font-size: 10pt;\n",
       "    line-height: 140%;\n",
       "}\n",
       ".text_cell_render {\n",
       "    font-family: \"Times New Roman\", Times, serif;    \n",
       "    /* background-color: #eee;  */\n",
       "    /* border-left: 5px solid #00b5b4; */\n",
       "    font-size: 14pt;\n",
       "    line-height: 140%;s\n",
       "}\n",
       "\n",
       "h1 {\n",
       "    font-size: xx-large  !important;\n",
       "    margin-top: 0ex !important;\n",
       "}\n",
       "\n",
       "h2 {\n",
       "    font-size: larger !important;\n",
       "    margin-top: 0ex !important;\n",
       "    margin-bottom: 0ex !important;\n",
       "    padding-bottom: 0ex !important;\n",
       "}\n",
       "\n",
       "h3 {\n",
       "    font-size: large !important;\n",
       "    margin-top: 0ex !important;\n",
       "    margin-bottom: 0ex !important;\n",
       "    padding-bottom: 0ex !important;\n",
       "}\n",
       "\n",
       "mark {\n",
       "    background-color: #ffdd00;\n",
       "    border-top-right-radius: 5px;\n",
       "    border-top-left-radius: 5px;\n",
       "    border-bottom-right-radius: 5px;\n",
       "    border-bottom-left-radius: 5px;\n",
       "    padding-top: 0.1ex;\n",
       "    padding-bottom: 0.2ex;\n",
       "    padding-left: 0.7ex;\n",
       "    padding-right: 0.7ex;\n",
       "}\n",
       "\n",
       ".ita {\n",
       "    background-color: #bbddee;\n",
       "}\n",
       "\n",
       ".errore {background-color:#d88;\n",
       "        width:310px;\n",
       "        height:17ex;\n",
       "        display:inline-block;\n",
       "        margin:5px;\n",
       "        padding:8px;\n",
       "}\n",
       "\n",
       ".corretto {background-color:#2d8;\n",
       "        width:310px;\n",
       "        height:17ex;\n",
       "        display:inline-block;\n",
       "        margin:5px;\n",
       "        padding:8px;\n",
       "}\n",
       "\n",
       "n-a {background-color: #ffdddd;}\n",
       "\n",
       "ul, ol {\n",
       "     padding-left: 2ex !important;\n",
       "}\n",
       "ul {\n",
       "     margin-top: 0ex !important;\n",
       "     margin-bottom: 0ex !important;\n",
       "     list-style-type: square !important;\n",
       "}\n",
       "\n",
       "div.warn {    \n",
       "    background-color: #fcf2f2;\n",
       "    border-color: #dFb5b4;\n",
       "    border-left: 5px solid #dfb5b4;\n",
       "    margin-top: 1ex;\n",
       "    padding: 1ex;\n",
       "}\n",
       ".right{\n",
       "    float:right\n",
       "}\n",
       "\n",
       "hr { \n",
       "    display: block;\n",
       "    margin-top: 0.5ex;\n",
       "    margin-bottom: 0.5ex;\n",
       "    margin-left: auto;\n",
       "    margin-right: auto;\n",
       "    border-style: inset;\n",
       "    border-width: 1px;\n",
       "}\n",
       "</style>\n"
      ],
      "text/plain": [
       "<IPython.core.display.HTML object>"
      ]
     },
     "execution_count": 1,
     "metadata": {},
     "output_type": "execute_result"
    }
   ],
   "source": [
    "# RUN THIS CELL: it loads some style files\n",
    "from IPython.core.display import HTML\n",
    "with open( './style/custom.css', 'r' ) as f: html_style = f.read()\n",
    "HTML( html_style )"
   ]
  },
  {
   "cell_type": "markdown",
   "metadata": {},
   "source": [
    "Un frammento di [mosarauro](https://it.wikipedia.org/wiki/Mosasauridae) è stato ritrovato nel letto di un corso d'acqua. Sfortunatamente, il fossile è stato ritrovatro giusto dopo la giuntura di due corsi d'acqua.  Potrebbe provenire da uno di due bacini. Vorremmo calcolare con quale probabilità.\n",
    "\n",
    "Il primo bacino è di ca.18&nbsp;km$^2$ mentre il secondo è di ca.10&nbsp;km$^2$.\n",
    "\n",
    "Denotiamo con $B_1$ l'evento *il fossile proviene dal primo bacino* e con $B_2$  l'evento *il fossile proviene dal secondo bacino*. Possiamo ragionevolmente supporre che\n",
    "\n",
    "\n",
    "$$ \\Pr(B_1)  = \\frac{18}{18+10} = 0.64 $$\n",
    "\n",
    "$$ \\Pr(B_2)  = \\frac{10}{18+10} = 0.36 $$"
   ]
  },
  {
   "cell_type": "markdown",
   "metadata": {},
   "source": [
    "Abbiamo anche altre informazioni. Sappiamo che il $35\\%$ delle rocce del Cretaceo che affiorano nel primo bacino sono marine, mentre nel secondo bacino querste rocce sono l'$80\\%$. Possiamo riassumere questa informazione come probabilit̀a condizionata. Denotiamo con $A$ l'evento *essere un fossile del Cretaceo* (proveniente da uno qualsiasi dei due bacini) sia di specie marina. \n",
    "\n",
    "$$ \\Pr(A  | B_1)  = 0.35 $$\n",
    "\n",
    "$$ \\Pr(A  | B_2)  = 0.80 $$"
   ]
  },
  {
   "cell_type": "markdown",
   "metadata": {},
   "source": [
    "### Domanda 1\n",
    "\n",
    "Calcolare $\\Pr(A)$ cioè la probabilità che un fossile del Cretaceo proveniente da uno qualsiasi dei due bacini sia di specie marina."
   ]
  },
  {
   "cell_type": "markdown",
   "metadata": {},
   "source": [
    "### Risposta 1\n",
    "\n",
    "$$\\Pr(A) = \\Pr(A  | B_1)\\cdot\\Pr(B_1)+\\Pr(A  | B_2)\\cdot\\Pr(B_2)$$"
   ]
  },
  {
   "cell_type": "code",
   "execution_count": 2,
   "metadata": {},
   "outputs": [
    {
     "data": {
      "text/plain": [
       "0.512"
      ]
     },
     "execution_count": 2,
     "metadata": {},
     "output_type": "execute_result"
    }
   ],
   "source": [
    "pr_B1 = 0.64\n",
    "pr_B2 = 0.36\n",
    "pr_A_B1 = 0.35\n",
    "pr_A_B2 = 0.80\n",
    "pr_A = pr_A_B1 * pr_B1 + pr_A_B2 * pr_B2\n",
    "# risultato numerico\n",
    "pr_A "
   ]
  },
  {
   "cell_type": "markdown",
   "metadata": {},
   "source": [
    "### Domanda 2\n",
    "\n",
    "Calcolare $\\Pr(B_1|A)$ che è la probabilità che il fossile ritrovato provenga dal primo bacino."
   ]
  },
  {
   "cell_type": "markdown",
   "metadata": {},
   "source": [
    "### Risposta 2\n",
    "\n",
    "$$\\Pr(B_1 | A) = \\frac{\\Pr(A  | B_1)\\cdot\\Pr(B_1)}{\\Pr(A)}$$"
   ]
  },
  {
   "cell_type": "code",
   "execution_count": 5,
   "metadata": {},
   "outputs": [
    {
     "data": {
      "text/plain": [
       "0.43749999999999994"
      ]
     },
     "execution_count": 5,
     "metadata": {},
     "output_type": "execute_result"
    }
   ],
   "source": [
    "# risultato numerico\n",
    "pr_A_B1 * pr_B1 / pr_A"
   ]
  }
 ],
 "metadata": {
  "kernelspec": {
   "display_name": "Python 3 (ipykernel)",
   "language": "python",
   "name": "python3"
  },
  "language_info": {
   "codemirror_mode": {
    "name": "ipython",
    "version": 3
   },
   "file_extension": ".py",
   "mimetype": "text/x-python",
   "name": "python",
   "nbconvert_exporter": "python",
   "pygments_lexer": "ipython3",
   "version": "3.9.13"
  }
 },
 "nbformat": 4,
 "nbformat_minor": 2
}
