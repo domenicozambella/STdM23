{
 "cells": [
  {
   "cell_type": "code",
   "execution_count": 1,
   "metadata": {
    "scrolled": true
   },
   "outputs": [
    {
     "data": {
      "text/html": [
       "<style>\n",
       "div.jp-MarkdownOutput {font-family: \"Times New Roman\", Times, serif;   \n",
       "    /* background-color: #eee;  */\n",
       "    /* border-left: 5px solid #00b5b4; */\n",
       "    font-size: 10pt;\n",
       "    line-height: 140%;\n",
       "}\n",
       ".text_cell_render {\n",
       "    font-family: \"Times New Roman\", Times, serif;    \n",
       "    /* background-color: #eee;  */\n",
       "    /* border-left: 5px solid #00b5b4; */\n",
       "    font-size: 14pt;\n",
       "    line-height: 140%;s\n",
       "}\n",
       "\n",
       "h1 {\n",
       "    font-size: xx-large  !important;\n",
       "    margin-top: 0ex !important;\n",
       "}\n",
       "\n",
       "h2 {\n",
       "    font-size: larger !important;\n",
       "    margin-top: 0ex !important;\n",
       "    margin-bottom: 0ex !important;\n",
       "    padding-bottom: 0ex !important;\n",
       "}\n",
       "\n",
       "h3 {\n",
       "    font-size: large !important;\n",
       "    margin-top: 0ex !important;\n",
       "    margin-bottom: 0ex !important;\n",
       "    padding-bottom: 0ex !important;\n",
       "}\n",
       "\n",
       "mark {\n",
       "    background-color: #ffdd00;\n",
       "    border-top-right-radius: 5px;\n",
       "    border-top-left-radius: 5px;\n",
       "    border-bottom-right-radius: 5px;\n",
       "    border-bottom-left-radius: 5px;\n",
       "    padding-top: 0.1ex;\n",
       "    padding-bottom: 0.2ex;\n",
       "    padding-left: 0.7ex;\n",
       "    padding-right: 0.7ex;\n",
       "}\n",
       "\n",
       ".ita {\n",
       "    background-color: #bbddee;\n",
       "}\n",
       "\n",
       ".errore {background-color:#d88;\n",
       "        width:310px;\n",
       "        height:17ex;\n",
       "        display:inline-block;\n",
       "        margin:5px;\n",
       "        padding:8px;\n",
       "}\n",
       "\n",
       ".corretto {background-color:#2d8;\n",
       "        width:310px;\n",
       "        height:17ex;\n",
       "        display:inline-block;\n",
       "        margin:5px;\n",
       "        padding:8px;\n",
       "}\n",
       "\n",
       "n-a {background-color: #ffdddd;}\n",
       "\n",
       "ul, ol {\n",
       "     padding-left: 2ex !important;\n",
       "}\n",
       "ul {\n",
       "     margin-top: 0ex !important;\n",
       "     margin-bottom: 0ex !important;\n",
       "     list-style-type: square !important;\n",
       "}\n",
       "\n",
       "div.warn {    \n",
       "    background-color: #fcf2f2;\n",
       "    border-color: #dFb5b4;\n",
       "    border-left: 5px solid #dfb5b4;\n",
       "    margin-top: 1ex;\n",
       "    padding: 1ex;\n",
       "}\n",
       ".right{\n",
       "    float:right\n",
       "}\n",
       "\n",
       "hr { \n",
       "    display: block;\n",
       "    margin-top: 0.5ex;\n",
       "    margin-bottom: 0.5ex;\n",
       "    margin-left: auto;\n",
       "    margin-right: auto;\n",
       "    border-style: inset;\n",
       "    border-width: 1px;\n",
       "}\n",
       "</style>\n"
      ],
      "text/plain": [
       "<IPython.core.display.HTML object>"
      ]
     },
     "execution_count": 1,
     "metadata": {},
     "output_type": "execute_result"
    }
   ],
   "source": [
    "# RUN THIS CELL: it loads some style files\n",
    "from IPython.display import HTML\n",
    "with open( './style/custom.css', 'r' ) as f: html_style = f.read()\n",
    "HTML( html_style )"
   ]
  },
  {
   "cell_type": "markdown",
   "metadata": {
    "slideshow": {
     "slide_type": "slide"
    }
   },
   "source": [
    "# Probability spaces\n",
    "\n",
    "We fix a non empty set <mark>$\\Omega$</mark> which we call <mark>sample space</mark> <mark class=ita>spazio campionario</mark> or <mark>population</mark>. \n",
    "\n",
    "The elements of $\\Omega$ are called <mark>outcomes</mark> <mark class=ita>risultato</mark> (of a trial or of an experiment) or <mark>individuals</mark> (of a pupulation).\n",
    "\n",
    "The subsets of $E\\subseteq\\Omega$ are called <mark>events</mark>. \n",
    "\n",
    "(In some cases, only particular subsets of $\\Omega$ are designated as *events*, but this is a technicality which we will ignore.)\n",
    "\n",
    "A <mark>probability measure</mark> is a functions $\\Pr(\\cdot)$ that assigns to each event a real number.\n",
    "We require the following properties (axioms)\n",
    "\n",
    "1. $\\Pr(\\Omega)=1$\n",
    "\n",
    "2. $\\Pr(E)\\ge0$ for every event $E\\subseteq\\Omega$\n",
    "\n",
    "3. $\\Pr(E_1\\cup E_2)=\\Pr(E_1)+\\Pr(E_2)$ for every pair $E_1,E_2\\subseteq\\Omega$ of mutually exclusive events.\n",
    "\n",
    "We say that $E_1$ e $E_2$ are <mark>mutually exclusive</mark> if they are <mark>disjoint</mark>, that is, if $E_1\\cap E_2=\\varnothing$.\n",
    "\n",
    "The following properties are consequences of the axioms above:\n",
    "\n",
    "* $\\Pr(\\varnothing)=0$\n",
    "\n",
    "* $\\Pr(\\neg E)=1-\\Pr(E)$ <span class=\"right\">(with <mark>$\\neg E$</mark> we denote the complement of $E$)</span>\n",
    "\n",
    "* $\\Pr(E_1\\smallsetminus E_2)=\\Pr(E_1)-\\Pr(E_2)$ for every $E_2\\subseteq E_1$\n",
    "\n",
    "* $\\Pr(E_1\\cup E_2\\cup E_3)=\\Pr(E_1)+\\Pr(E_2)+\\Pr(E_3)$ for mutually exclusive $E_1,E_2,E_3$\n",
    "\n",
    "* $\\Pr(E_1\\cup E_2)=\\Pr(E_1)+\\Pr(E_2)-\\Pr(E_1\\cap E_2)$ for every $E_1,E_2$ (also if not disjoint)."
   ]
  },
  {
   "cell_type": "markdown",
   "metadata": {
    "slideshow": {
     "slide_type": "slide"
    }
   },
   "source": [
    "# Random variables\n",
    "\n",
    "A <mark>random variable (r.v.)</mark> <mark class=ita>variabile aleatoria (v.a.)</mark> is a function $X:\\Omega\\to R$, where $\\Omega$ is a sample space and $R$ an arbitrary set. \n",
    "\n",
    "Usually we write <mark>$X\\in R$</mark> leaving out any reference to $\\Omega$.\n",
    "\n",
    "When $R$ is a subset of $\\mathbb N$, $\\mathbb Z$, $\\mathbb Q$, $\\mathbb R$, $\\mathbb R^2$, etc., we say that $X$ is a <mark>numerical</mark> or <mark>quantitative</mark> r.v. \n",
    "\n",
    "Otherwise we say that $X$ is a <mark>qualitative</mark> or <mark>categorical</mark> r.v.\n",
    "\n"
   ]
  },
  {
   "cell_type": "markdown",
   "metadata": {
    "slideshow": {
     "slide_type": "slide"
    }
   },
   "source": [
    "# Probability distributions\n",
    "\n",
    "$\\def\\Pr{{\\rm Pr}}$\n",
    "Given a r.v. $X\\in R$, a possible value $x\\in R$ and a set of possible values $A\\subseteq R$ we write\n",
    "\n",
    "$\\quad$<mark>$\\Pr(X=x)$</mark> =\n",
    "$\\Pr\\big(\\{\\omega\\in\\Omega\\ :\\ X(\\omega)=x\\}\\big)$\n",
    "\n",
    "$\\quad$<mark>$\\Pr(X\\in A)$</mark> = \n",
    "$\\Pr\\big(\\{\\omega\\in\\Omega\\ :\\ X(\\omega)\\in A\\}\\big)$\n",
    "\n",
    "If $X$ is a numerical r.v.\n",
    "\n",
    "$\\quad$<mark>$\\Pr(X \\le x)$</mark> =\n",
    "$\\Pr\\big(\\{\\omega\\in\\Omega\\ :\\ X(\\omega)\\le x\\}\\big)$\n",
    "\n",
    "The function $x\\mapsto\\Pr(X=x)$ is called <mark>probability distribution function</mark> or <mark>probability mass function (p.m.f.)</mark> of $X$\n",
    "\n",
    "The function $x\\mapsto \\Pr(X \\le x)$ is called the <mark>cumulative distribution function</mark> <mark class=ita>funzione di ripartizione</mark> of $X$.\n",
    "\n",
    "Numerical r.v. can be discrete or continuous (or sometimes a mixture of the two hence, technically, neither of them). A r.v. $X$ is <mark>discrete</mark> if for every $A\\subseteq R$\n",
    "\n",
    "$\\displaystyle\\quad\\Pr\\big(X\\in A\\big)\\ \\ =\\ \\ \\sum_{x\\in A}\\Pr(X=x)$\n",
    "\n",
    "That is, the probability is concentrated in some points of $R$.\n",
    "\n",
    "A r.v. $X$ is <mark>continuous</mark> if $\\Pr(X=x)=0$ for every $x\\in R$. Therefore the p.m.f. of continuous r.v. is meaningless (it is costantly $0$). The whole information about $X$ is contained in the c.d.f. \n",
    "\n",
    "The probability of $X\\in [a,b]$ can be computed using the c.d.f.\n",
    "\n",
    "$\\displaystyle\\quad\\Pr\\big(X\\in [a,b]\\big)\\ \\ =\\ \\ \\Pr(a \\le X \\le b)\\ \\ =\\ \\ \\Pr(X\\le b)-\\Pr(X\\le a)$\n",
    "\n",
    "Note that the second equality would not be true if $\\Pr(X{=}a)\\neq0$."
   ]
  },
  {
   "cell_type": "code",
   "execution_count": null,
   "metadata": {},
   "outputs": [],
   "source": []
  }
 ],
 "metadata": {
  "kernelspec": {
   "display_name": "Python 3 (ipykernel)",
   "language": "python",
   "name": "python3"
  },
  "language_info": {
   "codemirror_mode": {
    "name": "ipython",
    "version": 3
   },
   "file_extension": ".py",
   "mimetype": "text/x-python",
   "name": "python",
   "nbconvert_exporter": "python",
   "pygments_lexer": "ipython3",
   "version": "3.9.12"
  },
  "latex_envs": {
   "LaTeX_envs_menu_present": true,
   "autoclose": false,
   "autocomplete": true,
   "bibliofile": "biblio.bib",
   "cite_by": "apalike",
   "current_citInitial": 1,
   "eqLabelWithNumbers": true,
   "eqNumInitial": 1,
   "hotkeys": {
    "equation": "Ctrl-E",
    "itemize": "Ctrl-I"
   },
   "labels_anchors": false,
   "latex_user_defs": false,
   "report_style_numbering": false,
   "user_envs_cfg": false
  }
 },
 "nbformat": 4,
 "nbformat_minor": 2
}
