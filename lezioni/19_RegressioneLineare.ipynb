{
 "cells": [
  {
   "cell_type": "code",
   "execution_count": 1,
   "id": "92b2343b",
   "metadata": {},
   "outputs": [
    {
     "data": {
      "text/html": [
       "<div class=\"bk-root\">\n",
       "        <a href=\"https://bokeh.org\" target=\"_blank\" class=\"bk-logo bk-logo-small bk-logo-notebook\"></a>\n",
       "        <span id=\"1002\">Loading BokehJS ...</span>\n",
       "    </div>\n"
      ]
     },
     "metadata": {},
     "output_type": "display_data"
    },
    {
     "data": {
      "application/javascript": [
       "(function(root) {\n",
       "  function now() {\n",
       "    return new Date();\n",
       "  }\n",
       "\n",
       "  const force = true;\n",
       "\n",
       "  if (typeof root._bokeh_onload_callbacks === \"undefined\" || force === true) {\n",
       "    root._bokeh_onload_callbacks = [];\n",
       "    root._bokeh_is_loading = undefined;\n",
       "  }\n",
       "\n",
       "const JS_MIME_TYPE = 'application/javascript';\n",
       "  const HTML_MIME_TYPE = 'text/html';\n",
       "  const EXEC_MIME_TYPE = 'application/vnd.bokehjs_exec.v0+json';\n",
       "  const CLASS_NAME = 'output_bokeh rendered_html';\n",
       "\n",
       "  /**\n",
       "   * Render data to the DOM node\n",
       "   */\n",
       "  function render(props, node) {\n",
       "    const script = document.createElement(\"script\");\n",
       "    node.appendChild(script);\n",
       "  }\n",
       "\n",
       "  /**\n",
       "   * Handle when an output is cleared or removed\n",
       "   */\n",
       "  function handleClearOutput(event, handle) {\n",
       "    const cell = handle.cell;\n",
       "\n",
       "    const id = cell.output_area._bokeh_element_id;\n",
       "    const server_id = cell.output_area._bokeh_server_id;\n",
       "    // Clean up Bokeh references\n",
       "    if (id != null && id in Bokeh.index) {\n",
       "      Bokeh.index[id].model.document.clear();\n",
       "      delete Bokeh.index[id];\n",
       "    }\n",
       "\n",
       "    if (server_id !== undefined) {\n",
       "      // Clean up Bokeh references\n",
       "      const cmd_clean = \"from bokeh.io.state import curstate; print(curstate().uuid_to_server['\" + server_id + \"'].get_sessions()[0].document.roots[0]._id)\";\n",
       "      cell.notebook.kernel.execute(cmd_clean, {\n",
       "        iopub: {\n",
       "          output: function(msg) {\n",
       "            const id = msg.content.text.trim();\n",
       "            if (id in Bokeh.index) {\n",
       "              Bokeh.index[id].model.document.clear();\n",
       "              delete Bokeh.index[id];\n",
       "            }\n",
       "          }\n",
       "        }\n",
       "      });\n",
       "      // Destroy server and session\n",
       "      const cmd_destroy = \"import bokeh.io.notebook as ion; ion.destroy_server('\" + server_id + \"')\";\n",
       "      cell.notebook.kernel.execute(cmd_destroy);\n",
       "    }\n",
       "  }\n",
       "\n",
       "  /**\n",
       "   * Handle when a new output is added\n",
       "   */\n",
       "  function handleAddOutput(event, handle) {\n",
       "    const output_area = handle.output_area;\n",
       "    const output = handle.output;\n",
       "\n",
       "    // limit handleAddOutput to display_data with EXEC_MIME_TYPE content only\n",
       "    if ((output.output_type != \"display_data\") || (!Object.prototype.hasOwnProperty.call(output.data, EXEC_MIME_TYPE))) {\n",
       "      return\n",
       "    }\n",
       "\n",
       "    const toinsert = output_area.element.find(\".\" + CLASS_NAME.split(' ')[0]);\n",
       "\n",
       "    if (output.metadata[EXEC_MIME_TYPE][\"id\"] !== undefined) {\n",
       "      toinsert[toinsert.length - 1].firstChild.textContent = output.data[JS_MIME_TYPE];\n",
       "      // store reference to embed id on output_area\n",
       "      output_area._bokeh_element_id = output.metadata[EXEC_MIME_TYPE][\"id\"];\n",
       "    }\n",
       "    if (output.metadata[EXEC_MIME_TYPE][\"server_id\"] !== undefined) {\n",
       "      const bk_div = document.createElement(\"div\");\n",
       "      bk_div.innerHTML = output.data[HTML_MIME_TYPE];\n",
       "      const script_attrs = bk_div.children[0].attributes;\n",
       "      for (let i = 0; i < script_attrs.length; i++) {\n",
       "        toinsert[toinsert.length - 1].firstChild.setAttribute(script_attrs[i].name, script_attrs[i].value);\n",
       "        toinsert[toinsert.length - 1].firstChild.textContent = bk_div.children[0].textContent\n",
       "      }\n",
       "      // store reference to server id on output_area\n",
       "      output_area._bokeh_server_id = output.metadata[EXEC_MIME_TYPE][\"server_id\"];\n",
       "    }\n",
       "  }\n",
       "\n",
       "  function register_renderer(events, OutputArea) {\n",
       "\n",
       "    function append_mime(data, metadata, element) {\n",
       "      // create a DOM node to render to\n",
       "      const toinsert = this.create_output_subarea(\n",
       "        metadata,\n",
       "        CLASS_NAME,\n",
       "        EXEC_MIME_TYPE\n",
       "      );\n",
       "      this.keyboard_manager.register_events(toinsert);\n",
       "      // Render to node\n",
       "      const props = {data: data, metadata: metadata[EXEC_MIME_TYPE]};\n",
       "      render(props, toinsert[toinsert.length - 1]);\n",
       "      element.append(toinsert);\n",
       "      return toinsert\n",
       "    }\n",
       "\n",
       "    /* Handle when an output is cleared or removed */\n",
       "    events.on('clear_output.CodeCell', handleClearOutput);\n",
       "    events.on('delete.Cell', handleClearOutput);\n",
       "\n",
       "    /* Handle when a new output is added */\n",
       "    events.on('output_added.OutputArea', handleAddOutput);\n",
       "\n",
       "    /**\n",
       "     * Register the mime type and append_mime function with output_area\n",
       "     */\n",
       "    OutputArea.prototype.register_mime_type(EXEC_MIME_TYPE, append_mime, {\n",
       "      /* Is output safe? */\n",
       "      safe: true,\n",
       "      /* Index of renderer in `output_area.display_order` */\n",
       "      index: 0\n",
       "    });\n",
       "  }\n",
       "\n",
       "  // register the mime type if in Jupyter Notebook environment and previously unregistered\n",
       "  if (root.Jupyter !== undefined) {\n",
       "    const events = require('base/js/events');\n",
       "    const OutputArea = require('notebook/js/outputarea').OutputArea;\n",
       "\n",
       "    if (OutputArea.prototype.mime_types().indexOf(EXEC_MIME_TYPE) == -1) {\n",
       "      register_renderer(events, OutputArea);\n",
       "    }\n",
       "  }\n",
       "  if (typeof (root._bokeh_timeout) === \"undefined\" || force === true) {\n",
       "    root._bokeh_timeout = Date.now() + 5000;\n",
       "    root._bokeh_failed_load = false;\n",
       "  }\n",
       "\n",
       "  const NB_LOAD_WARNING = {'data': {'text/html':\n",
       "     \"<div style='background-color: #fdd'>\\n\"+\n",
       "     \"<p>\\n\"+\n",
       "     \"BokehJS does not appear to have successfully loaded. If loading BokehJS from CDN, this \\n\"+\n",
       "     \"may be due to a slow or bad network connection. Possible fixes:\\n\"+\n",
       "     \"</p>\\n\"+\n",
       "     \"<ul>\\n\"+\n",
       "     \"<li>re-rerun `output_notebook()` to attempt to load from CDN again, or</li>\\n\"+\n",
       "     \"<li>use INLINE resources instead, as so:</li>\\n\"+\n",
       "     \"</ul>\\n\"+\n",
       "     \"<code>\\n\"+\n",
       "     \"from bokeh.resources import INLINE\\n\"+\n",
       "     \"output_notebook(resources=INLINE)\\n\"+\n",
       "     \"</code>\\n\"+\n",
       "     \"</div>\"}};\n",
       "\n",
       "  function display_loaded() {\n",
       "    const el = document.getElementById(\"1002\");\n",
       "    if (el != null) {\n",
       "      el.textContent = \"BokehJS is loading...\";\n",
       "    }\n",
       "    if (root.Bokeh !== undefined) {\n",
       "      if (el != null) {\n",
       "        el.textContent = \"BokehJS \" + root.Bokeh.version + \" successfully loaded.\";\n",
       "      }\n",
       "    } else if (Date.now() < root._bokeh_timeout) {\n",
       "      setTimeout(display_loaded, 100)\n",
       "    }\n",
       "  }\n",
       "\n",
       "  function run_callbacks() {\n",
       "    try {\n",
       "      root._bokeh_onload_callbacks.forEach(function(callback) {\n",
       "        if (callback != null)\n",
       "          callback();\n",
       "      });\n",
       "    } finally {\n",
       "      delete root._bokeh_onload_callbacks\n",
       "    }\n",
       "    console.debug(\"Bokeh: all callbacks have finished\");\n",
       "  }\n",
       "\n",
       "  function load_libs(css_urls, js_urls, callback) {\n",
       "    if (css_urls == null) css_urls = [];\n",
       "    if (js_urls == null) js_urls = [];\n",
       "\n",
       "    root._bokeh_onload_callbacks.push(callback);\n",
       "    if (root._bokeh_is_loading > 0) {\n",
       "      console.debug(\"Bokeh: BokehJS is being loaded, scheduling callback at\", now());\n",
       "      return null;\n",
       "    }\n",
       "    if (js_urls == null || js_urls.length === 0) {\n",
       "      run_callbacks();\n",
       "      return null;\n",
       "    }\n",
       "    console.debug(\"Bokeh: BokehJS not loaded, scheduling load and callback at\", now());\n",
       "    root._bokeh_is_loading = css_urls.length + js_urls.length;\n",
       "\n",
       "    function on_load() {\n",
       "      root._bokeh_is_loading--;\n",
       "      if (root._bokeh_is_loading === 0) {\n",
       "        console.debug(\"Bokeh: all BokehJS libraries/stylesheets loaded\");\n",
       "        run_callbacks()\n",
       "      }\n",
       "    }\n",
       "\n",
       "    function on_error(url) {\n",
       "      console.error(\"failed to load \" + url);\n",
       "    }\n",
       "\n",
       "    for (let i = 0; i < css_urls.length; i++) {\n",
       "      const url = css_urls[i];\n",
       "      const element = document.createElement(\"link\");\n",
       "      element.onload = on_load;\n",
       "      element.onerror = on_error.bind(null, url);\n",
       "      element.rel = \"stylesheet\";\n",
       "      element.type = \"text/css\";\n",
       "      element.href = url;\n",
       "      console.debug(\"Bokeh: injecting link tag for BokehJS stylesheet: \", url);\n",
       "      document.body.appendChild(element);\n",
       "    }\n",
       "\n",
       "    for (let i = 0; i < js_urls.length; i++) {\n",
       "      const url = js_urls[i];\n",
       "      const element = document.createElement('script');\n",
       "      element.onload = on_load;\n",
       "      element.onerror = on_error.bind(null, url);\n",
       "      element.async = false;\n",
       "      element.src = url;\n",
       "      console.debug(\"Bokeh: injecting script tag for BokehJS library: \", url);\n",
       "      document.head.appendChild(element);\n",
       "    }\n",
       "  };\n",
       "\n",
       "  function inject_raw_css(css) {\n",
       "    const element = document.createElement(\"style\");\n",
       "    element.appendChild(document.createTextNode(css));\n",
       "    document.body.appendChild(element);\n",
       "  }\n",
       "\n",
       "  const js_urls = [\"https://cdn.bokeh.org/bokeh/release/bokeh-2.4.3.min.js\", \"https://cdn.bokeh.org/bokeh/release/bokeh-gl-2.4.3.min.js\", \"https://cdn.bokeh.org/bokeh/release/bokeh-widgets-2.4.3.min.js\", \"https://cdn.bokeh.org/bokeh/release/bokeh-tables-2.4.3.min.js\", \"https://cdn.bokeh.org/bokeh/release/bokeh-mathjax-2.4.3.min.js\"];\n",
       "  const css_urls = [];\n",
       "\n",
       "  const inline_js = [    function(Bokeh) {\n",
       "      Bokeh.set_log_level(\"info\");\n",
       "    },\n",
       "function(Bokeh) {\n",
       "    }\n",
       "  ];\n",
       "\n",
       "  function run_inline_js() {\n",
       "    if (root.Bokeh !== undefined || force === true) {\n",
       "          for (let i = 0; i < inline_js.length; i++) {\n",
       "      inline_js[i].call(root, root.Bokeh);\n",
       "    }\n",
       "if (force === true) {\n",
       "        display_loaded();\n",
       "      }} else if (Date.now() < root._bokeh_timeout) {\n",
       "      setTimeout(run_inline_js, 100);\n",
       "    } else if (!root._bokeh_failed_load) {\n",
       "      console.log(\"Bokeh: BokehJS failed to load within specified timeout.\");\n",
       "      root._bokeh_failed_load = true;\n",
       "    } else if (force !== true) {\n",
       "      const cell = $(document.getElementById(\"1002\")).parents('.cell').data().cell;\n",
       "      cell.output_area.append_execute_result(NB_LOAD_WARNING)\n",
       "    }\n",
       "  }\n",
       "\n",
       "  if (root._bokeh_is_loading === 0) {\n",
       "    console.debug(\"Bokeh: BokehJS loaded, going straight to plotting\");\n",
       "    run_inline_js();\n",
       "  } else {\n",
       "    load_libs(css_urls, js_urls, function() {\n",
       "      console.debug(\"Bokeh: BokehJS plotting callback run at\", now());\n",
       "      run_inline_js();\n",
       "    });\n",
       "  }\n",
       "}(window));"
      ],
      "application/vnd.bokehjs_load.v0+json": "(function(root) {\n  function now() {\n    return new Date();\n  }\n\n  const force = true;\n\n  if (typeof root._bokeh_onload_callbacks === \"undefined\" || force === true) {\n    root._bokeh_onload_callbacks = [];\n    root._bokeh_is_loading = undefined;\n  }\n\n\n  if (typeof (root._bokeh_timeout) === \"undefined\" || force === true) {\n    root._bokeh_timeout = Date.now() + 5000;\n    root._bokeh_failed_load = false;\n  }\n\n  const NB_LOAD_WARNING = {'data': {'text/html':\n     \"<div style='background-color: #fdd'>\\n\"+\n     \"<p>\\n\"+\n     \"BokehJS does not appear to have successfully loaded. If loading BokehJS from CDN, this \\n\"+\n     \"may be due to a slow or bad network connection. Possible fixes:\\n\"+\n     \"</p>\\n\"+\n     \"<ul>\\n\"+\n     \"<li>re-rerun `output_notebook()` to attempt to load from CDN again, or</li>\\n\"+\n     \"<li>use INLINE resources instead, as so:</li>\\n\"+\n     \"</ul>\\n\"+\n     \"<code>\\n\"+\n     \"from bokeh.resources import INLINE\\n\"+\n     \"output_notebook(resources=INLINE)\\n\"+\n     \"</code>\\n\"+\n     \"</div>\"}};\n\n  function display_loaded() {\n    const el = document.getElementById(\"1002\");\n    if (el != null) {\n      el.textContent = \"BokehJS is loading...\";\n    }\n    if (root.Bokeh !== undefined) {\n      if (el != null) {\n        el.textContent = \"BokehJS \" + root.Bokeh.version + \" successfully loaded.\";\n      }\n    } else if (Date.now() < root._bokeh_timeout) {\n      setTimeout(display_loaded, 100)\n    }\n  }\n\n  function run_callbacks() {\n    try {\n      root._bokeh_onload_callbacks.forEach(function(callback) {\n        if (callback != null)\n          callback();\n      });\n    } finally {\n      delete root._bokeh_onload_callbacks\n    }\n    console.debug(\"Bokeh: all callbacks have finished\");\n  }\n\n  function load_libs(css_urls, js_urls, callback) {\n    if (css_urls == null) css_urls = [];\n    if (js_urls == null) js_urls = [];\n\n    root._bokeh_onload_callbacks.push(callback);\n    if (root._bokeh_is_loading > 0) {\n      console.debug(\"Bokeh: BokehJS is being loaded, scheduling callback at\", now());\n      return null;\n    }\n    if (js_urls == null || js_urls.length === 0) {\n      run_callbacks();\n      return null;\n    }\n    console.debug(\"Bokeh: BokehJS not loaded, scheduling load and callback at\", now());\n    root._bokeh_is_loading = css_urls.length + js_urls.length;\n\n    function on_load() {\n      root._bokeh_is_loading--;\n      if (root._bokeh_is_loading === 0) {\n        console.debug(\"Bokeh: all BokehJS libraries/stylesheets loaded\");\n        run_callbacks()\n      }\n    }\n\n    function on_error(url) {\n      console.error(\"failed to load \" + url);\n    }\n\n    for (let i = 0; i < css_urls.length; i++) {\n      const url = css_urls[i];\n      const element = document.createElement(\"link\");\n      element.onload = on_load;\n      element.onerror = on_error.bind(null, url);\n      element.rel = \"stylesheet\";\n      element.type = \"text/css\";\n      element.href = url;\n      console.debug(\"Bokeh: injecting link tag for BokehJS stylesheet: \", url);\n      document.body.appendChild(element);\n    }\n\n    for (let i = 0; i < js_urls.length; i++) {\n      const url = js_urls[i];\n      const element = document.createElement('script');\n      element.onload = on_load;\n      element.onerror = on_error.bind(null, url);\n      element.async = false;\n      element.src = url;\n      console.debug(\"Bokeh: injecting script tag for BokehJS library: \", url);\n      document.head.appendChild(element);\n    }\n  };\n\n  function inject_raw_css(css) {\n    const element = document.createElement(\"style\");\n    element.appendChild(document.createTextNode(css));\n    document.body.appendChild(element);\n  }\n\n  const js_urls = [\"https://cdn.bokeh.org/bokeh/release/bokeh-2.4.3.min.js\", \"https://cdn.bokeh.org/bokeh/release/bokeh-gl-2.4.3.min.js\", \"https://cdn.bokeh.org/bokeh/release/bokeh-widgets-2.4.3.min.js\", \"https://cdn.bokeh.org/bokeh/release/bokeh-tables-2.4.3.min.js\", \"https://cdn.bokeh.org/bokeh/release/bokeh-mathjax-2.4.3.min.js\"];\n  const css_urls = [];\n\n  const inline_js = [    function(Bokeh) {\n      Bokeh.set_log_level(\"info\");\n    },\nfunction(Bokeh) {\n    }\n  ];\n\n  function run_inline_js() {\n    if (root.Bokeh !== undefined || force === true) {\n          for (let i = 0; i < inline_js.length; i++) {\n      inline_js[i].call(root, root.Bokeh);\n    }\nif (force === true) {\n        display_loaded();\n      }} else if (Date.now() < root._bokeh_timeout) {\n      setTimeout(run_inline_js, 100);\n    } else if (!root._bokeh_failed_load) {\n      console.log(\"Bokeh: BokehJS failed to load within specified timeout.\");\n      root._bokeh_failed_load = true;\n    } else if (force !== true) {\n      const cell = $(document.getElementById(\"1002\")).parents('.cell').data().cell;\n      cell.output_area.append_execute_result(NB_LOAD_WARNING)\n    }\n  }\n\n  if (root._bokeh_is_loading === 0) {\n    console.debug(\"Bokeh: BokehJS loaded, going straight to plotting\");\n    run_inline_js();\n  } else {\n    load_libs(css_urls, js_urls, function() {\n      console.debug(\"Bokeh: BokehJS plotting callback run at\", now());\n      run_inline_js();\n    });\n  }\n}(window));"
     },
     "metadata": {},
     "output_type": "display_data"
    },
    {
     "data": {
      "text/html": [
       "<style>\n",
       "div.jp-MarkdownOutput {font-family: \"Times New Roman\", Times, serif;   \n",
       "    /* background-color: #eee;  */\n",
       "    /* border-left: 5px solid #00b5b4; */\n",
       "    font-size: 14pt;\n",
       "    line-height: 150%;\n",
       "}\n",
       ".text_cell_render {\n",
       "    font-family: \"Times New Roman\", Times, serif;    \n",
       "    /* background-color: #eee;  */\n",
       "    /* border-left: 5px solid #00b5b4; */\n",
       "    font-size: 18pt;\n",
       "    line-height: 150%;\n",
       "}\n",
       "\n",
       "h1 {\n",
       "    font-size: xx-large  !important;\n",
       "    margin-top: 0ex !important;\n",
       "}\n",
       "\n",
       "h2 {\n",
       "    font-size: larger !important;\n",
       "    margin-top: 0ex !important;\n",
       "    margin-bottom: 0ex !important;\n",
       "    padding-bottom: 0ex !important;\n",
       "}\n",
       "\n",
       "h3 {\n",
       "    font-size: large !important;\n",
       "    margin-top: 0ex !important;\n",
       "    margin-bottom: 1ex !important;\n",
       "    padding-bottom: 0ex !important;\n",
       "}\n",
       "\n",
       "mark {\n",
       "    background-color: #ffdd00;\n",
       "    border-top-right-radius: 5px;\n",
       "    border-top-left-radius: 5px;\n",
       "    border-bottom-right-radius: 5px;\n",
       "    border-bottom-left-radius: 5px;\n",
       "    padding-top: 0.1ex;\n",
       "    padding-bottom: 0.2ex;\n",
       "    padding-left: 0.7ex;\n",
       "    padding-right: 0.7ex;\n",
       "}\n",
       "\n",
       ".ita {\n",
       "    background-color: #bbddee;\n",
       "}\n",
       "\n",
       ".errore {background-color:#d88;\n",
       "        width:310px;\n",
       "        height:17ex;\n",
       "        display:inline-block;\n",
       "        margin:5px;\n",
       "        padding:8px;\n",
       "}\n",
       "\n",
       ".corretto {background-color:#2d8;\n",
       "        width:310px;\n",
       "        height:17ex;\n",
       "        display:inline-block;\n",
       "        margin:5px;\n",
       "        padding:8px;\n",
       "}\n",
       "\n",
       "n-a {background-color: #ffdddd;}\n",
       "\n",
       "ul, ol {\n",
       "     padding-left: 2ex !important;\n",
       "}\n",
       "ul {\n",
       "     margin-top: 0ex !important;\n",
       "     margin-bottom: 0ex !important;\n",
       "     list-style-type: square !important;\n",
       "}\n",
       "\n",
       "div.warn {    \n",
       "    background-color: #fcf2f2;\n",
       "    border-color: #dFb5b4;\n",
       "    border-left: 5px solid #dfb5b4;\n",
       "    margin-top: 1ex;\n",
       "    padding: 1ex;\n",
       "}\n",
       ".right{\n",
       "    float:right\n",
       "}\n",
       "\n",
       "hr { \n",
       "    display: block;\n",
       "    margin-top: 0.5ex;\n",
       "    margin-bottom: 0.5ex;\n",
       "    margin-left: auto;\n",
       "    margin-right: auto;\n",
       "    border-style: inset;\n",
       "    border-width: 1px;\n",
       "}\n",
       "</style>\n"
      ],
      "text/plain": [
       "<IPython.core.display.HTML object>"
      ]
     },
     "execution_count": 1,
     "metadata": {},
     "output_type": "execute_result"
    }
   ],
   "source": [
    "from  numpy import array, histogram, polyfit, random\n",
    "from bokeh.plotting import figure\n",
    "from bokeh.io import push_notebook, show, output_notebook, output_file\n",
    "output_notebook()\n",
    "options = dict(plot_height=300, plot_width=600, tools=\"pan,wheel_zoom,reset,save,crosshair\")\n",
    "\n",
    "# this loads functions for interactions with the graphic\n",
    "from ipywidgets import interact, fixed, FloatSlider, IntSlider, Button, Checkbox, HBox, Label\n",
    "\n",
    "# this loads some H Vietoris topologyTML style files\n",
    "from IPython.display import HTML, display, Latex\n",
    "with open( './style/custom.css', 'r' ) as f: html_style = f.read()\n",
    "HTML( html_style )"
   ]
  },
  {
   "cell_type": "markdown",
   "id": "82013f22",
   "metadata": {},
   "source": [
    "# Regressione lineare (semplice)\n",
    "\n",
    "In un esperimento misuriamo coppie di valori $(x_i,y_i)$ per $i=1,\\dots,n$.\n",
    "\n",
    "Per esempio: (tempo, spazio), (temperatura, volume), ecc.\n",
    "\n",
    "In teoria questi valori dovrebbero essere correlati linearmente: \n",
    "\n",
    "$$y_i=\\beta_0+\\beta_1 x_i$$\n",
    "\n",
    "Però la misura delle $y$ è soggetta ad errori e la vera relazione tra le misure è\n",
    "\n",
    "$$y_i=\\beta_0+\\beta_1 x_i+e_i$$\n",
    "\n",
    "dove $e_i$ sono degli errori (ignoti).\n",
    "\n",
    "Le $x_i$ si chiamano <mark>predittori</mark>.\n",
    "\n",
    "Le $y_i$ si chiamano <mark>risposte</mark>.\n",
    "\n",
    "Non esiste un metodo *ovvio* per inferire i parametri $\\beta_0$ e $\\beta_1$ dai dati $(x_i,y_i)$ per $i=1,\\dots,n$. \n",
    "\n",
    "La scelta comune è di cercare quei parametri $\\beta_0$ e $\\beta_1$ che minimizzano le grandezze $e_i$. Però  generalmente non è possibile minimizzare *contemporaneamente* tutti gli errori. Dobbiamo quindi aggregare gli errori in un unico numero che rappresenti l'errore \"totale\".\n",
    "\n",
    "La funzione anche aggrega gli errori si chiama <mark>cost function</mark>. Ci sono ininite possibililà. Per esempio, due scelte \"ragionevoli\" sono\n",
    "\n",
    "1. minimizzare $$\\sum_{i=1}^n |e_i|=\\sum_{i=1}^n |y_i-\\beta_0-\\beta_1 x_i|$$\n",
    "\n",
    "2. minimizzare $$\\sum_{i=1}^n (e_i)^2=\\sum_{i=1}^n (y_i-\\beta_0-\\beta_1 x_i)^2$$\n",
    "\n",
    "Generalmente **si opta per seconda scelta** perché è un'espressione più semplice da trattare in maniera analitica. Quando i calcoli andavano fatti a mano questa era una scelta obbligata e l'abitudine si è consolidata negli anni. Inoltre, l'analisi statistica che faremo più sotto è notevolmente semplificata nel secondo caso.\n",
    "\n",
    "\n",
    "Terminologia: spesso si scrive <mark>RSS</mark> (residual sum of squares) per il numero\n",
    "\n",
    "$\\displaystyle\\sum_{{i=1}}^n e_i^2 = \\sum_{i=1}^n (y_i-\\beta_0-\\beta_1 x_i)^2$"
   ]
  },
  {
   "cell_type": "markdown",
   "id": "71df5f20",
   "metadata": {},
   "source": [
    "Esempio: consideriamo i dati in figura \n",
    "\n",
    "$$[x_1,\\dots,x_9]=[0,\\ 1,\\ 2,\\ 3,\\ 4,\\ 5,\\ 6,\\ 7,\\ 8]$$\n",
    "\n",
    "$$[y_1,\\dots,y_9]=[1.5,\\ 2,\\ 3,\\ 5,\\ 4,\\ 6.5,\\ 8,\\ 7,\\ 9]$$\n",
    "\n",
    "Un grafico come quello qui sotto si chiama <mark>scatterplot</mark>"
   ]
  },
  {
   "cell_type": "code",
   "execution_count": 2,
   "id": "e8c45208",
   "metadata": {},
   "outputs": [
    {
     "data": {
      "text/html": [
       "\n",
       "  <div class=\"bk-root\" id=\"e4b67c45-0ce3-4a3b-9a6b-c0c754b47c94\" data-root-id=\"1003\"></div>\n"
      ]
     },
     "metadata": {},
     "output_type": "display_data"
    },
    {
     "data": {
      "application/javascript": [
       "(function(root) {\n",
       "  function embed_document(root) {\n",
       "  const docs_json = {\"f5625cb6-ff48-44f0-8300-1184896aa04a\":{\"defs\":[],\"roots\":{\"references\":[{\"attributes\":{\"below\":[{\"id\":\"1014\"}],\"center\":[{\"id\":\"1017\"},{\"id\":\"1021\"}],\"height\":300,\"left\":[{\"id\":\"1018\"}],\"renderers\":[{\"id\":\"1037\"}],\"title\":{\"id\":\"1004\"},\"toolbar\":{\"id\":\"1027\"},\"x_range\":{\"id\":\"1006\"},\"x_scale\":{\"id\":\"1010\"},\"y_range\":{\"id\":\"1008\"},\"y_scale\":{\"id\":\"1012\"}},\"id\":\"1003\",\"subtype\":\"Figure\",\"type\":\"Plot\"},{\"attributes\":{},\"id\":\"1044\",\"type\":\"BasicTickFormatter\"},{\"attributes\":{},\"id\":\"1042\",\"type\":\"AllLabels\"},{\"attributes\":{},\"id\":\"1045\",\"type\":\"AllLabels\"},{\"attributes\":{\"axis_label\":\"x\",\"coordinates\":null,\"formatter\":{\"id\":\"1044\"},\"group\":null,\"major_label_policy\":{\"id\":\"1045\"},\"ticker\":{\"id\":\"1015\"}},\"id\":\"1014\",\"type\":\"LinearAxis\"},{\"attributes\":{},\"id\":\"1023\",\"type\":\"WheelZoomTool\"},{\"attributes\":{},\"id\":\"1022\",\"type\":\"PanTool\"},{\"attributes\":{},\"id\":\"1012\",\"type\":\"LinearScale\"},{\"attributes\":{\"data\":{\"x\":[0,1,2,3,4,5,6,7,8],\"y\":{\"__ndarray__\":\"AAAAAAAA+D8AAAAAAAAAQAAAAAAAAAhAAAAAAAAAFEAAAAAAAAAQQAAAAAAAABpAAAAAAAAAIEAAAAAAAAAcQAAAAAAAACJA\",\"dtype\":\"float64\",\"order\":\"little\",\"shape\":[9]}},\"selected\":{\"id\":\"1047\"},\"selection_policy\":{\"id\":\"1046\"}},\"id\":\"1033\",\"type\":\"ColumnDataSource\"},{\"attributes\":{},\"id\":\"1015\",\"type\":\"BasicTicker\"},{\"attributes\":{\"axis\":{\"id\":\"1018\"},\"coordinates\":null,\"dimension\":1,\"group\":null,\"ticker\":null},\"id\":\"1021\",\"type\":\"Grid\"},{\"attributes\":{\"end\":10,\"start\":-1},\"id\":\"1008\",\"type\":\"Range1d\"},{\"attributes\":{},\"id\":\"1019\",\"type\":\"BasicTicker\"},{\"attributes\":{\"fill_color\":{\"value\":\"#1f77b4\"},\"line_color\":{\"value\":\"#1f77b4\"},\"x\":{\"field\":\"x\"},\"y\":{\"field\":\"y\"}},\"id\":\"1034\",\"type\":\"Circle\"},{\"attributes\":{\"end\":10,\"start\":-1},\"id\":\"1006\",\"type\":\"Range1d\"},{\"attributes\":{},\"id\":\"1046\",\"type\":\"UnionRenderers\"},{\"attributes\":{},\"id\":\"1024\",\"type\":\"ResetTool\"},{\"attributes\":{},\"id\":\"1010\",\"type\":\"LinearScale\"},{\"attributes\":{},\"id\":\"1025\",\"type\":\"SaveTool\"},{\"attributes\":{},\"id\":\"1026\",\"type\":\"CrosshairTool\"},{\"attributes\":{},\"id\":\"1047\",\"type\":\"Selection\"},{\"attributes\":{\"coordinates\":null,\"group\":null,\"text\":\"Un esempio di scatterplot\"},\"id\":\"1004\",\"type\":\"Title\"},{\"attributes\":{\"tools\":[{\"id\":\"1022\"},{\"id\":\"1023\"},{\"id\":\"1024\"},{\"id\":\"1025\"},{\"id\":\"1026\"}]},\"id\":\"1027\",\"type\":\"Toolbar\"},{\"attributes\":{\"axis\":{\"id\":\"1014\"},\"coordinates\":null,\"group\":null,\"ticker\":null},\"id\":\"1017\",\"type\":\"Grid\"},{\"attributes\":{\"fill_alpha\":{\"value\":0.1},\"fill_color\":{\"value\":\"#1f77b4\"},\"hatch_alpha\":{\"value\":0.1},\"line_alpha\":{\"value\":0.1},\"line_color\":{\"value\":\"#1f77b4\"},\"x\":{\"field\":\"x\"},\"y\":{\"field\":\"y\"}},\"id\":\"1035\",\"type\":\"Circle\"},{\"attributes\":{\"source\":{\"id\":\"1033\"}},\"id\":\"1038\",\"type\":\"CDSView\"},{\"attributes\":{\"fill_alpha\":{\"value\":0.2},\"fill_color\":{\"value\":\"#1f77b4\"},\"hatch_alpha\":{\"value\":0.2},\"line_alpha\":{\"value\":0.2},\"line_color\":{\"value\":\"#1f77b4\"},\"x\":{\"field\":\"x\"},\"y\":{\"field\":\"y\"}},\"id\":\"1036\",\"type\":\"Circle\"},{\"attributes\":{\"axis_label\":\"y\",\"coordinates\":null,\"formatter\":{\"id\":\"1041\"},\"group\":null,\"major_label_policy\":{\"id\":\"1042\"},\"ticker\":{\"id\":\"1019\"}},\"id\":\"1018\",\"type\":\"LinearAxis\"},{\"attributes\":{},\"id\":\"1041\",\"type\":\"BasicTickFormatter\"},{\"attributes\":{\"coordinates\":null,\"data_source\":{\"id\":\"1033\"},\"glyph\":{\"id\":\"1034\"},\"group\":null,\"hover_glyph\":null,\"muted_glyph\":{\"id\":\"1036\"},\"nonselection_glyph\":{\"id\":\"1035\"},\"view\":{\"id\":\"1038\"}},\"id\":\"1037\",\"type\":\"GlyphRenderer\"}],\"root_ids\":[\"1003\"]},\"title\":\"Bokeh Application\",\"version\":\"2.4.3\"}};\n",
       "  const render_items = [{\"docid\":\"f5625cb6-ff48-44f0-8300-1184896aa04a\",\"root_ids\":[\"1003\"],\"roots\":{\"1003\":\"e4b67c45-0ce3-4a3b-9a6b-c0c754b47c94\"}}];\n",
       "  root.Bokeh.embed.embed_items_notebook(docs_json, render_items);\n",
       "  }\n",
       "  if (root.Bokeh !== undefined) {\n",
       "    embed_document(root);\n",
       "  } else {\n",
       "    let attempts = 0;\n",
       "    const timer = setInterval(function(root) {\n",
       "      if (root.Bokeh !== undefined) {\n",
       "        clearInterval(timer);\n",
       "        embed_document(root);\n",
       "      } else {\n",
       "        attempts++;\n",
       "        if (attempts > 100) {\n",
       "          clearInterval(timer);\n",
       "          console.log(\"Bokeh: ERROR: Unable to run BokehJS code because BokehJS library is missing\");\n",
       "        }\n",
       "      }\n",
       "    }, 10, root)\n",
       "  }\n",
       "})(window);"
      ],
      "application/vnd.bokehjs_exec.v0+json": ""
     },
     "metadata": {
      "application/vnd.bokehjs_exec.v0+json": {
       "id": "1003"
      }
     },
     "output_type": "display_data"
    }
   ],
   "source": [
    "x=array([0,1,2,3,4,5,6,7,8])\n",
    "y=array([1.5,2,3,5,4,6.5,8,7,9])\n",
    "fig=figure(**options,title=\"Un esempio di scatterplot\",\n",
    "                x_axis_label = \"x\",\n",
    "                y_axis_label = \"y\",\n",
    "                x_range=(-1, 10  ),      # range x da visualizzare inizialmente\n",
    "                y_range=(-1, 10 ),       # range y da visualizzare inizialmente \n",
    "          )\n",
    "fig.circle(x,y)\n",
    "show(fig)"
   ]
  },
  {
   "cell_type": "markdown",
   "id": "8cfeb87c",
   "metadata": {},
   "source": [
    "Una data una scelta di $\\beta_0$ e $\\beta_1$ gli errori $e_i$ sono quelli rappresentati dai segmenti blu in figura. Hanno segno positivo se il valore osservato staa sopra la retta interpolante, negativo se sgà sotto."
   ]
  },
  {
   "cell_type": "code",
   "execution_count": 3,
   "id": "54535e6d",
   "metadata": {},
   "outputs": [
    {
     "data": {
      "text/latex": [
       "$\\qquad\\displaystyle\\sum_{i=1}^n |e_i|=\\ $5.12     $\\qquad\\displaystyle\\sum_{i=1}^n e_i^2=\\ $4.18     $\\qquad\\beta_0=\\ $1.34     $\\qquad\\beta_1=\\ $0.94"
      ],
      "text/plain": [
       "<IPython.core.display.Latex object>"
      ]
     },
     "metadata": {},
     "output_type": "display_data"
    },
    {
     "data": {
      "text/html": [
       "\n",
       "  <div class=\"bk-root\" id=\"635eb247-4166-436c-a1a7-9c912809f41c\" data-root-id=\"1093\"></div>\n"
      ]
     },
     "metadata": {},
     "output_type": "display_data"
    },
    {
     "data": {
      "application/javascript": [
       "(function(root) {\n",
       "  function embed_document(root) {\n",
       "  const docs_json = {\"a6a262a2-238e-4efb-b81b-f57aaa1dc3ca\":{\"defs\":[],\"roots\":{\"references\":[{\"attributes\":{\"below\":[{\"id\":\"1102\"}],\"center\":[{\"id\":\"1105\"},{\"id\":\"1109\"},{\"id\":\"1217\"}],\"height\":300,\"left\":[{\"id\":\"1106\"}],\"renderers\":[{\"id\":\"1125\"},{\"id\":\"1131\"},{\"id\":\"1137\"},{\"id\":\"1143\"},{\"id\":\"1149\"},{\"id\":\"1155\"},{\"id\":\"1161\"},{\"id\":\"1167\"},{\"id\":\"1173\"},{\"id\":\"1179\"},{\"id\":\"1185\"}],\"title\":{\"id\":\"1187\"},\"toolbar\":{\"id\":\"1115\"},\"x_range\":{\"id\":\"1094\"},\"x_scale\":{\"id\":\"1098\"},\"y_range\":{\"id\":\"1096\"},\"y_scale\":{\"id\":\"1100\"}},\"id\":\"1093\",\"subtype\":\"Figure\",\"type\":\"Plot\"},{\"attributes\":{\"line_color\":\"blue\",\"x\":{\"field\":\"x\"},\"y\":{\"field\":\"y\"}},\"id\":\"1152\",\"type\":\"Line\"},{\"attributes\":{\"line_alpha\":0.1,\"line_color\":\"blue\",\"x\":{\"field\":\"x\"},\"y\":{\"field\":\"y\"}},\"id\":\"1135\",\"type\":\"Line\"},{\"attributes\":{\"line_alpha\":0.1,\"line_color\":\"blue\",\"x\":{\"field\":\"x\"},\"y\":{\"field\":\"y\"}},\"id\":\"1153\",\"type\":\"Line\"},{\"attributes\":{\"line_color\":\"blue\",\"x\":{\"field\":\"x\"},\"y\":{\"field\":\"y\"}},\"id\":\"1134\",\"type\":\"Line\"},{\"attributes\":{\"line_alpha\":0.2,\"line_color\":\"blue\",\"x\":{\"field\":\"x\"},\"y\":{\"field\":\"y\"}},\"id\":\"1154\",\"type\":\"Line\"},{\"attributes\":{\"source\":{\"id\":\"1151\"}},\"id\":\"1156\",\"type\":\"CDSView\"},{\"attributes\":{\"line_alpha\":0.2,\"line_color\":\"blue\",\"x\":{\"field\":\"x\"},\"y\":{\"field\":\"y\"}},\"id\":\"1148\",\"type\":\"Line\"},{\"attributes\":{\"coordinates\":null,\"data_source\":{\"id\":\"1145\"},\"glyph\":{\"id\":\"1146\"},\"group\":null,\"hover_glyph\":null,\"muted_glyph\":{\"id\":\"1148\"},\"nonselection_glyph\":{\"id\":\"1147\"},\"view\":{\"id\":\"1150\"}},\"id\":\"1149\",\"type\":\"GlyphRenderer\"},{\"attributes\":{\"line_alpha\":0.2,\"line_color\":\"blue\",\"x\":{\"field\":\"x\"},\"y\":{\"field\":\"y\"}},\"id\":\"1160\",\"type\":\"Line\"},{\"attributes\":{},\"id\":\"1211\",\"type\":\"UnionRenderers\"},{\"attributes\":{\"line_alpha\":0.1,\"line_color\":\"blue\",\"x\":{\"field\":\"x\"},\"y\":{\"field\":\"y\"}},\"id\":\"1147\",\"type\":\"Line\"},{\"attributes\":{\"data\":{\"x\":[7,7],\"y\":[7.0,7.936111111111112]},\"selected\":{\"id\":\"1212\"},\"selection_policy\":{\"id\":\"1211\"}},\"id\":\"1169\",\"type\":\"ColumnDataSource\"},{\"attributes\":{},\"id\":\"1190\",\"type\":\"BasicTickFormatter\"},{\"attributes\":{\"line_alpha\":0.2,\"line_color\":\"blue\",\"x\":{\"field\":\"x\"},\"y\":{\"field\":\"y\"}},\"id\":\"1166\",\"type\":\"Line\"},{\"attributes\":{\"data\":{\"x\":[5,5],\"y\":[6.5,6.052777777777778]},\"selected\":{\"id\":\"1208\"},\"selection_policy\":{\"id\":\"1207\"}},\"id\":\"1157\",\"type\":\"ColumnDataSource\"},{\"attributes\":{},\"id\":\"1212\",\"type\":\"Selection\"},{\"attributes\":{\"coordinates\":null,\"data_source\":{\"id\":\"1157\"},\"glyph\":{\"id\":\"1158\"},\"group\":null,\"hover_glyph\":null,\"muted_glyph\":{\"id\":\"1160\"},\"nonselection_glyph\":{\"id\":\"1159\"},\"view\":{\"id\":\"1162\"}},\"id\":\"1161\",\"type\":\"GlyphRenderer\"},{\"attributes\":{\"tools\":[{\"id\":\"1110\"},{\"id\":\"1111\"},{\"id\":\"1112\"},{\"id\":\"1113\"},{\"id\":\"1114\"}]},\"id\":\"1115\",\"type\":\"Toolbar\"},{\"attributes\":{},\"id\":\"1191\",\"type\":\"AllLabels\"},{\"attributes\":{\"line_color\":\"blue\",\"x\":{\"field\":\"x\"},\"y\":{\"field\":\"y\"}},\"id\":\"1140\",\"type\":\"Line\"},{\"attributes\":{\"source\":{\"id\":\"1157\"}},\"id\":\"1162\",\"type\":\"CDSView\"},{\"attributes\":{\"line_alpha\":0.1,\"line_color\":\"blue\",\"x\":{\"field\":\"x\"},\"y\":{\"field\":\"y\"}},\"id\":\"1159\",\"type\":\"Line\"},{\"attributes\":{\"line_color\":\"blue\",\"x\":{\"field\":\"x\"},\"y\":{\"field\":\"y\"}},\"id\":\"1158\",\"type\":\"Line\"},{\"attributes\":{},\"id\":\"1193\",\"type\":\"BasicTickFormatter\"},{\"attributes\":{\"line_alpha\":0.1,\"line_color\":\"blue\",\"x\":{\"field\":\"x\"},\"y\":{\"field\":\"y\"}},\"id\":\"1141\",\"type\":\"Line\"},{\"attributes\":{\"line_alpha\":0.2,\"line_color\":\"red\",\"x\":{\"field\":\"x\"},\"y\":{\"field\":\"y\"}},\"id\":\"1184\",\"type\":\"Line\"},{\"attributes\":{\"source\":{\"id\":\"1175\"}},\"id\":\"1180\",\"type\":\"CDSView\"},{\"attributes\":{\"source\":{\"id\":\"1139\"}},\"id\":\"1144\",\"type\":\"CDSView\"},{\"attributes\":{\"data\":{\"x\":[6,6],\"y\":[8.0,6.994444444444445]},\"selected\":{\"id\":\"1210\"},\"selection_policy\":{\"id\":\"1209\"}},\"id\":\"1163\",\"type\":\"ColumnDataSource\"},{\"attributes\":{},\"id\":\"1194\",\"type\":\"AllLabels\"},{\"attributes\":{\"coordinates\":null,\"data_source\":{\"id\":\"1163\"},\"glyph\":{\"id\":\"1164\"},\"group\":null,\"hover_glyph\":null,\"muted_glyph\":{\"id\":\"1166\"},\"nonselection_glyph\":{\"id\":\"1165\"},\"view\":{\"id\":\"1168\"}},\"id\":\"1167\",\"type\":\"GlyphRenderer\"},{\"attributes\":{\"coordinates\":null,\"data_source\":{\"id\":\"1127\"},\"glyph\":{\"id\":\"1128\"},\"group\":null,\"hover_glyph\":null,\"muted_glyph\":{\"id\":\"1130\"},\"nonselection_glyph\":{\"id\":\"1129\"},\"view\":{\"id\":\"1132\"}},\"id\":\"1131\",\"type\":\"GlyphRenderer\"},{\"attributes\":{\"source\":{\"id\":\"1163\"}},\"id\":\"1168\",\"type\":\"CDSView\"},{\"attributes\":{\"line_alpha\":0.1,\"line_color\":\"blue\",\"x\":{\"field\":\"x\"},\"y\":{\"field\":\"y\"}},\"id\":\"1165\",\"type\":\"Line\"},{\"attributes\":{\"coordinates\":null,\"data_source\":{\"id\":\"1139\"},\"glyph\":{\"id\":\"1140\"},\"group\":null,\"hover_glyph\":null,\"muted_glyph\":{\"id\":\"1142\"},\"nonselection_glyph\":{\"id\":\"1141\"},\"view\":{\"id\":\"1144\"}},\"id\":\"1143\",\"type\":\"GlyphRenderer\"},{\"attributes\":{\"line_color\":\"blue\",\"x\":{\"field\":\"x\"},\"y\":{\"field\":\"y\"}},\"id\":\"1164\",\"type\":\"Line\"},{\"attributes\":{\"line_alpha\":0.2,\"line_color\":\"blue\",\"x\":{\"field\":\"x\"},\"y\":{\"field\":\"y\"}},\"id\":\"1142\",\"type\":\"Line\"},{\"attributes\":{\"line_alpha\":0.1,\"line_color\":\"blue\",\"x\":{\"field\":\"x\"},\"y\":{\"field\":\"y\"}},\"id\":\"1177\",\"type\":\"Line\"},{\"attributes\":{\"label\":{\"value\":\"y = 1.34 + 0.94 x\"},\"renderers\":[{\"id\":\"1185\"}]},\"id\":\"1218\",\"type\":\"LegendItem\"},{\"attributes\":{\"line_alpha\":0.2,\"line_color\":\"blue\",\"x\":{\"field\":\"x\"},\"y\":{\"field\":\"y\"}},\"id\":\"1172\",\"type\":\"Line\"},{\"attributes\":{\"line_alpha\":0.1,\"line_color\":\"red\",\"x\":{\"field\":\"x\"},\"y\":{\"field\":\"y\"}},\"id\":\"1183\",\"type\":\"Line\"},{\"attributes\":{},\"id\":\"1213\",\"type\":\"UnionRenderers\"},{\"attributes\":{\"line_alpha\":0.2,\"line_color\":\"blue\",\"x\":{\"field\":\"x\"},\"y\":{\"field\":\"y\"}},\"id\":\"1178\",\"type\":\"Line\"},{\"attributes\":{\"data\":{\"x\":[0,0],\"y\":[1.5,1.3444444444444448]},\"selected\":{\"id\":\"1198\"},\"selection_policy\":{\"id\":\"1197\"}},\"id\":\"1127\",\"type\":\"ColumnDataSource\"},{\"attributes\":{\"line_alpha\":0.1,\"line_color\":\"blue\",\"x\":{\"field\":\"x\"},\"y\":{\"field\":\"y\"}},\"id\":\"1171\",\"type\":\"Line\"},{\"attributes\":{\"line_color\":\"blue\",\"x\":{\"field\":\"x\"},\"y\":{\"field\":\"y\"}},\"id\":\"1170\",\"type\":\"Line\"},{\"attributes\":{},\"id\":\"1195\",\"type\":\"UnionRenderers\"},{\"attributes\":{},\"id\":\"1214\",\"type\":\"Selection\"},{\"attributes\":{\"line_color\":\"blue\",\"x\":{\"field\":\"x\"},\"y\":{\"field\":\"y\"}},\"id\":\"1146\",\"type\":\"Line\"},{\"attributes\":{\"line_color\":\"blue\",\"x\":{\"field\":\"x\"},\"y\":{\"field\":\"y\"}},\"id\":\"1176\",\"type\":\"Line\"},{\"attributes\":{},\"id\":\"1196\",\"type\":\"Selection\"},{\"attributes\":{\"source\":{\"id\":\"1181\"}},\"id\":\"1186\",\"type\":\"CDSView\"},{\"attributes\":{\"coordinates\":null,\"group\":null,\"items\":[{\"id\":\"1218\"}],\"location\":\"bottom_right\"},\"id\":\"1217\",\"type\":\"Legend\"},{\"attributes\":{\"line_color\":\"blue\",\"x\":{\"field\":\"x\"},\"y\":{\"field\":\"y\"}},\"id\":\"1128\",\"type\":\"Line\"},{\"attributes\":{\"coordinates\":null,\"group\":null},\"id\":\"1187\",\"type\":\"Title\"},{\"attributes\":{\"data\":{\"x\":[3,3],\"y\":[5.0,4.169444444444445]},\"selected\":{\"id\":\"1204\"},\"selection_policy\":{\"id\":\"1203\"}},\"id\":\"1145\",\"type\":\"ColumnDataSource\"},{\"attributes\":{\"coordinates\":null,\"data_source\":{\"id\":\"1133\"},\"glyph\":{\"id\":\"1134\"},\"group\":null,\"hover_glyph\":null,\"muted_glyph\":{\"id\":\"1136\"},\"nonselection_glyph\":{\"id\":\"1135\"},\"view\":{\"id\":\"1138\"}},\"id\":\"1137\",\"type\":\"GlyphRenderer\"},{\"attributes\":{\"line_alpha\":0.2,\"line_color\":\"blue\",\"x\":{\"field\":\"x\"},\"y\":{\"field\":\"y\"}},\"id\":\"1136\",\"type\":\"Line\"},{\"attributes\":{\"source\":{\"id\":\"1127\"}},\"id\":\"1132\",\"type\":\"CDSView\"},{\"attributes\":{\"data\":{\"x\":[0,1,2,3,4,5,6,7,8],\"y\":[1.3444444444444448,2.2861111111111114,3.227777777777778,4.169444444444445,5.111111111111112,6.052777777777778,6.994444444444445,7.936111111111112,8.877777777777778]},\"selected\":{\"id\":\"1216\"},\"selection_policy\":{\"id\":\"1215\"}},\"id\":\"1181\",\"type\":\"ColumnDataSource\"},{\"attributes\":{\"line_color\":\"red\",\"x\":{\"field\":\"x\"},\"y\":{\"field\":\"y\"}},\"id\":\"1182\",\"type\":\"Line\"},{\"attributes\":{},\"id\":\"1215\",\"type\":\"UnionRenderers\"},{\"attributes\":{},\"id\":\"1216\",\"type\":\"Selection\"},{\"attributes\":{\"source\":{\"id\":\"1133\"}},\"id\":\"1138\",\"type\":\"CDSView\"},{\"attributes\":{},\"id\":\"1197\",\"type\":\"UnionRenderers\"},{\"attributes\":{},\"id\":\"1198\",\"type\":\"Selection\"},{\"attributes\":{\"coordinates\":null,\"data_source\":{\"id\":\"1181\"},\"glyph\":{\"id\":\"1182\"},\"group\":null,\"hover_glyph\":null,\"muted_glyph\":{\"id\":\"1184\"},\"nonselection_glyph\":{\"id\":\"1183\"},\"view\":{\"id\":\"1186\"}},\"id\":\"1185\",\"type\":\"GlyphRenderer\"},{\"attributes\":{},\"id\":\"1110\",\"type\":\"PanTool\"},{\"attributes\":{\"end\":10,\"start\":-1},\"id\":\"1094\",\"type\":\"Range1d\"},{\"attributes\":{},\"id\":\"1107\",\"type\":\"BasicTicker\"},{\"attributes\":{\"data\":{\"x\":[0,1,2,3,4,5,6,7,8],\"y\":{\"__ndarray__\":\"AAAAAAAA+D8AAAAAAAAAQAAAAAAAAAhAAAAAAAAAFEAAAAAAAAAQQAAAAAAAABpAAAAAAAAAIEAAAAAAAAAcQAAAAAAAACJA\",\"dtype\":\"float64\",\"order\":\"little\",\"shape\":[9]}},\"selected\":{\"id\":\"1196\"},\"selection_policy\":{\"id\":\"1195\"}},\"id\":\"1121\",\"type\":\"ColumnDataSource\"},{\"attributes\":{},\"id\":\"1114\",\"type\":\"CrosshairTool\"},{\"attributes\":{\"coordinates\":null,\"data_source\":{\"id\":\"1121\"},\"glyph\":{\"id\":\"1122\"},\"group\":null,\"hover_glyph\":null,\"muted_glyph\":{\"id\":\"1124\"},\"nonselection_glyph\":{\"id\":\"1123\"},\"view\":{\"id\":\"1126\"}},\"id\":\"1125\",\"type\":\"GlyphRenderer\"},{\"attributes\":{\"fill_alpha\":{\"value\":0.2},\"fill_color\":{\"value\":\"#1f77b4\"},\"hatch_alpha\":{\"value\":0.2},\"line_alpha\":{\"value\":0.2},\"line_color\":{\"value\":\"#1f77b4\"},\"x\":{\"field\":\"x\"},\"y\":{\"field\":\"y\"}},\"id\":\"1124\",\"type\":\"Circle\"},{\"attributes\":{\"fill_color\":{\"value\":\"#1f77b4\"},\"line_color\":{\"value\":\"#1f77b4\"},\"x\":{\"field\":\"x\"},\"y\":{\"field\":\"y\"}},\"id\":\"1122\",\"type\":\"Circle\"},{\"attributes\":{},\"id\":\"1111\",\"type\":\"WheelZoomTool\"},{\"attributes\":{},\"id\":\"1199\",\"type\":\"UnionRenderers\"},{\"attributes\":{},\"id\":\"1200\",\"type\":\"Selection\"},{\"attributes\":{},\"id\":\"1112\",\"type\":\"ResetTool\"},{\"attributes\":{\"coordinates\":null,\"data_source\":{\"id\":\"1169\"},\"glyph\":{\"id\":\"1170\"},\"group\":null,\"hover_glyph\":null,\"muted_glyph\":{\"id\":\"1172\"},\"nonselection_glyph\":{\"id\":\"1171\"},\"view\":{\"id\":\"1174\"}},\"id\":\"1173\",\"type\":\"GlyphRenderer\"},{\"attributes\":{\"coordinates\":null,\"data_source\":{\"id\":\"1151\"},\"glyph\":{\"id\":\"1152\"},\"group\":null,\"hover_glyph\":null,\"muted_glyph\":{\"id\":\"1154\"},\"nonselection_glyph\":{\"id\":\"1153\"},\"view\":{\"id\":\"1156\"}},\"id\":\"1155\",\"type\":\"GlyphRenderer\"},{\"attributes\":{\"coordinates\":null,\"data_source\":{\"id\":\"1175\"},\"glyph\":{\"id\":\"1176\"},\"group\":null,\"hover_glyph\":null,\"muted_glyph\":{\"id\":\"1178\"},\"nonselection_glyph\":{\"id\":\"1177\"},\"view\":{\"id\":\"1180\"}},\"id\":\"1179\",\"type\":\"GlyphRenderer\"},{\"attributes\":{\"axis\":{\"id\":\"1106\"},\"coordinates\":null,\"dimension\":1,\"group\":null,\"ticker\":null},\"id\":\"1109\",\"type\":\"Grid\"},{\"attributes\":{\"data\":{\"x\":[8,8],\"y\":[9.0,8.877777777777778]},\"selected\":{\"id\":\"1214\"},\"selection_policy\":{\"id\":\"1213\"}},\"id\":\"1175\",\"type\":\"ColumnDataSource\"},{\"attributes\":{\"data\":{\"x\":[4,4],\"y\":[4.0,5.111111111111112]},\"selected\":{\"id\":\"1206\"},\"selection_policy\":{\"id\":\"1205\"}},\"id\":\"1151\",\"type\":\"ColumnDataSource\"},{\"attributes\":{\"source\":{\"id\":\"1121\"}},\"id\":\"1126\",\"type\":\"CDSView\"},{\"attributes\":{\"source\":{\"id\":\"1169\"}},\"id\":\"1174\",\"type\":\"CDSView\"},{\"attributes\":{\"coordinates\":null,\"formatter\":{\"id\":\"1190\"},\"group\":null,\"major_label_policy\":{\"id\":\"1191\"},\"ticker\":{\"id\":\"1107\"}},\"id\":\"1106\",\"type\":\"LinearAxis\"},{\"attributes\":{\"line_alpha\":0.1,\"line_color\":\"blue\",\"x\":{\"field\":\"x\"},\"y\":{\"field\":\"y\"}},\"id\":\"1129\",\"type\":\"Line\"},{\"attributes\":{\"data\":{\"x\":[1,1],\"y\":[2.0,2.2861111111111114]},\"selected\":{\"id\":\"1200\"},\"selection_policy\":{\"id\":\"1199\"}},\"id\":\"1133\",\"type\":\"ColumnDataSource\"},{\"attributes\":{},\"id\":\"1113\",\"type\":\"SaveTool\"},{\"attributes\":{\"line_alpha\":0.2,\"line_color\":\"blue\",\"x\":{\"field\":\"x\"},\"y\":{\"field\":\"y\"}},\"id\":\"1130\",\"type\":\"Line\"},{\"attributes\":{\"data\":{\"x\":[2,2],\"y\":[3.0,3.227777777777778]},\"selected\":{\"id\":\"1202\"},\"selection_policy\":{\"id\":\"1201\"}},\"id\":\"1139\",\"type\":\"ColumnDataSource\"},{\"attributes\":{\"source\":{\"id\":\"1145\"}},\"id\":\"1150\",\"type\":\"CDSView\"},{\"attributes\":{},\"id\":\"1201\",\"type\":\"UnionRenderers\"},{\"attributes\":{},\"id\":\"1202\",\"type\":\"Selection\"},{\"attributes\":{},\"id\":\"1203\",\"type\":\"UnionRenderers\"},{\"attributes\":{},\"id\":\"1204\",\"type\":\"Selection\"},{\"attributes\":{},\"id\":\"1205\",\"type\":\"UnionRenderers\"},{\"attributes\":{},\"id\":\"1206\",\"type\":\"Selection\"},{\"attributes\":{},\"id\":\"1207\",\"type\":\"UnionRenderers\"},{\"attributes\":{},\"id\":\"1208\",\"type\":\"Selection\"},{\"attributes\":{\"coordinates\":null,\"formatter\":{\"id\":\"1193\"},\"group\":null,\"major_label_policy\":{\"id\":\"1194\"},\"ticker\":{\"id\":\"1103\"}},\"id\":\"1102\",\"type\":\"LinearAxis\"},{\"attributes\":{\"fill_alpha\":{\"value\":0.1},\"fill_color\":{\"value\":\"#1f77b4\"},\"hatch_alpha\":{\"value\":0.1},\"line_alpha\":{\"value\":0.1},\"line_color\":{\"value\":\"#1f77b4\"},\"x\":{\"field\":\"x\"},\"y\":{\"field\":\"y\"}},\"id\":\"1123\",\"type\":\"Circle\"},{\"attributes\":{},\"id\":\"1098\",\"type\":\"LinearScale\"},{\"attributes\":{\"end\":10,\"start\":-1},\"id\":\"1096\",\"type\":\"Range1d\"},{\"attributes\":{},\"id\":\"1103\",\"type\":\"BasicTicker\"},{\"attributes\":{},\"id\":\"1100\",\"type\":\"LinearScale\"},{\"attributes\":{\"axis\":{\"id\":\"1102\"},\"coordinates\":null,\"group\":null,\"ticker\":null},\"id\":\"1105\",\"type\":\"Grid\"},{\"attributes\":{},\"id\":\"1209\",\"type\":\"UnionRenderers\"},{\"attributes\":{},\"id\":\"1210\",\"type\":\"Selection\"}],\"root_ids\":[\"1093\"]},\"title\":\"Bokeh Application\",\"version\":\"2.4.3\"}};\n",
       "  const render_items = [{\"docid\":\"a6a262a2-238e-4efb-b81b-f57aaa1dc3ca\",\"root_ids\":[\"1093\"],\"roots\":{\"1093\":\"635eb247-4166-436c-a1a7-9c912809f41c\"}}];\n",
       "  root.Bokeh.embed.embed_items_notebook(docs_json, render_items);\n",
       "  }\n",
       "  if (root.Bokeh !== undefined) {\n",
       "    embed_document(root);\n",
       "  } else {\n",
       "    let attempts = 0;\n",
       "    const timer = setInterval(function(root) {\n",
       "      if (root.Bokeh !== undefined) {\n",
       "        clearInterval(timer);\n",
       "        embed_document(root);\n",
       "      } else {\n",
       "        attempts++;\n",
       "        if (attempts > 100) {\n",
       "          clearInterval(timer);\n",
       "          console.log(\"Bokeh: ERROR: Unable to run BokehJS code because BokehJS library is missing\");\n",
       "        }\n",
       "      }\n",
       "    }, 10, root)\n",
       "  }\n",
       "})(window);"
      ],
      "application/vnd.bokehjs_exec.v0+json": ""
     },
     "metadata": {
      "application/vnd.bokehjs_exec.v0+json": {
       "id": "1093"
      }
     },
     "output_type": "display_data"
    }
   ],
   "source": [
    "fig=figure(**options,\n",
    "                x_range=(-1, 10  ),       # range x da visualizzare inizialmente\n",
    "                y_range=(-1, 10 ),       # range y da visualizzare inizialmente \n",
    "          )\n",
    "fig.circle(x,y) \n",
    "par = polyfit(x, y, 1, full=True)\n",
    "slope=par[0][0]\n",
    "intercept=par[0][1]\n",
    "y_predicted = [slope*i + intercept  for i in x]\n",
    "err1 = 0\n",
    "err2 = 0\n",
    "for (i,j,k) in zip(x,y,y_predicted):\n",
    "    fig.line([i,i],[j,k], color='blue')\n",
    "    err1 =err1 + abs(j-k)\n",
    "    err2 =err2 + (j-k)**2\n",
    "    \n",
    "data = data = {'slope':slope, 'intercept':intercept, 'err1':err1, 'err2':err2}\n",
    "    \n",
    "fig.line(x,y_predicted, color='red', legend_label='y = {intercept:4.2f} + {slope:4.2f} x'.format(**data))\n",
    "fig.legend.location = 'bottom_right'\n",
    "display(Latex(\n",
    "    '$\\qquad\\displaystyle\\sum_{{i=1}}^n |e_i|=\\ ${err1:4.2f}\\\n",
    "     $\\qquad\\displaystyle\\sum_{{i=1}}^n e_i^2=\\ ${err2:4.2f}\\\n",
    "     $\\qquad\\\\beta_0=\\ ${intercept:4.2f}\\\n",
    "     $\\qquad\\\\beta_1=\\ ${slope:4.2f}'.format(**data)))\n",
    "show(fig)"
   ]
  },
  {
   "cell_type": "markdown",
   "id": "7d8b8974",
   "metadata": {},
   "source": [
    "Per il grafico qui sopra ho scelto i valori di $\\beta_0=1.34$ e $\\beta_1=0.94$ che minimizzano la seconda cost function. Dal grafico qui sotto si può verificare numericamente che non minimizzano la orima cost function."
   ]
  },
  {
   "cell_type": "code",
   "execution_count": 4,
   "id": "46b55a52",
   "metadata": {},
   "outputs": [
    {
     "data": {
      "text/html": [
       "\n",
       "  <div class=\"bk-root\" id=\"9e87e178-cbd2-47cb-b108-5a2e29351eca\" data-root-id=\"1408\"></div>\n"
      ]
     },
     "metadata": {},
     "output_type": "display_data"
    },
    {
     "data": {
      "application/javascript": [
       "(function(root) {\n",
       "  function embed_document(root) {\n",
       "  const docs_json = {\"1eff3afc-5995-4713-a367-3c3f3a248ed9\":{\"defs\":[],\"roots\":{\"references\":[{\"attributes\":{\"below\":[{\"id\":\"1417\"}],\"center\":[{\"id\":\"1420\"},{\"id\":\"1424\"},{\"id\":\"1460\"}],\"height\":300,\"left\":[{\"id\":\"1421\"}],\"renderers\":[{\"id\":\"1440\"},{\"id\":\"1446\"}],\"title\":{\"id\":\"1448\"},\"toolbar\":{\"id\":\"1430\"},\"x_range\":{\"id\":\"1409\"},\"x_scale\":{\"id\":\"1413\"},\"y_range\":{\"id\":\"1411\"},\"y_scale\":{\"id\":\"1415\"}},\"id\":\"1408\",\"subtype\":\"Figure\",\"type\":\"Plot\"},{\"attributes\":{\"end\":10,\"start\":-1},\"id\":\"1409\",\"type\":\"Range1d\"},{\"attributes\":{\"line_alpha\":0.2,\"line_color\":\"red\",\"x\":{\"field\":\"x\"},\"y\":{\"field\":\"y\"}},\"id\":\"1445\",\"type\":\"Line\"},{\"attributes\":{\"source\":{\"id\":\"1442\"}},\"id\":\"1447\",\"type\":\"CDSView\"},{\"attributes\":{\"fill_alpha\":{\"value\":0.1},\"fill_color\":{\"value\":\"#1f77b4\"},\"hatch_alpha\":{\"value\":0.1},\"line_alpha\":{\"value\":0.1},\"line_color\":{\"value\":\"#1f77b4\"},\"x\":{\"field\":\"x\"},\"y\":{\"field\":\"y\"}},\"id\":\"1438\",\"type\":\"Circle\"},{\"attributes\":{\"coordinates\":null,\"group\":null,\"items\":[{\"id\":\"1461\"}],\"location\":\"bottom_right\"},\"id\":\"1460\",\"type\":\"Legend\"},{\"attributes\":{},\"id\":\"1452\",\"type\":\"AllLabels\"},{\"attributes\":{\"label\":{\"value\":\"y = \\u03b20 + \\u03b21 x\"},\"renderers\":[{\"id\":\"1446\"}]},\"id\":\"1461\",\"type\":\"LegendItem\"},{\"attributes\":{\"coordinates\":null,\"data_source\":{\"id\":\"1442\"},\"glyph\":{\"id\":\"1443\"},\"group\":null,\"hover_glyph\":null,\"muted_glyph\":{\"id\":\"1445\"},\"nonselection_glyph\":{\"id\":\"1444\"},\"view\":{\"id\":\"1447\"}},\"id\":\"1446\",\"type\":\"GlyphRenderer\"},{\"attributes\":{\"coordinates\":null,\"formatter\":{\"id\":\"1451\"},\"group\":null,\"major_label_policy\":{\"id\":\"1452\"},\"ticker\":{\"id\":\"1422\"}},\"id\":\"1421\",\"type\":\"LinearAxis\"},{\"attributes\":{},\"id\":\"1455\",\"type\":\"AllLabels\"},{\"attributes\":{},\"id\":\"1454\",\"type\":\"BasicTickFormatter\"},{\"attributes\":{},\"id\":\"1415\",\"type\":\"LinearScale\"},{\"attributes\":{},\"id\":\"1418\",\"type\":\"BasicTicker\"},{\"attributes\":{\"axis\":{\"id\":\"1417\"},\"coordinates\":null,\"group\":null,\"ticker\":null},\"id\":\"1420\",\"type\":\"Grid\"},{\"attributes\":{},\"id\":\"1422\",\"type\":\"BasicTicker\"},{\"attributes\":{\"axis\":{\"id\":\"1421\"},\"coordinates\":null,\"dimension\":1,\"group\":null,\"ticker\":null},\"id\":\"1424\",\"type\":\"Grid\"},{\"attributes\":{\"tools\":[{\"id\":\"1425\"},{\"id\":\"1426\"},{\"id\":\"1427\"},{\"id\":\"1428\"},{\"id\":\"1429\"}]},\"id\":\"1430\",\"type\":\"Toolbar\"},{\"attributes\":{},\"id\":\"1456\",\"type\":\"UnionRenderers\"},{\"attributes\":{\"coordinates\":null,\"group\":null},\"id\":\"1448\",\"type\":\"Title\"},{\"attributes\":{\"coordinates\":null,\"formatter\":{\"id\":\"1454\"},\"group\":null,\"major_label_policy\":{\"id\":\"1455\"},\"ticker\":{\"id\":\"1418\"}},\"id\":\"1417\",\"type\":\"LinearAxis\"},{\"attributes\":{\"data\":{\"x\":[0,1,2,3,4,5,6,7,8],\"y\":[1.3444444444444448,2.2861111111111114,3.227777777777778,4.169444444444445,5.111111111111112,6.052777777777778,6.994444444444445,7.936111111111112,8.877777777777778]},\"selected\":{\"id\":\"1459\"},\"selection_policy\":{\"id\":\"1458\"}},\"id\":\"1442\",\"type\":\"ColumnDataSource\"},{\"attributes\":{\"source\":{\"id\":\"1436\"}},\"id\":\"1441\",\"type\":\"CDSView\"},{\"attributes\":{\"fill_alpha\":{\"value\":0.2},\"fill_color\":{\"value\":\"#1f77b4\"},\"hatch_alpha\":{\"value\":0.2},\"line_alpha\":{\"value\":0.2},\"line_color\":{\"value\":\"#1f77b4\"},\"x\":{\"field\":\"x\"},\"y\":{\"field\":\"y\"}},\"id\":\"1439\",\"type\":\"Circle\"},{\"attributes\":{\"line_alpha\":0.1,\"line_color\":\"red\",\"x\":{\"field\":\"x\"},\"y\":{\"field\":\"y\"}},\"id\":\"1444\",\"type\":\"Line\"},{\"attributes\":{},\"id\":\"1457\",\"type\":\"Selection\"},{\"attributes\":{\"end\":12,\"start\":-1},\"id\":\"1411\",\"type\":\"Range1d\"},{\"attributes\":{},\"id\":\"1413\",\"type\":\"LinearScale\"},{\"attributes\":{\"coordinates\":null,\"data_source\":{\"id\":\"1436\"},\"glyph\":{\"id\":\"1437\"},\"group\":null,\"hover_glyph\":null,\"muted_glyph\":{\"id\":\"1439\"},\"nonselection_glyph\":{\"id\":\"1438\"},\"view\":{\"id\":\"1441\"}},\"id\":\"1440\",\"type\":\"GlyphRenderer\"},{\"attributes\":{},\"id\":\"1451\",\"type\":\"BasicTickFormatter\"},{\"attributes\":{},\"id\":\"1428\",\"type\":\"SaveTool\"},{\"attributes\":{\"line_color\":\"red\",\"x\":{\"field\":\"x\"},\"y\":{\"field\":\"y\"}},\"id\":\"1443\",\"type\":\"Line\"},{\"attributes\":{},\"id\":\"1427\",\"type\":\"ResetTool\"},{\"attributes\":{},\"id\":\"1425\",\"type\":\"PanTool\"},{\"attributes\":{\"fill_color\":{\"value\":\"#1f77b4\"},\"line_color\":{\"value\":\"#1f77b4\"},\"x\":{\"field\":\"x\"},\"y\":{\"field\":\"y\"}},\"id\":\"1437\",\"type\":\"Circle\"},{\"attributes\":{},\"id\":\"1459\",\"type\":\"Selection\"},{\"attributes\":{\"data\":{\"x\":[0,1,2,3,4,5,6,7,8],\"y\":{\"__ndarray__\":\"AAAAAAAA+D8AAAAAAAAAQAAAAAAAAAhAAAAAAAAAFEAAAAAAAAAQQAAAAAAAABpAAAAAAAAAIEAAAAAAAAAcQAAAAAAAACJA\",\"dtype\":\"float64\",\"order\":\"little\",\"shape\":[9]}},\"selected\":{\"id\":\"1457\"},\"selection_policy\":{\"id\":\"1456\"}},\"id\":\"1436\",\"type\":\"ColumnDataSource\"},{\"attributes\":{},\"id\":\"1429\",\"type\":\"CrosshairTool\"},{\"attributes\":{},\"id\":\"1458\",\"type\":\"UnionRenderers\"},{\"attributes\":{},\"id\":\"1426\",\"type\":\"WheelZoomTool\"}],\"root_ids\":[\"1408\"]},\"title\":\"Bokeh Application\",\"version\":\"2.4.3\"}};\n",
       "  const render_items = [{\"docid\":\"1eff3afc-5995-4713-a367-3c3f3a248ed9\",\"notebook_comms_target\":\"1513\",\"root_ids\":[\"1408\"],\"roots\":{\"1408\":\"9e87e178-cbd2-47cb-b108-5a2e29351eca\"}}];\n",
       "  root.Bokeh.embed.embed_items_notebook(docs_json, render_items);\n",
       "  }\n",
       "  if (root.Bokeh !== undefined) {\n",
       "    embed_document(root);\n",
       "  } else {\n",
       "    let attempts = 0;\n",
       "    const timer = setInterval(function(root) {\n",
       "      if (root.Bokeh !== undefined) {\n",
       "        clearInterval(timer);\n",
       "        embed_document(root);\n",
       "      } else {\n",
       "        attempts++;\n",
       "        if (attempts > 100) {\n",
       "          clearInterval(timer);\n",
       "          console.log(\"Bokeh: ERROR: Unable to run BokehJS code because BokehJS library is missing\");\n",
       "        }\n",
       "      }\n",
       "    }, 10, root)\n",
       "  }\n",
       "})(window);"
      ],
      "application/vnd.bokehjs_exec.v0+json": ""
     },
     "metadata": {
      "application/vnd.bokehjs_exec.v0+json": {
       "id": "1408"
      }
     },
     "output_type": "display_data"
    },
    {
     "data": {
      "application/vnd.jupyter.widget-view+json": {
       "model_id": "c6174d35b4cf44188dcb8e704b1af062",
       "version_major": 2,
       "version_minor": 0
      },
      "text/plain": [
       "interactive(children=(FloatSlider(value=0.8, description='β1', max=1.2, min=0.8, step=0.05), FloatSlider(value…"
      ]
     },
     "metadata": {},
     "output_type": "display_data"
    }
   ],
   "source": [
    "fig=figure(**options,\n",
    "                x_range=(-1, 10  ),       # range x da visualizzare inizialmente\n",
    "                y_range=(-1, 12 ),       # range y da visualizzare inizialmente \n",
    "          )\n",
    "fig.circle(x,y)\n",
    "par = polyfit(x, y, 1, full=True)\n",
    "slope=par[0][0]\n",
    "intercept=par[0][1]\n",
    "\n",
    "line = fig.line(x,y_predicted, color='red', legend_label='y = β0 + β1 x')\n",
    "fig.legend.location = 'bottom_right'\n",
    "    \n",
    "def update1(slope  = 0.8, intercept  =  1): \n",
    "    y_predicted = [slope*i + intercept  for i in x]\n",
    "    line.data_source.data['x'] = x\n",
    "    line.data_source.data['y'] = y_predicted\n",
    "    err1 = 0\n",
    "    err2 = 0\n",
    "    for (i,j,k) in zip(x,y,y_predicted):\n",
    "        err1 =err1 + abs(j-k)\n",
    "        err2 =err2 + (j-k)**2\n",
    "#     ab  = concatenate( ([a], linspace(a,b), [b]) )\n",
    "#     pab = concatenate( ([0], tstudent.pdf(linspace(a,b),df), [0] ) )\n",
    "#     p2.data_source.data['x'] =  ab\n",
    "#     p2.data_source.data['y'] =  pab\n",
    "#     pr =  tstudent.cdf(a,df) - tstudent.cdf(b,df)\n",
    "#     err1 = 0\n",
    "#     err2 = 0\n",
    "#     data = {'err1':err1, 'err1':err2}\n",
    "#     print('ε1 = {err1}    ε2 = {err2}\\n'.format(**data) )\n",
    "#     print('Pr(a<X<b) = tstudent.cdf({b}, {df}) - tstudent.cdf({a}, {df}) = {pr:04.2f}'.format(**data) )\n",
    "    data = data = {'slope':slope, 'intercept':intercept, 'err1':err1, 'err2':err2}\n",
    "    display(Latex(\n",
    "    '$\\qquad\\displaystyle\\sum_{{i=1}}^n |e_i|=\\ ${err1:4.2f}                 \\\n",
    "     $\\qquad\\displaystyle\\sum_{{i=1}}^n e_i^2=\\ ${err2:4.2f}'.format(**data)))\n",
    "    push_notebook()\n",
    "    \n",
    "show(fig, notebook_handle=True)\n",
    "interact(update1,  \n",
    "         slope     = FloatSlider(description=\"β1\", min=0.8, max=1.2, step=0.05, value=0.8),\n",
    "         intercept = FloatSlider(description=\"β0\", min=1, max=1.6, step=0.05, value= 1),\n",
    "         );"
   ]
  },
  {
   "cell_type": "markdown",
   "id": "9dcd923d",
   "metadata": {},
   "source": [
    "<hr><hr>\n",
    "Si osservi che è perfettamente ragionevole avere più valori di $y$ per la stessa $x$. Per esempio un altro set di misure potrebbe essere il seguente."
   ]
  },
  {
   "cell_type": "code",
   "execution_count": 7,
   "id": "24feb6c5",
   "metadata": {
    "scrolled": true
   },
   "outputs": [
    {
     "data": {
      "text/latex": [
       "$\\qquad\\displaystyle\\sum_{i=1}^n e_i^2=\\ $954.57     $\\qquad\\beta_0=\\ $1.29     $\\qquad\\beta_1=\\ $0.91"
      ],
      "text/plain": [
       "<IPython.core.display.Latex object>"
      ]
     },
     "metadata": {},
     "output_type": "display_data"
    },
    {
     "data": {
      "text/html": [
       "\n",
       "  <div class=\"bk-root\" id=\"a24d9f16-b0e0-4e55-ac9f-447b9058013c\" data-root-id=\"1909\"></div>\n"
      ]
     },
     "metadata": {},
     "output_type": "display_data"
    },
    {
     "data": {
      "application/javascript": [
       "(function(root) {\n",
       "  function embed_document(root) {\n",
       "  const docs_json = {\"e8baf68e-9aeb-455c-9001-9835f26974cf\":{\"defs\":[],\"roots\":{\"references\":[{\"attributes\":{\"below\":[{\"id\":\"1918\"}],\"center\":[{\"id\":\"1921\"},{\"id\":\"1925\"},{\"id\":\"1961\"}],\"height\":300,\"left\":[{\"id\":\"1922\"}],\"renderers\":[{\"id\":\"1941\"},{\"id\":\"1947\"}],\"title\":{\"id\":\"1949\"},\"toolbar\":{\"id\":\"1931\"},\"x_range\":{\"id\":\"1910\"},\"x_scale\":{\"id\":\"1914\"},\"y_range\":{\"id\":\"1912\"},\"y_scale\":{\"id\":\"1916\"}},\"id\":\"1909\",\"subtype\":\"Figure\",\"type\":\"Plot\"},{\"attributes\":{},\"id\":\"1928\",\"type\":\"ResetTool\"},{\"attributes\":{},\"id\":\"1952\",\"type\":\"BasicTickFormatter\"},{\"attributes\":{},\"id\":\"1926\",\"type\":\"PanTool\"},{\"attributes\":{\"source\":{\"id\":\"1937\"}},\"id\":\"1942\",\"type\":\"CDSView\"},{\"attributes\":{\"line_alpha\":0.2,\"line_color\":\"red\",\"x\":{\"field\":\"x\"},\"y\":{\"field\":\"y\"}},\"id\":\"1946\",\"type\":\"Line\"},{\"attributes\":{},\"id\":\"1955\",\"type\":\"BasicTickFormatter\"},{\"attributes\":{\"coordinates\":null,\"data_source\":{\"id\":\"1943\"},\"glyph\":{\"id\":\"1944\"},\"group\":null,\"hover_glyph\":null,\"muted_glyph\":{\"id\":\"1946\"},\"nonselection_glyph\":{\"id\":\"1945\"},\"view\":{\"id\":\"1948\"}},\"id\":\"1947\",\"type\":\"GlyphRenderer\"},{\"attributes\":{\"data\":{\"x\":[8,8,6,2,8,7,2,1,5,4,4,5,7,3,6,4,3,7,6,1,3,5,8,4,6,3,9,2,0,4,2,4,1,7,8,2,9,8,7,1,6,8,5,9,9,9,3,0,0,2,8,8,2,9,6,5,6,6,6,3,8,2,1,4,8,1,6,9,5,1,2,4,7,6,4,5,8,3,0,0,5,7,5,0,8,6,5,1,7,4,3,6,1,4,0,8,5,4,2,9,7,1,9,2,1,0,7,1,8,9,0,7,0,5,2,5,1,3,3,1,8,6,8,1,5,7,0,9,1,5,9,2,0,0,4,6,3,1,8,5,9,5,4,2,7,8,7,3,4,8,6,3,8,8,5,1,3,3,3,2,6,5,5,2,5,6,1,5,0,5,4,8,3,7,5,9,4,5,2,6,0,5,7,1,6,7,0,1,2,4,0,6,6,8,6,9,5,1,5,9,4,9,8,3,4,6,2,4,7,5,1,3,7,4,5,1,2,3,6,1,2,9,6,0,5,3,5,2,8,9,7,3,0,4,6,2,7,9,3,1,1,9,9,0,8,0,8,5,3,5,8,3,6,1,6,1,2,1,2,6,6,1,3,3,2,3,2,3,3,0,5,1,2,1,6,2,1,3,6,3,9,0,4,2,7,5,5,3,9,1,8,1,4,6,2,6,7,5,0,1,5,6,9,8,8,2,6,0,6,0,4,3,3,7,0,9,2,2,3,5,6,0,6,0,3,7,3,8,0,3,8,5,7,5,7,4,1,0,6,7,7,8,4,9,2,7,5,9,3,6,4,0,6,1,8,5,1,0,5,0,9,8,2,6,9,9,8,2,4,1,1,2,2,6,7,9,8,3,9,4,8,4,0,0,4,7,5,9,2,9,6,0,3,6,8,2,1,0,7,5,7,6,9,3,0,4,9,0,2,0,9,4,7,4,6,5,9,5,5,9,2,6,2,9,4,0,9,8,2,1,6,1,9,3,9,2,2,8,2,5,2,9,6,6,5,0,5,3,9,0,7,6,5,7,0,1,9,1,6,0,2,1,6,5,5,5,8,9,1,4,1,5,9,9,5,3,4,0,3,5,9,7,8,6,1,2,0,9,1,0,1,5,4,2,8,1,9,8,6,6,4,2,2,3,7,4,3,0,2,1,5,2,2,0,3,9,5,1,8,2,8,1,0,9,2,5,2,4,6,5,3,6,9,3,0,8,4,0,2,1,5,5,4,8,8,8,6,5,8,7,4,1,1,2,7,9,6,8,9,6,7,7,7,3,8,4,0,9,4,4,2,0,7,4,2,5,5,1,0,0,8,1,1,3,0,2,8,9,0,5,2,9,7,8,2,3,2,2,9,8,3,0,1,7,8,5,0,7,4,2,8,3,2,3,1,7,3,5,7,7,9,4,6,3,4,8,3,9,6,5,1,8,2,8,6,6,6,2,0,9,5,0,1,5,1,3,2,5,6,2,1,0,3,6,1,6,7,4,3,8,2,3,8,0,3,8,8,2,8,7,9,9,5,5,0,6,3,5,9,3,7,7,4,0,8,0,8,8,0,7,0,8,8,1,6,5,7,3,5,2,9,3,1,3,1,3,3,5,4,2,0,2,9,5,5,9,8,4,2,0,0,1,4,8,6,8,6,4,3,2,7,4,3,9,0,2,3,0,1,1,9,6,2,1,5,3,4,7,1,1,1,9,6,9,7,2,2,9,2,7,1,9,8,8,2,8,2,9,2,9,6,9,6,7,0,7,1,7,1,6,9,3,1,6,5,2,2,5,1,6,8,0,7,1,5,0,4,0,8,7,9,0,2,7,6,3,1,9,8,0,7,3,4,6,0,2,5,9,0,1,6,7,6,7,4,9,4,2,8,9,7,5,6,0,2,5,7,3,5,6,5,8,1,2,5,1,7,1,4,8,0,3,5,5,0,3,0,2,2,2,0,5,1,9,7,8,6,1,7,9,4,0,2,8,6,5,5,5,5,5,0,0,3,2,3,9,3,5,7,9,9,0,9,6,3,6,7,0,4,0,8,9,7,5,0,6,1,7,1,8,4,7,1,7,4,0,2,1,4,3,9,0,4,8,8,0,1,2,0,0,7,1,9,9,5,4,1,1,7,6,7,5,5,8,1,4,9,4,7,7,9,5,5,5,7,2,2,7,6,6,7,6,5,5,4,0,7,4,7,8,9,8,7,2,3,3,2,9,8,3,9,7,3,8,7,9,1,0,5,9,4,5,2,6,3,4,8,3,6,3],\"y\":[8.5322433373421,8.5322433373421,6.72067765563787,3.0975462922294064,8.5322433373421,7.626460496489985,3.0975462922294064,2.191763451377291,5.814894814785753,4.909111973933638,4.909111973933638,5.814894814785753,7.626460496489985,4.003329133081523,6.72067765563787,4.909111973933638,4.003329133081523,7.626460496489985,6.72067765563787,2.191763451377291,4.003329133081523,5.814894814785753,8.5322433373421,4.909111973933638,6.72067765563787,4.003329133081523,9.438026178194216,3.0975462922294064,1.2859806105251754,4.909111973933638,3.0975462922294064,4.909111973933638,2.191763451377291,7.626460496489985,8.5322433373421,3.0975462922294064,9.438026178194216,8.5322433373421,7.626460496489985,2.191763451377291,6.72067765563787,8.5322433373421,5.814894814785753,9.438026178194216,9.438026178194216,9.438026178194216,4.003329133081523,1.2859806105251754,1.2859806105251754,3.0975462922294064,8.5322433373421,8.5322433373421,3.0975462922294064,9.438026178194216,6.72067765563787,5.814894814785753,6.72067765563787,6.72067765563787,6.72067765563787,4.003329133081523,8.5322433373421,3.0975462922294064,2.191763451377291,4.909111973933638,8.5322433373421,2.191763451377291,6.72067765563787,9.438026178194216,5.814894814785753,2.191763451377291,3.0975462922294064,4.909111973933638,7.626460496489985,6.72067765563787,4.909111973933638,5.814894814785753,8.5322433373421,4.003329133081523,1.2859806105251754,1.2859806105251754,5.814894814785753,7.626460496489985,5.814894814785753,1.2859806105251754,8.5322433373421,6.72067765563787,5.814894814785753,2.191763451377291,7.626460496489985,4.909111973933638,4.003329133081523,6.72067765563787,2.191763451377291,4.909111973933638,1.2859806105251754,8.5322433373421,5.814894814785753,4.909111973933638,3.0975462922294064,9.438026178194216,7.626460496489985,2.191763451377291,9.438026178194216,3.0975462922294064,2.191763451377291,1.2859806105251754,7.626460496489985,2.191763451377291,8.5322433373421,9.438026178194216,1.2859806105251754,7.626460496489985,1.2859806105251754,5.814894814785753,3.0975462922294064,5.814894814785753,2.191763451377291,4.003329133081523,4.003329133081523,2.191763451377291,8.5322433373421,6.72067765563787,8.5322433373421,2.191763451377291,5.814894814785753,7.626460496489985,1.2859806105251754,9.438026178194216,2.191763451377291,5.814894814785753,9.438026178194216,3.0975462922294064,1.2859806105251754,1.2859806105251754,4.909111973933638,6.72067765563787,4.003329133081523,2.191763451377291,8.5322433373421,5.814894814785753,9.438026178194216,5.814894814785753,4.909111973933638,3.0975462922294064,7.626460496489985,8.5322433373421,7.626460496489985,4.003329133081523,4.909111973933638,8.5322433373421,6.72067765563787,4.003329133081523,8.5322433373421,8.5322433373421,5.814894814785753,2.191763451377291,4.003329133081523,4.003329133081523,4.003329133081523,3.0975462922294064,6.72067765563787,5.814894814785753,5.814894814785753,3.0975462922294064,5.814894814785753,6.72067765563787,2.191763451377291,5.814894814785753,1.2859806105251754,5.814894814785753,4.909111973933638,8.5322433373421,4.003329133081523,7.626460496489985,5.814894814785753,9.438026178194216,4.909111973933638,5.814894814785753,3.0975462922294064,6.72067765563787,1.2859806105251754,5.814894814785753,7.626460496489985,2.191763451377291,6.72067765563787,7.626460496489985,1.2859806105251754,2.191763451377291,3.0975462922294064,4.909111973933638,1.2859806105251754,6.72067765563787,6.72067765563787,8.5322433373421,6.72067765563787,9.438026178194216,5.814894814785753,2.191763451377291,5.814894814785753,9.438026178194216,4.909111973933638,9.438026178194216,8.5322433373421,4.003329133081523,4.909111973933638,6.72067765563787,3.0975462922294064,4.909111973933638,7.626460496489985,5.814894814785753,2.191763451377291,4.003329133081523,7.626460496489985,4.909111973933638,5.814894814785753,2.191763451377291,3.0975462922294064,4.003329133081523,6.72067765563787,2.191763451377291,3.0975462922294064,9.438026178194216,6.72067765563787,1.2859806105251754,5.814894814785753,4.003329133081523,5.814894814785753,3.0975462922294064,8.5322433373421,9.438026178194216,7.626460496489985,4.003329133081523,1.2859806105251754,4.909111973933638,6.72067765563787,3.0975462922294064,7.626460496489985,9.438026178194216,4.003329133081523,2.191763451377291,2.191763451377291,9.438026178194216,9.438026178194216,1.2859806105251754,8.5322433373421,1.2859806105251754,8.5322433373421,5.814894814785753,4.003329133081523,5.814894814785753,8.5322433373421,4.003329133081523,6.72067765563787,2.191763451377291,6.72067765563787,2.191763451377291,3.0975462922294064,2.191763451377291,3.0975462922294064,6.72067765563787,6.72067765563787,2.191763451377291,4.003329133081523,4.003329133081523,3.0975462922294064,4.003329133081523,3.0975462922294064,4.003329133081523,4.003329133081523,1.2859806105251754,5.814894814785753,2.191763451377291,3.0975462922294064,2.191763451377291,6.72067765563787,3.0975462922294064,2.191763451377291,4.003329133081523,6.72067765563787,4.003329133081523,9.438026178194216,1.2859806105251754,4.909111973933638,3.0975462922294064,7.626460496489985,5.814894814785753,5.814894814785753,4.003329133081523,9.438026178194216,2.191763451377291,8.5322433373421,2.191763451377291,4.909111973933638,6.72067765563787,3.0975462922294064,6.72067765563787,7.626460496489985,5.814894814785753,1.2859806105251754,2.191763451377291,5.814894814785753,6.72067765563787,9.438026178194216,8.5322433373421,8.5322433373421,3.0975462922294064,6.72067765563787,1.2859806105251754,6.72067765563787,1.2859806105251754,4.909111973933638,4.003329133081523,4.003329133081523,7.626460496489985,1.2859806105251754,9.438026178194216,3.0975462922294064,3.0975462922294064,4.003329133081523,5.814894814785753,6.72067765563787,1.2859806105251754,6.72067765563787,1.2859806105251754,4.003329133081523,7.626460496489985,4.003329133081523,8.5322433373421,1.2859806105251754,4.003329133081523,8.5322433373421,5.814894814785753,7.626460496489985,5.814894814785753,7.626460496489985,4.909111973933638,2.191763451377291,1.2859806105251754,6.72067765563787,7.626460496489985,7.626460496489985,8.5322433373421,4.909111973933638,9.438026178194216,3.0975462922294064,7.626460496489985,5.814894814785753,9.438026178194216,4.003329133081523,6.72067765563787,4.909111973933638,1.2859806105251754,6.72067765563787,2.191763451377291,8.5322433373421,5.814894814785753,2.191763451377291,1.2859806105251754,5.814894814785753,1.2859806105251754,9.438026178194216,8.5322433373421,3.0975462922294064,6.72067765563787,9.438026178194216,9.438026178194216,8.5322433373421,3.0975462922294064,4.909111973933638,2.191763451377291,2.191763451377291,3.0975462922294064,3.0975462922294064,6.72067765563787,7.626460496489985,9.438026178194216,8.5322433373421,4.003329133081523,9.438026178194216,4.909111973933638,8.5322433373421,4.909111973933638,1.2859806105251754,1.2859806105251754,4.909111973933638,7.626460496489985,5.814894814785753,9.438026178194216,3.0975462922294064,9.438026178194216,6.72067765563787,1.2859806105251754,4.003329133081523,6.72067765563787,8.5322433373421,3.0975462922294064,2.191763451377291,1.2859806105251754,7.626460496489985,5.814894814785753,7.626460496489985,6.72067765563787,9.438026178194216,4.003329133081523,1.2859806105251754,4.909111973933638,9.438026178194216,1.2859806105251754,3.0975462922294064,1.2859806105251754,9.438026178194216,4.909111973933638,7.626460496489985,4.909111973933638,6.72067765563787,5.814894814785753,9.438026178194216,5.814894814785753,5.814894814785753,9.438026178194216,3.0975462922294064,6.72067765563787,3.0975462922294064,9.438026178194216,4.909111973933638,1.2859806105251754,9.438026178194216,8.5322433373421,3.0975462922294064,2.191763451377291,6.72067765563787,2.191763451377291,9.438026178194216,4.003329133081523,9.438026178194216,3.0975462922294064,3.0975462922294064,8.5322433373421,3.0975462922294064,5.814894814785753,3.0975462922294064,9.438026178194216,6.72067765563787,6.72067765563787,5.814894814785753,1.2859806105251754,5.814894814785753,4.003329133081523,9.438026178194216,1.2859806105251754,7.626460496489985,6.72067765563787,5.814894814785753,7.626460496489985,1.2859806105251754,2.191763451377291,9.438026178194216,2.191763451377291,6.72067765563787,1.2859806105251754,3.0975462922294064,2.191763451377291,6.72067765563787,5.814894814785753,5.814894814785753,5.814894814785753,8.5322433373421,9.438026178194216,2.191763451377291,4.909111973933638,2.191763451377291,5.814894814785753,9.438026178194216,9.438026178194216,5.814894814785753,4.003329133081523,4.909111973933638,1.2859806105251754,4.003329133081523,5.814894814785753,9.438026178194216,7.626460496489985,8.5322433373421,6.72067765563787,2.191763451377291,3.0975462922294064,1.2859806105251754,9.438026178194216,2.191763451377291,1.2859806105251754,2.191763451377291,5.814894814785753,4.909111973933638,3.0975462922294064,8.5322433373421,2.191763451377291,9.438026178194216,8.5322433373421,6.72067765563787,6.72067765563787,4.909111973933638,3.0975462922294064,3.0975462922294064,4.003329133081523,7.626460496489985,4.909111973933638,4.003329133081523,1.2859806105251754,3.0975462922294064,2.191763451377291,5.814894814785753,3.0975462922294064,3.0975462922294064,1.2859806105251754,4.003329133081523,9.438026178194216,5.814894814785753,2.191763451377291,8.5322433373421,3.0975462922294064,8.5322433373421,2.191763451377291,1.2859806105251754,9.438026178194216,3.0975462922294064,5.814894814785753,3.0975462922294064,4.909111973933638,6.72067765563787,5.814894814785753,4.003329133081523,6.72067765563787,9.438026178194216,4.003329133081523,1.2859806105251754,8.5322433373421,4.909111973933638,1.2859806105251754,3.0975462922294064,2.191763451377291,5.814894814785753,5.814894814785753,4.909111973933638,8.5322433373421,8.5322433373421,8.5322433373421,6.72067765563787,5.814894814785753,8.5322433373421,7.626460496489985,4.909111973933638,2.191763451377291,2.191763451377291,3.0975462922294064,7.626460496489985,9.438026178194216,6.72067765563787,8.5322433373421,9.438026178194216,6.72067765563787,7.626460496489985,7.626460496489985,7.626460496489985,4.003329133081523,8.5322433373421,4.909111973933638,1.2859806105251754,9.438026178194216,4.909111973933638,4.909111973933638,3.0975462922294064,1.2859806105251754,7.626460496489985,4.909111973933638,3.0975462922294064,5.814894814785753,5.814894814785753,2.191763451377291,1.2859806105251754,1.2859806105251754,8.5322433373421,2.191763451377291,2.191763451377291,4.003329133081523,1.2859806105251754,3.0975462922294064,8.5322433373421,9.438026178194216,1.2859806105251754,5.814894814785753,3.0975462922294064,9.438026178194216,7.626460496489985,8.5322433373421,3.0975462922294064,4.003329133081523,3.0975462922294064,3.0975462922294064,9.438026178194216,8.5322433373421,4.003329133081523,1.2859806105251754,2.191763451377291,7.626460496489985,8.5322433373421,5.814894814785753,1.2859806105251754,7.626460496489985,4.909111973933638,3.0975462922294064,8.5322433373421,4.003329133081523,3.0975462922294064,4.003329133081523,2.191763451377291,7.626460496489985,4.003329133081523,5.814894814785753,7.626460496489985,7.626460496489985,9.438026178194216,4.909111973933638,6.72067765563787,4.003329133081523,4.909111973933638,8.5322433373421,4.003329133081523,9.438026178194216,6.72067765563787,5.814894814785753,2.191763451377291,8.5322433373421,3.0975462922294064,8.5322433373421,6.72067765563787,6.72067765563787,6.72067765563787,3.0975462922294064,1.2859806105251754,9.438026178194216,5.814894814785753,1.2859806105251754,2.191763451377291,5.814894814785753,2.191763451377291,4.003329133081523,3.0975462922294064,5.814894814785753,6.72067765563787,3.0975462922294064,2.191763451377291,1.2859806105251754,4.003329133081523,6.72067765563787,2.191763451377291,6.72067765563787,7.626460496489985,4.909111973933638,4.003329133081523,8.5322433373421,3.0975462922294064,4.003329133081523,8.5322433373421,1.2859806105251754,4.003329133081523,8.5322433373421,8.5322433373421,3.0975462922294064,8.5322433373421,7.626460496489985,9.438026178194216,9.438026178194216,5.814894814785753,5.814894814785753,1.2859806105251754,6.72067765563787,4.003329133081523,5.814894814785753,9.438026178194216,4.003329133081523,7.626460496489985,7.626460496489985,4.909111973933638,1.2859806105251754,8.5322433373421,1.2859806105251754,8.5322433373421,8.5322433373421,1.2859806105251754,7.626460496489985,1.2859806105251754,8.5322433373421,8.5322433373421,2.191763451377291,6.72067765563787,5.814894814785753,7.626460496489985,4.003329133081523,5.814894814785753,3.0975462922294064,9.438026178194216,4.003329133081523,2.191763451377291,4.003329133081523,2.191763451377291,4.003329133081523,4.003329133081523,5.814894814785753,4.909111973933638,3.0975462922294064,1.2859806105251754,3.0975462922294064,9.438026178194216,5.814894814785753,5.814894814785753,9.438026178194216,8.5322433373421,4.909111973933638,3.0975462922294064,1.2859806105251754,1.2859806105251754,2.191763451377291,4.909111973933638,8.5322433373421,6.72067765563787,8.5322433373421,6.72067765563787,4.909111973933638,4.003329133081523,3.0975462922294064,7.626460496489985,4.909111973933638,4.003329133081523,9.438026178194216,1.2859806105251754,3.0975462922294064,4.003329133081523,1.2859806105251754,2.191763451377291,2.191763451377291,9.438026178194216,6.72067765563787,3.0975462922294064,2.191763451377291,5.814894814785753,4.003329133081523,4.909111973933638,7.626460496489985,2.191763451377291,2.191763451377291,2.191763451377291,9.438026178194216,6.72067765563787,9.438026178194216,7.626460496489985,3.0975462922294064,3.0975462922294064,9.438026178194216,3.0975462922294064,7.626460496489985,2.191763451377291,9.438026178194216,8.5322433373421,8.5322433373421,3.0975462922294064,8.5322433373421,3.0975462922294064,9.438026178194216,3.0975462922294064,9.438026178194216,6.72067765563787,9.438026178194216,6.72067765563787,7.626460496489985,1.2859806105251754,7.626460496489985,2.191763451377291,7.626460496489985,2.191763451377291,6.72067765563787,9.438026178194216,4.003329133081523,2.191763451377291,6.72067765563787,5.814894814785753,3.0975462922294064,3.0975462922294064,5.814894814785753,2.191763451377291,6.72067765563787,8.5322433373421,1.2859806105251754,7.626460496489985,2.191763451377291,5.814894814785753,1.2859806105251754,4.909111973933638,1.2859806105251754,8.5322433373421,7.626460496489985,9.438026178194216,1.2859806105251754,3.0975462922294064,7.626460496489985,6.72067765563787,4.003329133081523,2.191763451377291,9.438026178194216,8.5322433373421,1.2859806105251754,7.626460496489985,4.003329133081523,4.909111973933638,6.72067765563787,1.2859806105251754,3.0975462922294064,5.814894814785753,9.438026178194216,1.2859806105251754,2.191763451377291,6.72067765563787,7.626460496489985,6.72067765563787,7.626460496489985,4.909111973933638,9.438026178194216,4.909111973933638,3.0975462922294064,8.5322433373421,9.438026178194216,7.626460496489985,5.814894814785753,6.72067765563787,1.2859806105251754,3.0975462922294064,5.814894814785753,7.626460496489985,4.003329133081523,5.814894814785753,6.72067765563787,5.814894814785753,8.5322433373421,2.191763451377291,3.0975462922294064,5.814894814785753,2.191763451377291,7.626460496489985,2.191763451377291,4.909111973933638,8.5322433373421,1.2859806105251754,4.003329133081523,5.814894814785753,5.814894814785753,1.2859806105251754,4.003329133081523,1.2859806105251754,3.0975462922294064,3.0975462922294064,3.0975462922294064,1.2859806105251754,5.814894814785753,2.191763451377291,9.438026178194216,7.626460496489985,8.5322433373421,6.72067765563787,2.191763451377291,7.626460496489985,9.438026178194216,4.909111973933638,1.2859806105251754,3.0975462922294064,8.5322433373421,6.72067765563787,5.814894814785753,5.814894814785753,5.814894814785753,5.814894814785753,5.814894814785753,1.2859806105251754,1.2859806105251754,4.003329133081523,3.0975462922294064,4.003329133081523,9.438026178194216,4.003329133081523,5.814894814785753,7.626460496489985,9.438026178194216,9.438026178194216,1.2859806105251754,9.438026178194216,6.72067765563787,4.003329133081523,6.72067765563787,7.626460496489985,1.2859806105251754,4.909111973933638,1.2859806105251754,8.5322433373421,9.438026178194216,7.626460496489985,5.814894814785753,1.2859806105251754,6.72067765563787,2.191763451377291,7.626460496489985,2.191763451377291,8.5322433373421,4.909111973933638,7.626460496489985,2.191763451377291,7.626460496489985,4.909111973933638,1.2859806105251754,3.0975462922294064,2.191763451377291,4.909111973933638,4.003329133081523,9.438026178194216,1.2859806105251754,4.909111973933638,8.5322433373421,8.5322433373421,1.2859806105251754,2.191763451377291,3.0975462922294064,1.2859806105251754,1.2859806105251754,7.626460496489985,2.191763451377291,9.438026178194216,9.438026178194216,5.814894814785753,4.909111973933638,2.191763451377291,2.191763451377291,7.626460496489985,6.72067765563787,7.626460496489985,5.814894814785753,5.814894814785753,8.5322433373421,2.191763451377291,4.909111973933638,9.438026178194216,4.909111973933638,7.626460496489985,7.626460496489985,9.438026178194216,5.814894814785753,5.814894814785753,5.814894814785753,7.626460496489985,3.0975462922294064,3.0975462922294064,7.626460496489985,6.72067765563787,6.72067765563787,7.626460496489985,6.72067765563787,5.814894814785753,5.814894814785753,4.909111973933638,1.2859806105251754,7.626460496489985,4.909111973933638,7.626460496489985,8.5322433373421,9.438026178194216,8.5322433373421,7.626460496489985,3.0975462922294064,4.003329133081523,4.003329133081523,3.0975462922294064,9.438026178194216,8.5322433373421,4.003329133081523,9.438026178194216,7.626460496489985,4.003329133081523,8.5322433373421,7.626460496489985,9.438026178194216,2.191763451377291,1.2859806105251754,5.814894814785753,9.438026178194216,4.909111973933638,5.814894814785753,3.0975462922294064,6.72067765563787,4.003329133081523,4.909111973933638,8.5322433373421,4.003329133081523,6.72067765563787,4.003329133081523]},\"selected\":{\"id\":\"1960\"},\"selection_policy\":{\"id\":\"1959\"}},\"id\":\"1943\",\"type\":\"ColumnDataSource\"},{\"attributes\":{\"source\":{\"id\":\"1943\"}},\"id\":\"1948\",\"type\":\"CDSView\"},{\"attributes\":{},\"id\":\"1953\",\"type\":\"AllLabels\"},{\"attributes\":{\"end\":10,\"start\":-1},\"id\":\"1910\",\"type\":\"Range1d\"},{\"attributes\":{\"line_alpha\":0.1,\"line_color\":\"red\",\"x\":{\"field\":\"x\"},\"y\":{\"field\":\"y\"}},\"id\":\"1945\",\"type\":\"Line\"},{\"attributes\":{},\"id\":\"1929\",\"type\":\"SaveTool\"},{\"attributes\":{\"data\":{\"x\":[8,8,6,2,8,7,2,1,5,4,4,5,7,3,6,4,3,7,6,1,3,5,8,4,6,3,9,2,0,4,2,4,1,7,8,2,9,8,7,1,6,8,5,9,9,9,3,0,0,2,8,8,2,9,6,5,6,6,6,3,8,2,1,4,8,1,6,9,5,1,2,4,7,6,4,5,8,3,0,0,5,7,5,0,8,6,5,1,7,4,3,6,1,4,0,8,5,4,2,9,7,1,9,2,1,0,7,1,8,9,0,7,0,5,2,5,1,3,3,1,8,6,8,1,5,7,0,9,1,5,9,2,0,0,4,6,3,1,8,5,9,5,4,2,7,8,7,3,4,8,6,3,8,8,5,1,3,3,3,2,6,5,5,2,5,6,1,5,0,5,4,8,3,7,5,9,4,5,2,6,0,5,7,1,6,7,0,1,2,4,0,6,6,8,6,9,5,1,5,9,4,9,8,3,4,6,2,4,7,5,1,3,7,4,5,1,2,3,6,1,2,9,6,0,5,3,5,2,8,9,7,3,0,4,6,2,7,9,3,1,1,9,9,0,8,0,8,5,3,5,8,3,6,1,6,1,2,1,2,6,6,1,3,3,2,3,2,3,3,0,5,1,2,1,6,2,1,3,6,3,9,0,4,2,7,5,5,3,9,1,8,1,4,6,2,6,7,5,0,1,5,6,9,8,8,2,6,0,6,0,4,3,3,7,0,9,2,2,3,5,6,0,6,0,3,7,3,8,0,3,8,5,7,5,7,4,1,0,6,7,7,8,4,9,2,7,5,9,3,6,4,0,6,1,8,5,1,0,5,0,9,8,2,6,9,9,8,2,4,1,1,2,2,6,7,9,8,3,9,4,8,4,0,0,4,7,5,9,2,9,6,0,3,6,8,2,1,0,7,5,7,6,9,3,0,4,9,0,2,0,9,4,7,4,6,5,9,5,5,9,2,6,2,9,4,0,9,8,2,1,6,1,9,3,9,2,2,8,2,5,2,9,6,6,5,0,5,3,9,0,7,6,5,7,0,1,9,1,6,0,2,1,6,5,5,5,8,9,1,4,1,5,9,9,5,3,4,0,3,5,9,7,8,6,1,2,0,9,1,0,1,5,4,2,8,1,9,8,6,6,4,2,2,3,7,4,3,0,2,1,5,2,2,0,3,9,5,1,8,2,8,1,0,9,2,5,2,4,6,5,3,6,9,3,0,8,4,0,2,1,5,5,4,8,8,8,6,5,8,7,4,1,1,2,7,9,6,8,9,6,7,7,7,3,8,4,0,9,4,4,2,0,7,4,2,5,5,1,0,0,8,1,1,3,0,2,8,9,0,5,2,9,7,8,2,3,2,2,9,8,3,0,1,7,8,5,0,7,4,2,8,3,2,3,1,7,3,5,7,7,9,4,6,3,4,8,3,9,6,5,1,8,2,8,6,6,6,2,0,9,5,0,1,5,1,3,2,5,6,2,1,0,3,6,1,6,7,4,3,8,2,3,8,0,3,8,8,2,8,7,9,9,5,5,0,6,3,5,9,3,7,7,4,0,8,0,8,8,0,7,0,8,8,1,6,5,7,3,5,2,9,3,1,3,1,3,3,5,4,2,0,2,9,5,5,9,8,4,2,0,0,1,4,8,6,8,6,4,3,2,7,4,3,9,0,2,3,0,1,1,9,6,2,1,5,3,4,7,1,1,1,9,6,9,7,2,2,9,2,7,1,9,8,8,2,8,2,9,2,9,6,9,6,7,0,7,1,7,1,6,9,3,1,6,5,2,2,5,1,6,8,0,7,1,5,0,4,0,8,7,9,0,2,7,6,3,1,9,8,0,7,3,4,6,0,2,5,9,0,1,6,7,6,7,4,9,4,2,8,9,7,5,6,0,2,5,7,3,5,6,5,8,1,2,5,1,7,1,4,8,0,3,5,5,0,3,0,2,2,2,0,5,1,9,7,8,6,1,7,9,4,0,2,8,6,5,5,5,5,5,0,0,3,2,3,9,3,5,7,9,9,0,9,6,3,6,7,0,4,0,8,9,7,5,0,6,1,7,1,8,4,7,1,7,4,0,2,1,4,3,9,0,4,8,8,0,1,2,0,0,7,1,9,9,5,4,1,1,7,6,7,5,5,8,1,4,9,4,7,7,9,5,5,5,7,2,2,7,6,6,7,6,5,5,4,0,7,4,7,8,9,8,7,2,3,3,2,9,8,3,9,7,3,8,7,9,1,0,5,9,4,5,2,6,3,4,8,3,6,3],\"y\":{\"__ndarray__\":\"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\",\"dtype\":\"float64\",\"order\":\"little\",\"shape\":[1000]}},\"selected\":{\"id\":\"1958\"},\"selection_policy\":{\"id\":\"1957\"}},\"id\":\"1937\",\"type\":\"ColumnDataSource\"},{\"attributes\":{},\"id\":\"1927\",\"type\":\"WheelZoomTool\"},{\"attributes\":{},\"id\":\"1959\",\"type\":\"UnionRenderers\"},{\"attributes\":{\"line_color\":\"red\",\"x\":{\"field\":\"x\"},\"y\":{\"field\":\"y\"}},\"id\":\"1944\",\"type\":\"Line\"},{\"attributes\":{},\"id\":\"1960\",\"type\":\"Selection\"},{\"attributes\":{\"coordinates\":null,\"data_source\":{\"id\":\"1937\"},\"glyph\":{\"id\":\"1938\"},\"group\":null,\"hover_glyph\":null,\"muted_glyph\":{\"id\":\"1940\"},\"nonselection_glyph\":{\"id\":\"1939\"},\"view\":{\"id\":\"1942\"}},\"id\":\"1941\",\"type\":\"GlyphRenderer\"},{\"attributes\":{\"coordinates\":null,\"group\":null,\"items\":[{\"id\":\"1962\"}],\"location\":\"bottom_right\"},\"id\":\"1961\",\"type\":\"Legend\"},{\"attributes\":{\"coordinates\":null,\"group\":null},\"id\":\"1949\",\"type\":\"Title\"},{\"attributes\":{},\"id\":\"1914\",\"type\":\"LinearScale\"},{\"attributes\":{\"tools\":[{\"id\":\"1926\"},{\"id\":\"1927\"},{\"id\":\"1928\"},{\"id\":\"1929\"},{\"id\":\"1930\"}]},\"id\":\"1931\",\"type\":\"Toolbar\"},{\"attributes\":{\"fill_color\":{\"value\":\"#1f77b4\"},\"line_color\":{\"value\":\"#1f77b4\"},\"radius\":{\"value\":0.02},\"x\":{\"field\":\"x\"},\"y\":{\"field\":\"y\"}},\"id\":\"1938\",\"type\":\"Circle\"},{\"attributes\":{\"axis_label\":\"x\",\"coordinates\":null,\"formatter\":{\"id\":\"1955\"},\"group\":null,\"major_label_policy\":{\"id\":\"1956\"},\"ticker\":{\"id\":\"1919\"}},\"id\":\"1918\",\"type\":\"LinearAxis\"},{\"attributes\":{},\"id\":\"1956\",\"type\":\"AllLabels\"},{\"attributes\":{\"fill_alpha\":{\"value\":0.1},\"fill_color\":{\"value\":\"#1f77b4\"},\"hatch_alpha\":{\"value\":0.1},\"line_alpha\":{\"value\":0.1},\"line_color\":{\"value\":\"#1f77b4\"},\"radius\":{\"value\":0.02},\"x\":{\"field\":\"x\"},\"y\":{\"field\":\"y\"}},\"id\":\"1939\",\"type\":\"Circle\"},{\"attributes\":{\"end\":12,\"start\":-1},\"id\":\"1912\",\"type\":\"Range1d\"},{\"attributes\":{},\"id\":\"1916\",\"type\":\"LinearScale\"},{\"attributes\":{},\"id\":\"1923\",\"type\":\"BasicTicker\"},{\"attributes\":{\"axis\":{\"id\":\"1918\"},\"coordinates\":null,\"group\":null,\"ticker\":null},\"id\":\"1921\",\"type\":\"Grid\"},{\"attributes\":{\"axis\":{\"id\":\"1922\"},\"coordinates\":null,\"dimension\":1,\"group\":null,\"ticker\":null},\"id\":\"1925\",\"type\":\"Grid\"},{\"attributes\":{},\"id\":\"1919\",\"type\":\"BasicTicker\"},{\"attributes\":{},\"id\":\"1958\",\"type\":\"Selection\"},{\"attributes\":{\"fill_alpha\":{\"value\":0.2},\"fill_color\":{\"value\":\"#1f77b4\"},\"hatch_alpha\":{\"value\":0.2},\"line_alpha\":{\"value\":0.2},\"line_color\":{\"value\":\"#1f77b4\"},\"radius\":{\"value\":0.02},\"x\":{\"field\":\"x\"},\"y\":{\"field\":\"y\"}},\"id\":\"1940\",\"type\":\"Circle\"},{\"attributes\":{},\"id\":\"1957\",\"type\":\"UnionRenderers\"},{\"attributes\":{\"axis_label\":\"y\",\"coordinates\":null,\"formatter\":{\"id\":\"1952\"},\"group\":null,\"major_label_policy\":{\"id\":\"1953\"},\"ticker\":{\"id\":\"1923\"}},\"id\":\"1922\",\"type\":\"LinearAxis\"},{\"attributes\":{},\"id\":\"1930\",\"type\":\"CrosshairTool\"},{\"attributes\":{\"label\":{\"value\":\"y = 1.29 + 0.91 x\"},\"renderers\":[{\"id\":\"1947\"}]},\"id\":\"1962\",\"type\":\"LegendItem\"}],\"root_ids\":[\"1909\"]},\"title\":\"Bokeh Application\",\"version\":\"2.4.3\"}};\n",
       "  const render_items = [{\"docid\":\"e8baf68e-9aeb-455c-9001-9835f26974cf\",\"root_ids\":[\"1909\"],\"roots\":{\"1909\":\"a24d9f16-b0e0-4e55-ac9f-447b9058013c\"}}];\n",
       "  root.Bokeh.embed.embed_items_notebook(docs_json, render_items);\n",
       "  }\n",
       "  if (root.Bokeh !== undefined) {\n",
       "    embed_document(root);\n",
       "  } else {\n",
       "    let attempts = 0;\n",
       "    const timer = setInterval(function(root) {\n",
       "      if (root.Bokeh !== undefined) {\n",
       "        clearInterval(timer);\n",
       "        embed_document(root);\n",
       "      } else {\n",
       "        attempts++;\n",
       "        if (attempts > 100) {\n",
       "          clearInterval(timer);\n",
       "          console.log(\"Bokeh: ERROR: Unable to run BokehJS code because BokehJS library is missing\");\n",
       "        }\n",
       "      }\n",
       "    }, 10, root)\n",
       "  }\n",
       "})(window);"
      ],
      "application/vnd.bokehjs_exec.v0+json": ""
     },
     "metadata": {
      "application/vnd.bokehjs_exec.v0+json": {
       "id": "1909"
      }
     },
     "output_type": "display_data"
    }
   ],
   "source": [
    "random.seed(2)\n",
    "x  = random.choice(10, 1000)\n",
    "err = random.randn(len(x))\n",
    "y = 1.32 + 0.91 * x + err\n",
    "\n",
    "fig=figure(**options,\n",
    "                x_axis_label = \"x\",\n",
    "                y_axis_label = \"y\",\n",
    "                x_range=(-1, 10  ),       # range x da visualizzare inizialmente\n",
    "                y_range=(-1, 12 ),       # range y da visualizzare inizialmente \n",
    "          )\n",
    "fig.circle(x,y,radius=0.02) \n",
    "par = polyfit(x, y, 1, full=True)\n",
    "slope=par[0][0]\n",
    "intercept=par[0][1]\n",
    "y_predicted = [slope*i + intercept  for i in x]\n",
    "err2 = 0\n",
    "residuals=list()\n",
    "for (i,j,k) in zip(x,y,y_predicted):\n",
    "    err2 =err2 + (j-k)**2\n",
    "    residuals.append(j-k)\n",
    "    \n",
    "data = data = {'slope':slope, 'intercept':intercept, 'err2':err2}\n",
    "    \n",
    "fig.line(x,y_predicted, color='red', legend_label='y = {intercept:4.2f} + {slope:4.2f} x'.format(**data))\n",
    "fig.legend.location = 'bottom_right'\n",
    "display(Latex(\n",
    "    '$\\qquad\\displaystyle\\sum_{{i=1}}^n e_i^2=\\ ${err2:4.2f}\\\n",
    "     $\\qquad\\\\beta_0=\\ ${intercept:4.2f}\\\n",
    "     $\\qquad\\\\beta_1=\\ ${slope:4.2f}'.format(**data)))\n",
    "show(fig)"
   ]
  },
  {
   "cell_type": "markdown",
   "id": "bc7c7d44",
   "metadata": {},
   "source": [
    "Plottiamo un istogramma dei <mark>residui</mark> per vedere come sono distribuiti (per l'inferenza statistica qui sotto avremmo bisogno siamo verificate certe condizioni)"
   ]
  },
  {
   "cell_type": "code",
   "execution_count": 9,
   "id": "dad61c13",
   "metadata": {},
   "outputs": [
    {
     "data": {
      "text/html": [
       "\n",
       "  <div class=\"bk-root\" id=\"87caeaad-2ed2-4169-9ec5-7e174dc23325\" data-root-id=\"2287\"></div>\n"
      ]
     },
     "metadata": {},
     "output_type": "display_data"
    },
    {
     "data": {
      "application/javascript": [
       "(function(root) {\n",
       "  function embed_document(root) {\n",
       "  const docs_json = {\"b651cfc6-512a-479b-aa3b-1b96811907e0\":{\"defs\":[],\"roots\":{\"references\":[{\"attributes\":{\"below\":[{\"id\":\"2296\"}],\"center\":[{\"id\":\"2299\"},{\"id\":\"2303\"}],\"height\":300,\"left\":[{\"id\":\"2300\"}],\"renderers\":[{\"id\":\"2319\"}],\"title\":{\"id\":\"2416\"},\"toolbar\":{\"id\":\"2309\"},\"x_range\":{\"id\":\"2288\"},\"x_scale\":{\"id\":\"2292\"},\"y_range\":{\"id\":\"2290\"},\"y_scale\":{\"id\":\"2294\"}},\"id\":\"2287\",\"subtype\":\"Figure\",\"type\":\"Plot\"},{\"attributes\":{},\"id\":\"2419\",\"type\":\"BasicTickFormatter\"},{\"attributes\":{\"tools\":[{\"id\":\"2304\"},{\"id\":\"2305\"},{\"id\":\"2306\"},{\"id\":\"2307\"},{\"id\":\"2308\"}]},\"id\":\"2309\",\"type\":\"Toolbar\"},{\"attributes\":{},\"id\":\"2420\",\"type\":\"AllLabels\"},{\"attributes\":{\"axis\":{\"id\":\"2300\"},\"coordinates\":null,\"dimension\":1,\"group\":null,\"ticker\":null},\"id\":\"2303\",\"type\":\"Grid\"},{\"attributes\":{},\"id\":\"2306\",\"type\":\"ResetTool\"},{\"attributes\":{},\"id\":\"2422\",\"type\":\"BasicTickFormatter\"},{\"attributes\":{\"coordinates\":null,\"formatter\":{\"id\":\"2419\"},\"group\":null,\"major_label_policy\":{\"id\":\"2420\"},\"ticker\":{\"id\":\"2301\"}},\"id\":\"2300\",\"type\":\"LinearAxis\"},{\"attributes\":{},\"id\":\"2423\",\"type\":\"AllLabels\"},{\"attributes\":{\"bottom\":{\"value\":0},\"fill_alpha\":{\"value\":0.1},\"fill_color\":{\"value\":\"#1f77b4\"},\"hatch_alpha\":{\"value\":0.1},\"left\":{\"field\":\"left\"},\"line_alpha\":{\"value\":0.1},\"right\":{\"field\":\"right\"},\"top\":{\"field\":\"top\"}},\"id\":\"2317\",\"type\":\"Quad\"},{\"attributes\":{\"axis\":{\"id\":\"2296\"},\"coordinates\":null,\"group\":null,\"ticker\":null},\"id\":\"2299\",\"type\":\"Grid\"},{\"attributes\":{},\"id\":\"2301\",\"type\":\"BasicTicker\"},{\"attributes\":{\"bottom\":{\"value\":0},\"fill_color\":{\"value\":\"#1f77b4\"},\"left\":{\"field\":\"left\"},\"right\":{\"field\":\"right\"},\"top\":{\"field\":\"top\"}},\"id\":\"2316\",\"type\":\"Quad\"},{\"attributes\":{},\"id\":\"2304\",\"type\":\"PanTool\"},{\"attributes\":{\"source\":{\"id\":\"2315\"}},\"id\":\"2320\",\"type\":\"CDSView\"},{\"attributes\":{\"bottom\":{\"value\":0},\"fill_alpha\":{\"value\":0.2},\"fill_color\":{\"value\":\"#1f77b4\"},\"hatch_alpha\":{\"value\":0.2},\"left\":{\"field\":\"left\"},\"line_alpha\":{\"value\":0.2},\"right\":{\"field\":\"right\"},\"top\":{\"field\":\"top\"}},\"id\":\"2318\",\"type\":\"Quad\"},{\"attributes\":{},\"id\":\"2424\",\"type\":\"UnionRenderers\"},{\"attributes\":{},\"id\":\"2307\",\"type\":\"SaveTool\"},{\"attributes\":{},\"id\":\"2425\",\"type\":\"Selection\"},{\"attributes\":{\"coordinates\":null,\"group\":null},\"id\":\"2416\",\"type\":\"Title\"},{\"attributes\":{},\"id\":\"2308\",\"type\":\"CrosshairTool\"},{\"attributes\":{},\"id\":\"2290\",\"type\":\"DataRange1d\"},{\"attributes\":{\"data\":{\"left\":{\"__ndarray__\":\"F/K2PqroB8A+m6ClgzQGwGVEigxdgATAjO1zczbMAsC0ll3aDxgBwLZ/joLSx/6/BNJhUIVf+79TJDUeOPf3v6F2COzqjvS/78jbuZ0m8b98Nl4PoXzrvxjbBKsGrOS/aP9Wjdi2279AkUiJRyvMvwB4ZPy+G32/0EmCmYtZyj+w23OV+s3aPzxJE6+XN+Q/oKRsEzII6z8CAOM7ZuzwP7KtD26zVPQ/Zls8oAC99z8WCWnSTSX7P8a2lQSbjf4/PTJhG/T6AEAViXe0Gq8CQO/fjU1BYwRAxzak5mcXBkCfjbp/jssHQHnk0Bi1fwlA\",\"dtype\":\"float64\",\"order\":\"little\",\"shape\":[30]},\"right\":{\"__ndarray__\":\"PpugpYM0BsBlRIoMXYAEwIztc3M2zALAtJZd2g8YAcC2f46C0sf+vwTSYVCFX/u/UyQ1Hjj397+hdgjs6o70v+/I27mdJvG/fDZeD6F8678Y2wSrBqzkv2j/Vo3Yttu/QJFIiUcrzL8AeGT8vht9v9BJgpmLWco/sNtzlfrN2j88SROvlzfkP6CkbBMyCOs/AgDjO2bs8D+yrQ9us1T0P2ZbPKAAvfc/Fglp0k0l+z/GtpUEm43+Pz0yYRv0+gBAFYl3tBqvAkDv341NQWMEQMc2pOZnFwZAn426f47LB0B55NAYtX8JQFA757HbMwtA\",\"dtype\":\"float64\",\"order\":\"little\",\"shape\":[30]},\"top\":[3,3,5,1,9,9,26,29,45,61,69,76,84,94,82,74,70,68,56,40,28,20,18,12,8,2,4,2,1,1]},\"selected\":{\"id\":\"2425\"},\"selection_policy\":{\"id\":\"2424\"}},\"id\":\"2315\",\"type\":\"ColumnDataSource\"},{\"attributes\":{},\"id\":\"2288\",\"type\":\"DataRange1d\"},{\"attributes\":{},\"id\":\"2297\",\"type\":\"BasicTicker\"},{\"attributes\":{},\"id\":\"2294\",\"type\":\"LinearScale\"},{\"attributes\":{},\"id\":\"2292\",\"type\":\"LinearScale\"},{\"attributes\":{\"coordinates\":null,\"data_source\":{\"id\":\"2315\"},\"glyph\":{\"id\":\"2316\"},\"group\":null,\"hover_glyph\":null,\"muted_glyph\":{\"id\":\"2318\"},\"nonselection_glyph\":{\"id\":\"2317\"},\"view\":{\"id\":\"2320\"}},\"id\":\"2319\",\"type\":\"GlyphRenderer\"},{\"attributes\":{\"coordinates\":null,\"formatter\":{\"id\":\"2422\"},\"group\":null,\"major_label_policy\":{\"id\":\"2423\"},\"ticker\":{\"id\":\"2297\"}},\"id\":\"2296\",\"type\":\"LinearAxis\"},{\"attributes\":{},\"id\":\"2305\",\"type\":\"WheelZoomTool\"}],\"root_ids\":[\"2287\"]},\"title\":\"Bokeh Application\",\"version\":\"2.4.3\"}};\n",
       "  const render_items = [{\"docid\":\"b651cfc6-512a-479b-aa3b-1b96811907e0\",\"root_ids\":[\"2287\"],\"roots\":{\"2287\":\"87caeaad-2ed2-4169-9ec5-7e174dc23325\"}}];\n",
       "  root.Bokeh.embed.embed_items_notebook(docs_json, render_items);\n",
       "  }\n",
       "  if (root.Bokeh !== undefined) {\n",
       "    embed_document(root);\n",
       "  } else {\n",
       "    let attempts = 0;\n",
       "    const timer = setInterval(function(root) {\n",
       "      if (root.Bokeh !== undefined) {\n",
       "        clearInterval(timer);\n",
       "        embed_document(root);\n",
       "      } else {\n",
       "        attempts++;\n",
       "        if (attempts > 100) {\n",
       "          clearInterval(timer);\n",
       "          console.log(\"Bokeh: ERROR: Unable to run BokehJS code because BokehJS library is missing\");\n",
       "        }\n",
       "      }\n",
       "    }, 10, root)\n",
       "  }\n",
       "})(window);"
      ],
      "application/vnd.bokehjs_exec.v0+json": ""
     },
     "metadata": {
      "application/vnd.bokehjs_exec.v0+json": {
       "id": "2287"
      }
     },
     "output_type": "display_data"
    }
   ],
   "source": [
    "hist = figure(**options)\n",
    "frequencies, edges = histogram(residuals, 30)\n",
    "hist.quad(top=frequencies, bottom=0, left=edges[:-1], right=edges[1:], line_color=\"black\")\n",
    "show(hist)"
   ]
  },
  {
   "cell_type": "markdown",
   "id": "14214bb1",
   "metadata": {},
   "source": [
    "<hr><hr>\n",
    "\n",
    "L'espressione analitica per calcolare $\\beta_0$ e $\\beta_1$ ottenuti minimizzando $\\displaystyle\\sum_{{i=1}}^n e_i^2$ è la seguente (non serve memorizzare)\n",
    "\n",
    "$$\\beta_1=\\displaystyle\\frac{\\sum_i^n (x_i-\\bar x)(y_i-\\bar y)}{\\sum_i^n (x_i-\\bar x)^2}$$  \n",
    "\n",
    "$$\\beta_0=\\bar y - \\beta_1\\bar x$$\n",
    "\n",
    "con l'usuale significato di $\\bar y$ e $\\bar x$."
   ]
  },
  {
   "cell_type": "markdown",
   "id": "8e7e9821",
   "metadata": {},
   "source": [
    "## Inferenza statistica\n",
    "\n",
    "\n",
    "Assumiamo che le v.a. $E_i$ che producono gli errori $e_i$ siano indipendenti, normali con media $\\mu=0$ e deviazione standard $\\sigma$ ignota.\n",
    "\n",
    "Assumiamo che i predittori $x_i$ siano variabili deterministiche, cioè non soggette ad errore e conoscute con infinita precisone (ci si può sempre ridurre a questo caso).\n",
    "\n",
    "Le risposte  $Y_i$ sono quindi delle v.a.\n",
    "\n",
    "$$Y_i = \\beta_0 + \\beta_1 x_i + E_i$$\n",
    "\n",
    "con distribuzione $N(\\beta_0 + \\beta_1 x_i,\\sigma^2)$, dove $\\beta_0$ e $\\beta_1$ sono ignoti.\n",
    "\n",
    "Gli stimatori dei parametri $\\beta_0$ e $\\beta_1$ ottenuti con il metodo dei minimi quadrati sono delle v.a. $B_0$, $B_1$ \n",
    "\n",
    "$B_1=\\displaystyle\\frac{\\sum_i (x_i-\\bar x)(Y_i-\\bar Y)}{\\sum_i (x_i-\\bar x)^2}\\qquad$  $B_0=\\bar Y - B_1\\bar x$\n"
   ]
  },
  {
   "cell_type": "markdown",
   "id": "f11749ca",
   "metadata": {},
   "source": [
    "È possibile dimostrare che le seguenti v.a. *(non memorizzare)* hanno distribuzione $T(n-2)$\n",
    "\n",
    "$\\displaystyle\\frac{B_0-\\beta_0}{S_0}\\qquad$ dove $\\ \\displaystyle S_0 = S\\ \\sqrt{\\frac{\\sum x_i^2}{\\sum(x_i-\\bar x)^2}}\\quad$ ed $\\ S = \\displaystyle\\sqrt{\\frac1{n-2}\\sum_{i=1}^n[y_i-(B_0+B_1x_i)]^2}$\n",
    "\n",
    "$\\displaystyle\\frac{B_1-\\beta_1}{S_1}\\qquad$ dove $\\ \\displaystyle S_1 = S\\ \\sqrt{\\frac1{\\sum(x_i-\\bar x)^2}}$\n",
    "\n"
   ]
  },
  {
   "cell_type": "markdown",
   "id": "eeca9d34",
   "metadata": {},
   "source": [
    "## Intervallo di confidenza per $\\beta_0$ e $\\beta_1$\n",
    "\n",
    "Sia $t_{\\alpha/2}$ tale che $\\Pr(T<-t_{\\alpha/2})=\\alpha/2$ con $T\\sim T(n-2)$\n",
    "\n",
    "Quindi\n",
    "\n",
    "$\\displaystyle\\Pr(-t_{\\alpha/2}\\le\\frac{B_0-\\beta_0}{S_0}\\le t_{\\alpha/2})=1-\\alpha$\n",
    "\n",
    "$\\displaystyle\\Pr(-t_{\\alpha/2}\\le\\frac{B_1-\\beta_1}{S_1}\\le t_{\\alpha/2})=1-\\alpha$\n",
    "\n",
    "Scrivo $s_0$ ed $s_1$ per il valore osservato di $S_0$ ed $S_1$.\n",
    "\n",
    "Scrivo $b_0$ ed $b_1$ per il valore osservato di $B_0$ ed $B_1$ (le stime per $\\beta_0$ e $beta_1$).\n",
    "\n",
    "Abbiamo quindi che \n",
    "\n",
    "$\\displaystyle\\beta_0\\in(b_0-s_0t_{\\alpha/2},\\ b_0+s_0t_{\\alpha/2})$ con una confidenza $1-\\alpha$\n",
    "\n",
    "$\\displaystyle\\beta_1\\in(b_1-s_1t_{\\alpha/2},\\ b_1+s_1t_{\\alpha/2})$ con una confidenza $1-\\alpha$"
   ]
  },
  {
   "cell_type": "markdown",
   "id": "ca4e836d",
   "metadata": {},
   "source": [
    "## Test di ipotesi su $\\beta_1$\n",
    "\n",
    "Dato un set di misure $(x_i,y_i)$, una domanda naturale è la seguente:\n",
    "\n",
    "*Può essere che i valori della $x$ non abbiano una reale infuenza sui valori della $y$?*\n",
    "\n",
    "In altre parole, è compatibile con i valori osservati che $\\beta_1=0?$\n",
    "\n",
    "Moltre librerie di statistica oltre a calcolare $\\beta_0$ e $\\beta_1$ e il loro intervallo di confidenza, calcolano il p-valore del segiente test di ipotesi \n",
    "\n",
    "$H_0:$ $\\beta_1=0$ e $H_A=\\beta_1\\neq 0$\n",
    "\n",
    "Si tratta di un t-test a due code chiamato <mark>marginal t-tests</mark>\n",
    "\n",
    "Se il p-valore è grande ($>0.05$, ma dipende dai contesti) non si può rigettare con sufficiente confidenza l'ipotesi che l'apparente dipendenza della $y$ dalla $x$ sia dovuta al caso."
   ]
  },
  {
   "cell_type": "markdown",
   "id": "fd0273c9",
   "metadata": {},
   "source": [
    "<hr><hr><hr><hr><hr>\n",
    "\n",
    "# Regressione lineare multipla\n",
    "\n",
    "Consideriamo ora il caso in cui abbiamo più di un predittore, per esempio abbiamo $p$ predittori.\n",
    "Il modello è\n",
    "\n",
    "$$y = \\beta_0 + \\beta_1x_1+\\dots+\\beta_px_p$$\n",
    "\n",
    "In un esperimento misuriamo $p+1$ tuple di valori $(x_{1,i},\\dots,x_{p,i}, y_i)$ per $i=1,\\dots,n$.\n",
    "\n",
    "Interpretiamo le risposte come i valori dati dal modello più errori casuali\n",
    "\n",
    "$$y_i = \\beta_0 + \\beta_1 x_{1,i}+\\dots+\\beta_p x_{p,i} + e_i$$\n",
    "\n",
    "I valori stimati di $\\beta_0, \\beta_1,\\dots,\\beta_p$ si ottengono (generalmente) minimizzando $\\sum_i e_i^2$."
   ]
  },
  {
   "cell_type": "markdown",
   "id": "bb92b667",
   "metadata": {},
   "source": [
    "Il modello che si usa per l'inferenza statistica è simile a quello usato per la regressione semplice i predittori si interpretano come variabili deterministiche e le risposte sono v.a. funzione delle v.a. $E_i$\n",
    "\n",
    "$$Y_i = \\beta_0 + \\beta_1 x_{1,i}+\\dots+\\beta_p x_{p,i} + E_i$$\n",
    "\n",
    "Assumendo che le v.a. $E_i$ siano di tipo $N(0,\\sigma^2)$ con $\\sigma$ ignota si riesce a stimare un intervallo di confidenza per $\\beta_0, \\beta_1,\\dots,\\beta_p$."
   ]
  }
 ],
 "metadata": {
  "kernelspec": {
   "display_name": "Python 3 (ipykernel)",
   "language": "python",
   "name": "python3"
  },
  "language_info": {
   "codemirror_mode": {
    "name": "ipython",
    "version": 3
   },
   "file_extension": ".py",
   "mimetype": "text/x-python",
   "name": "python",
   "nbconvert_exporter": "python",
   "pygments_lexer": "ipython3",
   "version": "3.9.13"
  }
 },
 "nbformat": 4,
 "nbformat_minor": 5
}
