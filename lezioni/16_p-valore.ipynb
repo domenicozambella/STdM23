{
 "cells": [
  {
   "cell_type": "code",
   "execution_count": 1,
   "metadata": {},
   "outputs": [
    {
     "data": {
      "text/html": [
       "<style>\n",
       "div.jp-MarkdownOutput {font-family: \"Times New Roman\", Times, serif;   \n",
       "    /* background-color: #eee;  */\n",
       "    /* border-left: 5px solid #00b5b4; */\n",
       "    font-size: 10pt;\n",
       "    line-height: 140%;\n",
       "}\n",
       ".text_cell_render {\n",
       "    font-family: \"Times New Roman\", Times, serif;    \n",
       "    /* background-color: #eee;  */\n",
       "    /* border-left: 5px solid #00b5b4; */\n",
       "    font-size: 14pt;\n",
       "    line-height: 140%;s\n",
       "}\n",
       "\n",
       "h1 {\n",
       "    font-size: xx-large  !important;\n",
       "    margin-top: 0ex !important;\n",
       "}\n",
       "\n",
       "h2 {\n",
       "    font-size: larger !important;\n",
       "    margin-top: 0ex !important;\n",
       "    margin-bottom: 0ex !important;\n",
       "    padding-bottom: 0ex !important;\n",
       "}\n",
       "\n",
       "h3 {\n",
       "    font-size: large !important;\n",
       "    margin-top: 0ex !important;\n",
       "    margin-bottom: 0ex !important;\n",
       "    padding-bottom: 0ex !important;\n",
       "}\n",
       "\n",
       "mark {\n",
       "    background-color: #ffdd00;\n",
       "    border-top-right-radius: 5px;\n",
       "    border-top-left-radius: 5px;\n",
       "    border-bottom-right-radius: 5px;\n",
       "    border-bottom-left-radius: 5px;\n",
       "    padding-top: 0.1ex;\n",
       "    padding-bottom: 0.2ex;\n",
       "    padding-left: 0.7ex;\n",
       "    padding-right: 0.7ex;\n",
       "}\n",
       "\n",
       ".ita {\n",
       "    background-color: #bbddee;\n",
       "}\n",
       "\n",
       ".errore {background-color:#d88;\n",
       "        width:310px;\n",
       "        height:17ex;\n",
       "        display:inline-block;\n",
       "        margin:5px;\n",
       "        padding:8px;\n",
       "}\n",
       "\n",
       ".corretto {background-color:#2d8;\n",
       "        width:310px;\n",
       "        height:17ex;\n",
       "        display:inline-block;\n",
       "        margin:5px;\n",
       "        padding:8px;\n",
       "}\n",
       "\n",
       "n-a {background-color: #ffdddd;}\n",
       "\n",
       "ul, ol {\n",
       "     padding-left: 2ex !important;\n",
       "}\n",
       "ul {\n",
       "     margin-top: 0ex !important;\n",
       "     margin-bottom: 0ex !important;\n",
       "     list-style-type: square !important;\n",
       "}\n",
       "\n",
       "div.warn {    \n",
       "    background-color: #fcf2f2;\n",
       "    border-color: #dFb5b4;\n",
       "    border-left: 5px solid #dfb5b4;\n",
       "    margin-top: 1ex;\n",
       "    padding: 1ex;\n",
       "}\n",
       ".right{\n",
       "    float:right\n",
       "}\n",
       "\n",
       "hr { \n",
       "    display: block;\n",
       "    margin-top: 0.5ex;\n",
       "    margin-bottom: 0.5ex;\n",
       "    margin-left: auto;\n",
       "    margin-right: auto;\n",
       "    border-style: inset;\n",
       "    border-width: 1px;\n",
       "}\n",
       "</style>\n"
      ],
      "text/plain": [
       "<IPython.core.display.HTML object>"
      ]
     },
     "execution_count": 1,
     "metadata": {},
     "output_type": "execute_result"
    }
   ],
   "source": [
    "# RUN THIS CELL: it loads some style files\n",
    "from IPython.display import HTML, display, Math\n",
    "with open( './style/custom.css', 'r' ) as f: html_style = f.read()\n",
    "HTML( html_style )"
   ]
  },
  {
   "cell_type": "markdown",
   "metadata": {},
   "source": [
    "# Uso del p-valore (esempio con test binomiale)\n",
    "\n",
    "Abbiamo monete equilibrate e monete difettose. Le monete equilibrate hanno probabilità di successo $p=1/2$ le monete difettose hanno probabilità di successo ignota $p< 1/2$. Non conosciamo la frazione di monete difettose. Vogliamo fare il seguente test di ipotesi con una significatività $\\alpha=5\\%$:\n",
    "\n",
    "$H_0:\\kern3.5ex p=1/2\\quad$ ipotesi nulla\n",
    "\n",
    "$H_A:\\kern3ex p< 1/2\\quad$ ipotesi alternativa\n",
    "\n",
    "Per decidere tra equilibrata o difettosa, lanciamo la moneta $40$ volte e osserviamo $x=11$ successi. Possiamo rigettare l'ipotesi nulla con la significatività che ci siamo prefissi?"
   ]
  },
  {
   "cell_type": "markdown",
   "metadata": {},
   "source": [
    "## Metodo 1 (lungo)\n",
    "\n",
    "Calcoliamo la regione di rifiuto di un test con significatività $\\alpha$ e controlliamo se $x$, il risultato ottenuto, appartiene a questa regione. La zona di rifiuto ha la forma $[0, k_\\alpha]$ dove $k_\\alpha$ è un qualche numero che dipende da $\\alpha$.\n",
    "\n",
    "$k_\\alpha$ è l'intero tale che $\\Pr( X\\le k_\\alpha)=\\alpha$ dove $X\\sim B(40,1/2)$. (Siccome la distribuzione è discreta potremmo non ottenere un intero $k_\\alpha$ che soddisfa uguaglianza in modo esatto, in questo caso prendiamo il $k_\\alpha$ che meglio approssima dal basso.)\n",
    "\n",
    "La funzione che dato $\\alpha$ calcola il massimo $k_\\alpha$ tale che $\\Pr( X\\le k_\\alpha)\\le \\alpha$ si chiama funzione percentile (o quantile)."
   ]
  },
  {
   "cell_type": "code",
   "execution_count": 16,
   "metadata": {},
   "outputs": [
    {
     "data": {
      "text/plain": [
       "15.0"
      ]
     },
     "execution_count": 16,
     "metadata": {},
     "output_type": "execute_result"
    }
   ],
   "source": [
    "from scipy.stats import binom\n",
    "k_alpha = binom.ppf(0.05, 40,0.5)\n",
    "k_alpha"
   ]
  },
  {
   "cell_type": "markdown",
   "metadata": {},
   "source": [
    "Poiché $x = 11\\le 15 = k_\\alpha$, rifiuto l'ipotesi nulla."
   ]
  },
  {
   "cell_type": "markdown",
   "metadata": {},
   "source": [
    "## Metodo 2 (p-valore)\n",
    "\n",
    "Per controllare se $x\\le k_\\alpha$ non serve calcolare $k_\\alpha$!!!\n",
    "\n",
    "Osserviamo che $x\\le k_\\alpha$ se e solo se $\\Pr(X\\le x)\\le \\Pr( X\\le k_\\alpha)$.\n",
    " Ma $\\Pr( X\\le k_\\alpha)$ è per definizione uguale ad $\\alpha$. Quindi rifiutiamo l'ipotesi nulla se $\\Pr(X\\le x)\\le \\alpha$.\n",
    " \n",
    "La probabilità $\\Pr(X\\le x)$ si chiama il <mark>p-valore</mark> dell'osservazione $x$.\n",
    "\n",
    "Nel nostro caso il p-valore è"
   ]
  },
  {
   "cell_type": "code",
   "execution_count": 17,
   "metadata": {},
   "outputs": [
    {
     "data": {
      "text/plain": [
       "0.0032132880478457099"
      ]
     },
     "execution_count": 17,
     "metadata": {},
     "output_type": "execute_result"
    }
   ],
   "source": [
    "p_value = binom.cdf(11, 40,0.5)\n",
    "p_value"
   ]
  },
  {
   "cell_type": "markdown",
   "metadata": {},
   "source": [
    "Poiché il p-valore $= 0.003 < 0.05 = \\alpha$ rifiuto l'ipotesi nulla."
   ]
  },
  {
   "cell_type": "code",
   "execution_count": null,
   "metadata": {},
   "outputs": [],
   "source": [
    "k_alpha = binom.ppf(0.05, 40,0.5) + \n",
    "k_alpha"
   ]
  }
 ],
 "metadata": {
  "kernelspec": {
   "display_name": "Python 3 (ipykernel)",
   "language": "python",
   "name": "python3"
  },
  "language_info": {
   "codemirror_mode": {
    "name": "ipython",
    "version": 3
   },
   "file_extension": ".py",
   "mimetype": "text/x-python",
   "name": "python",
   "nbconvert_exporter": "python",
   "pygments_lexer": "ipython3",
   "version": "3.9.13"
  }
 },
 "nbformat": 4,
 "nbformat_minor": 2
}
