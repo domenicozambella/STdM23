{
 "cells": [
  {
   "cell_type": "code",
   "execution_count": 1,
   "id": "983f461b",
   "metadata": {},
   "outputs": [
    {
     "data": {
      "text/html": [
       "<style>\n",
       "div.jp-MarkdownOutput {font-family: \"Times New Roman\", Times, serif;   \n",
       "    /* background-color: #eee;  */\n",
       "    /* border-left: 5px solid #00b5b4; */\n",
       "    font-size: 14pt;\n",
       "    line-height: 150%;\n",
       "}\n",
       ".text_cell_render {\n",
       "    font-family: \"Times New Roman\", Times, serif;    \n",
       "    /* background-color: #eee;  */\n",
       "    /* border-left: 5px solid #00b5b4; */\n",
       "    font-size: 18pt;\n",
       "    line-height: 150%;\n",
       "}\n",
       "\n",
       "h1 {\n",
       "    font-size: xx-large  !important;\n",
       "    margin-top: 0ex !important;\n",
       "}\n",
       "\n",
       "h2 {\n",
       "    font-size: larger !important;\n",
       "    margin-top: 0ex !important;\n",
       "    margin-bottom: 0ex !important;\n",
       "    padding-bottom: 0ex !important;\n",
       "}\n",
       "\n",
       "h3 {\n",
       "    font-size: large !important;\n",
       "    margin-top: 0ex !important;\n",
       "    margin-bottom: 1ex !important;\n",
       "    padding-bottom: 0ex !important;\n",
       "}\n",
       "\n",
       "mark {\n",
       "    background-color: #ffdd00;\n",
       "    border-top-right-radius: 5px;\n",
       "    border-top-left-radius: 5px;\n",
       "    border-bottom-right-radius: 5px;\n",
       "    border-bottom-left-radius: 5px;\n",
       "    padding-top: 0.1ex;\n",
       "    padding-bottom: 0.2ex;\n",
       "    padding-left: 0.7ex;\n",
       "    padding-right: 0.7ex;\n",
       "}\n",
       "\n",
       ".ita {\n",
       "    background-color: #bbddee;\n",
       "}\n",
       "\n",
       ".errore {background-color:#d88;\n",
       "        width:310px;\n",
       "        height:17ex;\n",
       "        display:inline-block;\n",
       "        margin:5px;\n",
       "        padding:8px;\n",
       "}\n",
       "\n",
       ".corretto {background-color:#2d8;\n",
       "        width:310px;\n",
       "        height:17ex;\n",
       "        display:inline-block;\n",
       "        margin:5px;\n",
       "        padding:8px;\n",
       "}\n",
       "\n",
       "n-a {background-color: #ffdddd;}\n",
       "\n",
       "ul, ol {\n",
       "     padding-left: 2ex !important;\n",
       "}\n",
       "ul {\n",
       "     margin-top: 0ex !important;\n",
       "     margin-bottom: 0ex !important;\n",
       "     list-style-type: square !important;\n",
       "}\n",
       "\n",
       "div.warn {    \n",
       "    background-color: #fcf2f2;\n",
       "    border-color: #dFb5b4;\n",
       "    border-left: 5px solid #dfb5b4;\n",
       "    margin-top: 1ex;\n",
       "    padding: 1ex;\n",
       "}\n",
       ".right{\n",
       "    float:right\n",
       "}\n",
       "\n",
       "hr { \n",
       "    display: block;\n",
       "    margin-top: 0.5ex;\n",
       "    margin-bottom: 0.5ex;\n",
       "    margin-left: auto;\n",
       "    margin-right: auto;\n",
       "    border-style: inset;\n",
       "    border-width: 1px;\n",
       "}\n",
       "</style>\n"
      ],
      "text/plain": [
       "<IPython.core.display.HTML object>"
      ]
     },
     "execution_count": 1,
     "metadata": {},
     "output_type": "execute_result"
    }
   ],
   "source": [
    "# RUN THIS CELL: it loads some style files\n",
    "from IPython.display import HTML, display, Math\n",
    "with open( './style/custom.css', 'r' ) as f: html_style = f.read()\n",
    "HTML( html_style )"
   ]
  },
  {
   "cell_type": "markdown",
   "id": "e18dc3d2",
   "metadata": {},
   "source": [
    "## Descrizone del problema\n",
    "\n",
    "Una fabbrica produce confezioni di biglie rosse e blu. Una confezione corretta contiene $4\\cdot 10^5$ biglie con almeno il $40\\%$ di biglie rosse. \n",
    "\n",
    "Eseguiamo il seguente test per controllare che la percentuale di biglie rosse non sia di troppo inferiore. \n",
    "Preleviamo $100$ biglie a caso da ogni confezione e se $\\le 30$ biglie sono rosse \n",
    "la confezione viene dichiarata difettosa"
   ]
  },
  {
   "cell_type": "markdown",
   "id": "25eee915",
   "metadata": {},
   "source": [
    "$H_0:$  La confezione contiene il $40\\%$ di biglie rosse\n",
    "\n",
    "$H_A:$ La confezione contiene $<40\\%$ di biglie rosse. "
   ]
  },
  {
   "cell_type": "markdown",
   "id": "8823f595",
   "metadata": {},
   "source": [
    "Vorremmo calcolare la probabilità di un errore del II tipo (falso negativo) ovvero $\\beta=\\Pr(X>30 | H_A)$\n",
    "\n",
    "Purtroppo l'ipotesi alternativa non specifica una distribuzione ma una famiglia: $B(100,p)$ con $p<.4$.\n",
    "\n",
    "Volendo calcolare $\\beta$ nel caso più sfavorevole potremmo mettere $p=.4$ ma così troviamo $1-\\alpha$ che non è informativo.\n",
    "\n",
    "In tutte le situazioni pratiche riusciamo a fissare un $\\delta$, chiamato <mark>effect size</mark>, tale che differenze al di sotto $\\delta$ possono essere trascurate.\n",
    "L'ipotesi alternativa diventa quindi \n",
    "\n",
    "$H_A:$ La confezione contiene $\\le 40-\\delta\\%$ di biglie rosse.\n",
    "\n",
    "Quindi se pre esempio $\\delta=.06$, nel caso più sfavorevole la distribuzione è $B(100,.34)$, e con questa possiamo calcolare $\\beta$.\n",
    "\n",
    "Supponendo di conoscere la funzione $f(k,n,p)=\\Pr(X\\le k)$ per $X\\sim B(n,p)$, otteniamo\n",
    "\n",
    "$\\beta=1-f(30,100,.34)$"
   ]
  },
  {
   "cell_type": "code",
   "execution_count": null,
   "id": "770b32ee",
   "metadata": {},
   "outputs": [],
   "source": []
  }
 ],
 "metadata": {
  "kernelspec": {
   "display_name": "Python 3 (ipykernel)",
   "language": "python",
   "name": "python3"
  },
  "language_info": {
   "codemirror_mode": {
    "name": "ipython",
    "version": 3
   },
   "file_extension": ".py",
   "mimetype": "text/x-python",
   "name": "python",
   "nbconvert_exporter": "python",
   "pygments_lexer": "ipython3",
   "version": "3.9.13"
  }
 },
 "nbformat": 4,
 "nbformat_minor": 5
}
