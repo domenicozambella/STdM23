{
 "cells": [
  {
   "cell_type": "code",
   "execution_count": 1,
   "metadata": {},
   "outputs": [
    {
     "data": {
      "text/html": [
       "<style>\n",
       "div.jp-MarkdownOutput {font-family: \"Times New Roman\", Times, serif;   \n",
       "    /* background-color: #eee;  */\n",
       "    /* border-left: 5px solid #00b5b4; */\n",
       "    font-size: 14pt;\n",
       "    line-height: 150%;\n",
       "}\n",
       ".text_cell_render {\n",
       "    font-family: \"Times New Roman\", Times, serif;    \n",
       "    /* background-color: #eee;  */\n",
       "    /* border-left: 5px solid #00b5b4; */\n",
       "    font-size: 18pt;\n",
       "    line-height: 150%;\n",
       "}\n",
       "\n",
       "h1 {\n",
       "    font-size: xx-large  !important;\n",
       "    margin-top: 0ex !important;\n",
       "}\n",
       "\n",
       "h2 {\n",
       "    font-size: larger !important;\n",
       "    margin-top: 0ex !important;\n",
       "    margin-bottom: 0ex !important;\n",
       "    padding-bottom: 0ex !important;\n",
       "}\n",
       "\n",
       "h3 {\n",
       "    font-size: large !important;\n",
       "    margin-top: 0ex !important;\n",
       "    margin-bottom: 1ex !important;\n",
       "    padding-bottom: 0ex !important;\n",
       "}\n",
       "\n",
       "mark {\n",
       "    background-color: #ffdd00;\n",
       "    border-top-right-radius: 5px;\n",
       "    border-top-left-radius: 5px;\n",
       "    border-bottom-right-radius: 5px;\n",
       "    border-bottom-left-radius: 5px;\n",
       "    padding-top: 0.1ex;\n",
       "    padding-bottom: 0.2ex;\n",
       "    padding-left: 0.7ex;\n",
       "    padding-right: 0.7ex;\n",
       "}\n",
       "\n",
       ".ita {\n",
       "    background-color: #bbddee;\n",
       "}\n",
       "\n",
       ".errore {background-color:#d88;\n",
       "        width:310px;\n",
       "        height:17ex;\n",
       "        display:inline-block;\n",
       "        margin:5px;\n",
       "        padding:8px;\n",
       "}\n",
       "\n",
       ".corretto {background-color:#2d8;\n",
       "        width:310px;\n",
       "        height:17ex;\n",
       "        display:inline-block;\n",
       "        margin:5px;\n",
       "        padding:8px;\n",
       "}\n",
       "\n",
       "n-a {background-color: #ffdddd;}\n",
       "\n",
       "ul, ol {\n",
       "     padding-left: 2ex !important;\n",
       "}\n",
       "ul {\n",
       "     margin-top: 0ex !important;\n",
       "     margin-bottom: 0ex !important;\n",
       "     list-style-type: square !important;\n",
       "}\n",
       "\n",
       "div.warn {    \n",
       "    background-color: #fcf2f2;\n",
       "    border-color: #dFb5b4;\n",
       "    border-left: 5px solid #dfb5b4;\n",
       "    margin-top: 1ex;\n",
       "    padding: 1ex;\n",
       "}\n",
       ".right{\n",
       "    float:right\n",
       "}\n",
       "\n",
       "hr { \n",
       "    display: block;\n",
       "    margin-top: 0.5ex;\n",
       "    margin-bottom: 0.5ex;\n",
       "    margin-left: auto;\n",
       "    margin-right: auto;\n",
       "    border-style: inset;\n",
       "    border-width: 1px;\n",
       "}\n",
       "</style>\n"
      ],
      "text/plain": [
       "<IPython.core.display.HTML object>"
      ]
     },
     "execution_count": 1,
     "metadata": {},
     "output_type": "execute_result"
    }
   ],
   "source": [
    "from scipy.stats import norm\n",
    "from scipy.stats import t as tstudent\n",
    "\n",
    "# this loads some HTML style files\n",
    "from IPython.core.display import HTML\n",
    "with open( './style/custom.css', 'r' ) as f: html_style = f.read()\n",
    "HTML( html_style )"
   ]
  },
  {
   "cell_type": "markdown",
   "metadata": {},
   "source": [
    "# Intervallo di confidenza (distribuzione normale)\n",
    "\n",
    "\n",
    "Se $Z\\sim N(0,1)$ scriviamo $z_{\\alpha/2}$ per quel numero tale che\n",
    "\n",
    "$\\qquad\\Pr\\big(Z < - z_{\\alpha/2}\\big)\n",
    "\\ =\\ \n",
    "\\dfrac{\\alpha}{2}$\n",
    "\n",
    "Equivalentemente\n",
    "\n",
    "$\\qquad\\Pr\\big(-z_{\\alpha/2} < Z < z_{\\alpha/2}\\big)\n",
    "\\ =\\ \n",
    "1-\\alpha$\n",
    "\n",
    "\n",
    "Sia $X_1,\\dots,X_n$ un campione con distribusione $N(\\mu,\\sigma)$ con $\\mu$ ignota e $\\sigma$ nota. Sia $\\bar X$ la usuale statistica *media campionaria*.\n",
    "\n",
    "$\\qquad\\displaystyle\\Pr \\left (-z_{\\alpha/2} < \\frac{\\bar X - \\mu}{\\sigma\\big/\\sqrt{n}} < z_{\\alpha/2} \\right)\n",
    "\\ =\\ \n",
    "1-\\alpha$\n",
    "\n",
    "Equivalentemente\n",
    "\n",
    "$\\qquad\\displaystyle\\Pr \\left (\\bar X-z_{\\alpha/2}\\dfrac{\\sigma}{\\sqrt{n}} < \\mu < \\bar X + z_{\\alpha/2}\\dfrac{\\sigma}{\\sqrt{n}} \\right)\n",
    "\\ =\\ \n",
    "1-\\alpha$\n",
    "\n",
    "Se il valore della media campionaria è $\\bar x$, diremo che $(\\bar x-\\varepsilon,\\bar x+\\varepsilon)$, dove $\\varepsilon=z_{\\alpha/2}\\big(\\sigma\\big/\\sqrt{n}\\big)$, è un intervallo di confidenza di livello $1-\\alpha$.\n",
    "\n",
    "L'interpretazione è: se ripetiamo l'esperimento, con probabilità $1-\\alpha$ ritroveremo un intervallo che contiene $\\mu$."
   ]
  },
  {
   "cell_type": "markdown",
   "metadata": {},
   "source": [
    "# Esempio\n",
    "\n",
    "Si  estrae  un  campione  di  dimensione  $100$  da  una  popolazione  con  distribuzione  normale  con  varianza $\\sigma^2 = 225$ nota e valore atteso incognito $\\mu$.\n",
    "Il valore della media campionaria ottenuto è $\\bar x = 1450$.\n",
    "Vogliamo calcolare un intervallo di confidenza del valore atteso a livello di confidenza di $1-\\alpha=0.95$.\n",
    "\n",
    "Assumiamo di conoscere i valori della funzione $g(\\alpha)$ che calcola $z$ tale che $\\Pr(Z\\le z)=\\alpha$ dove $Z$ è una v.a. normale standard.\n",
    "\n",
    "$\\displaystyle\\qquad \\frac{\\sigma}{\\sqrt{n}}=1.5$.\n",
    "\n",
    "$\\displaystyle\\qquad z_{.025}\n",
    "\\ =\\ \n",
    "-g(0.025)$\n",
    "\n",
    "$\\displaystyle\\qquad\\varepsilon\n",
    "\\ =\\ \n",
    "$` 1.96 * 1.5 ≈ 3`\n",
    "\n",
    "L'intervallo è $(1447,\\ 1453)$."
   ]
  },
  {
   "cell_type": "code",
   "execution_count": 2,
   "metadata": {},
   "outputs": [
    {
     "data": {
      "text/plain": [
       "-1.9599639845400545"
      ]
     },
     "execution_count": 2,
     "metadata": {},
     "output_type": "execute_result"
    }
   ],
   "source": [
    "# Questo è il valore numerico di g(0.025):\n",
    "\n",
    "norm.ppf(0.025)"
   ]
  }
 ],
 "metadata": {
  "kernelspec": {
   "display_name": "Python 3 (ipykernel)",
   "language": "python",
   "name": "python3"
  },
  "language_info": {
   "codemirror_mode": {
    "name": "ipython",
    "version": 3
   },
   "file_extension": ".py",
   "mimetype": "text/x-python",
   "name": "python",
   "nbconvert_exporter": "python",
   "pygments_lexer": "ipython3",
   "version": "3.9.13"
  }
 },
 "nbformat": 4,
 "nbformat_minor": 2
}
