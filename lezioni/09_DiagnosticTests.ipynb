{
 "cells": [
  {
   "cell_type": "code",
   "execution_count": 1,
   "metadata": {},
   "outputs": [
    {
     "data": {
      "text/html": [
       "<style>\n",
       "div.jp-MarkdownOutput {font-family: \"Times New Roman\", Times, serif;   \n",
       "    /* background-color: #eee;  */\n",
       "    /* border-left: 5px solid #00b5b4; */\n",
       "    font-size: 14pt;\n",
       "    line-height: 150%;\n",
       "}\n",
       ".text_cell_render {\n",
       "    font-family: \"Times New Roman\", Times, serif;    \n",
       "    /* background-color: #eee;  */\n",
       "    /* border-left: 5px solid #00b5b4; */\n",
       "    font-size: 18pt;\n",
       "    line-height: 150%;\n",
       "}\n",
       "\n",
       "h1 {\n",
       "    font-size: xx-large  !important;\n",
       "    margin-top: 0ex !important;\n",
       "}\n",
       "\n",
       "h2 {\n",
       "    font-size: larger !important;\n",
       "    margin-top: 0ex !important;\n",
       "    margin-bottom: 0ex !important;\n",
       "    padding-bottom: 0ex !important;\n",
       "}\n",
       "\n",
       "h3 {\n",
       "    font-size: large !important;\n",
       "    margin-top: 0ex !important;\n",
       "    margin-bottom: 1ex !important;\n",
       "    padding-bottom: 0ex !important;\n",
       "}\n",
       "\n",
       "mark {\n",
       "    background-color: #ffdd00;\n",
       "    border-top-right-radius: 5px;\n",
       "    border-top-left-radius: 5px;\n",
       "    border-bottom-right-radius: 5px;\n",
       "    border-bottom-left-radius: 5px;\n",
       "    padding-top: 0.1ex;\n",
       "    padding-bottom: 0.2ex;\n",
       "    padding-left: 0.7ex;\n",
       "    padding-right: 0.7ex;\n",
       "}\n",
       "\n",
       ".ita {\n",
       "    background-color: #bbddee;\n",
       "}\n",
       "\n",
       ".errore {background-color:#d88;\n",
       "        width:310px;\n",
       "        height:17ex;\n",
       "        display:inline-block;\n",
       "        margin:5px;\n",
       "        padding:8px;\n",
       "}\n",
       "\n",
       ".corretto {background-color:#2d8;\n",
       "        width:310px;\n",
       "        height:17ex;\n",
       "        display:inline-block;\n",
       "        margin:5px;\n",
       "        padding:8px;\n",
       "}\n",
       "\n",
       "n-a {background-color: #ffdddd;}\n",
       "\n",
       "ul, ol {\n",
       "     padding-left: 2ex !important;\n",
       "}\n",
       "ul {\n",
       "     margin-top: 0ex !important;\n",
       "     margin-bottom: 0ex !important;\n",
       "     list-style-type: square !important;\n",
       "}\n",
       "\n",
       "div.warn {    \n",
       "    background-color: #fcf2f2;\n",
       "    border-color: #dFb5b4;\n",
       "    border-left: 5px solid #dfb5b4;\n",
       "    margin-top: 1ex;\n",
       "    padding: 1ex;\n",
       "}\n",
       ".right{\n",
       "    float:right\n",
       "}\n",
       "\n",
       "hr { \n",
       "    display: block;\n",
       "    margin-top: 0.5ex;\n",
       "    margin-bottom: 0.5ex;\n",
       "    margin-left: auto;\n",
       "    margin-right: auto;\n",
       "    border-style: inset;\n",
       "    border-width: 1px;\n",
       "}\n",
       "</style>\n"
      ],
      "text/plain": [
       "<IPython.core.display.HTML object>"
      ]
     },
     "execution_count": 1,
     "metadata": {},
     "output_type": "execute_result"
    }
   ],
   "source": [
    "# RUN THIS CELL: it loads some style files\n",
    "from IPython.core.display import HTML, display, Math\n",
    "with open( './style/custom.css', 'r' ) as f: html_style = f.read()\n",
    "HTML( html_style )"
   ]
  },
  {
   "cell_type": "markdown",
   "metadata": {},
   "source": [
    "# Diagnostic tests (glossary)\n",
    "\n",
    "$T\\quad$ event that the result of a diagnostic test is positive\n",
    "\n",
    "$D\\quad$ event that the subject of the test has the disease\n",
    "\n",
    "$\\Pr(D)\\quad$ is called the <mark>prevalence</mark> of the disease. Often it is difficult to estimate: it strongly depends on the risk category the subject belongs to.\n",
    "\n",
    "$\\Pr(T | D)\\quad$ is called the <mark>sensitivity</mark> of the test. It is the probability that the test is\n",
    "positive given that the subject actually has the disease.\n",
    "\n",
    "$\\Pr(\\neg T | \\neg D)\\quad$ is called the <mark>specificity</mark> of the test. It is the probability that the test is\n",
    "negative given that the subject does not have the disease.\n",
    "\n",
    "$\\Pr(D | T)\\quad$ is called the <mark>positive predictive value</mark> of the test. It is the probability that the subject has the disease given that the test is positive\n",
    "\n",
    "$\\Pr(\\neg D | \\neg T)\\quad$ is called the <mark>negative predictive value</mark> of the test. It  is the probability that the subject does not have the disease given that the test is negative.\n",
    "\n",
    "Tipicamente la specificità e la sensitività del test sono note. I poteri predittivi positivi e negativi vengono calcolati usando la prevalenza e regola di Bayes e quindi dipendono fortemente dalla categoria di rischio del cui appartiene il soggetto."
   ]
  },
  {
   "cell_type": "markdown",
   "metadata": {},
   "source": [
    "# Example: HIV test\n",
    "\n",
    "A study comparing the efficacy of HIV tests, reports on an\n",
    "experiment which concluded that HIV antibody tests have a\n",
    "<mark>sensitivity</mark> of $99.7\\%$ and a <mark>specificity</mark> of $98.5\\%$\n",
    "\n",
    "Suppose that a subject, from a population with a $0.1\\%$ <mark>prevalence</mark>\n",
    "of HIV, receives a positive test result. What is the probability\n",
    "that this subject has HIV?\n",
    "\n",
    "Mathematically, we want $\\Pr(D | T)$ given \n",
    "\n",
    "$\\Pr(T| D) = 0.997$, the sensitivity, \n",
    "\n",
    "$\\Pr(\\neg T| \\neg D) =0.985$, the specificity, \n",
    "\n",
    "$\\Pr(D) = 0.001$, the prevalence \n",
    "\n",
    "By the Bayes' rule\n",
    "\n",
    "$\\Pr(D ~|T) = \\dfrac{\\Pr(T|D)\\Pr(D)}{\\Pr(T)}$\n",
    "\n",
    "By the theorem of total probability\n",
    "\n",
    "$\\Pr(T)=\\Pr(T|D)\\ \\Pr(D) + \\Pr(T|\\neg D)\\ \\Pr(\\neg D)$\n",
    "\n",
    "Though not explicitely given, we can easily compute \n",
    "\n",
    "$\\Pr(T|\\neg D) = 1- \\Pr(\\neg T | \\neg D)$\n",
    "\n",
    "$\\Pr(\\neg D) = 1- \\Pr(D)$\n",
    "\n",
    "     il calcolo numerico nella cella sottostante"
   ]
  },
  {
   "cell_type": "code",
   "execution_count": 2,
   "metadata": {},
   "outputs": [
    {
     "data": {
      "text/latex": [
       "$\\displaystyle \\Pr(D|T)=0.0624$"
      ],
      "text/plain": [
       "<IPython.core.display.Math object>"
      ]
     },
     "metadata": {},
     "output_type": "display_data"
    }
   ],
   "source": [
    "Pr_T_D   = 0.997           # sensitivity\n",
    "Pr_nT_nD = 0.985           # specificity\n",
    "Pr_D     = 0.001           # prevalence\n",
    "Pr_nD    = 1 - Pr_D\n",
    "Pr_T_nD  = 1 - Pr_nT_nD    # pobability of false positive\n",
    "Pr_T     = Pr_T_D * Pr_D + Pr_T_nD * Pr_nD\n",
    "Pr_D_T   = Pr_T_D * Pr_D / Pr_T          # PPV\n",
    "display(Math(r'\\Pr(D|T)={}'.format(round(Pr_D_T,4))))"
   ]
  },
  {
   "cell_type": "markdown",
   "metadata": {},
   "source": [
    "The <mark>positive predictive value</mark> is $6\\%$ for this test. In this population a positive test result only suggests a $6\\%$ probability that the subject has the disease. The low positive predictive value is due to low prevalence of disease and the\n",
    "somewhat modest specificity \n",
    "\n",
    "Suppose that the test was taken in South Africa where the prevalence is estimated to be around $20\\%$\n",
    "\n",
    "     il calcolo numerico nella cella sottostante"
   ]
  },
  {
   "cell_type": "code",
   "execution_count": 3,
   "metadata": {},
   "outputs": [
    {
     "data": {
      "text/latex": [
       "$\\displaystyle \\Pr(D|T)=0.9432$"
      ],
      "text/plain": [
       "<IPython.core.display.Math object>"
      ]
     },
     "metadata": {},
     "output_type": "display_data"
    }
   ],
   "source": [
    "Pr_D    = 0.2            # prevalence\n",
    "Pr_nD   = 1 - Pr_D\n",
    "Pr_T    = Pr_T_D * Pr_D + Pr_T_nD * Pr_nD\n",
    "Pr_D_T  = Pr_T_D * Pr_D / Pr_T          # PPV\n",
    "display(Math(r'\\Pr(D|T)={}'.format(round(Pr_D_T,4))))"
   ]
  },
  {
   "cell_type": "code",
   "execution_count": null,
   "metadata": {},
   "outputs": [],
   "source": []
  }
 ],
 "metadata": {
  "kernelspec": {
   "display_name": "Python 3 (ipykernel)",
   "language": "python",
   "name": "python3"
  },
  "language_info": {
   "codemirror_mode": {
    "name": "ipython",
    "version": 3
   },
   "file_extension": ".py",
   "mimetype": "text/x-python",
   "name": "python",
   "nbconvert_exporter": "python",
   "pygments_lexer": "ipython3",
   "version": "3.9.13"
  }
 },
 "nbformat": 4,
 "nbformat_minor": 4
}
