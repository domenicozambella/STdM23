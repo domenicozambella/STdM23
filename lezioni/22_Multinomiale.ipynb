{
 "cells": [
  {
   "cell_type": "code",
   "execution_count": 1,
   "id": "df9bb0fe",
   "metadata": {},
   "outputs": [
    {
     "data": {
      "text/html": [
       "<style>\n",
       "div.jp-MarkdownOutput {font-family: \"Times New Roman\", Times, serif;   \n",
       "    /* background-color: #eee;  */\n",
       "    /* border-left: 5px solid #00b5b4; */\n",
       "    font-size: 14pt;\n",
       "    line-height: 150%;\n",
       "}\n",
       ".text_cell_render {\n",
       "    font-family: \"Times New Roman\", Times, serif;    \n",
       "    /* background-color: #eee;  */\n",
       "    /* border-left: 5px solid #00b5b4; */\n",
       "    font-size: 18pt;\n",
       "    line-height: 150%;\n",
       "}\n",
       "\n",
       "h1 {\n",
       "    font-size: xx-large  !important;\n",
       "    margin-top: 0ex !important;\n",
       "}\n",
       "\n",
       "h2 {\n",
       "    font-size: larger !important;\n",
       "    margin-top: 0ex !important;\n",
       "    margin-bottom: 0ex !important;\n",
       "    padding-bottom: 0ex !important;\n",
       "}\n",
       "\n",
       "h3 {\n",
       "    font-size: large !important;\n",
       "    margin-top: 0ex !important;\n",
       "    margin-bottom: 1ex !important;\n",
       "    padding-bottom: 0ex !important;\n",
       "}\n",
       "\n",
       "mark {\n",
       "    background-color: #ffdd00;\n",
       "    border-top-right-radius: 5px;\n",
       "    border-top-left-radius: 5px;\n",
       "    border-bottom-right-radius: 5px;\n",
       "    border-bottom-left-radius: 5px;\n",
       "    padding-top: 0.1ex;\n",
       "    padding-bottom: 0.2ex;\n",
       "    padding-left: 0.7ex;\n",
       "    padding-right: 0.7ex;\n",
       "}\n",
       "\n",
       ".ita {\n",
       "    background-color: #bbddee;\n",
       "}\n",
       "\n",
       ".errore {background-color:#d88;\n",
       "        width:310px;\n",
       "        height:17ex;\n",
       "        display:inline-block;\n",
       "        margin:5px;\n",
       "        padding:8px;\n",
       "}\n",
       "\n",
       ".corretto {background-color:#2d8;\n",
       "        width:310px;\n",
       "        height:17ex;\n",
       "        display:inline-block;\n",
       "        margin:5px;\n",
       "        padding:8px;\n",
       "}\n",
       "\n",
       "n-a {background-color: #ffdddd;}\n",
       "\n",
       "ul, ol {\n",
       "     padding-left: 2ex !important;\n",
       "}\n",
       "ul {\n",
       "     margin-top: 0ex !important;\n",
       "     margin-bottom: 0ex !important;\n",
       "     list-style-type: square !important;\n",
       "}\n",
       "\n",
       "div.warn {    \n",
       "    background-color: #fcf2f2;\n",
       "    border-color: #dFb5b4;\n",
       "    border-left: 5px solid #dfb5b4;\n",
       "    margin-top: 1ex;\n",
       "    padding: 1ex;\n",
       "}\n",
       ".right{\n",
       "    float:right\n",
       "}\n",
       "\n",
       "hr { \n",
       "    display: block;\n",
       "    margin-top: 0.5ex;\n",
       "    margin-bottom: 0.5ex;\n",
       "    margin-left: auto;\n",
       "    margin-right: auto;\n",
       "    border-style: inset;\n",
       "    border-width: 1px;\n",
       "}\n",
       "</style>\n"
      ],
      "text/plain": [
       "<IPython.core.display.HTML object>"
      ]
     },
     "execution_count": 1,
     "metadata": {},
     "output_type": "execute_result"
    }
   ],
   "source": [
    "# RUN THIS CELL: it loads some style files\n",
    "from IPython.display import HTML\n",
    "with open( './style/custom.css', 'r' ) as f: html_style = f.read()\n",
    "HTML( html_style )"
   ]
  },
  {
   "cell_type": "markdown",
   "id": "58488128",
   "metadata": {},
   "source": [
    "## La distribuzione multinomiale\n",
    "\n",
    "Lanciamo un dado equilibrato con 6 facce $n$ volte e annotiamo quante volte sono usciti i numeri $1,\\dots,6$ in un vettore $[n_1,\\dots,n_6]$.\n",
    "Otteniamo una v.a. a valore in (un sottoinsieme finito di) uno spazio $6$-dimensionale.\n",
    "\n",
    "Generalizziamo leggermente questo esempio: lanciamo $n$ volte un dado con $k$ facce che occorrono con probabilità $p_1,\\dots,p_k$.\n",
    "I valori di questa v.a. sono dunque dei vettori $k$-dimensionali.\n",
    "\n",
    "Questa si dice essere una variabile <mark>multinomiale</mark> con parametri $n,p_1,\\dots,p_k$.\n",
    "Scriveremo $X\\sim{\\rm Multi}(n,p_1,\\dots,p_k)$ per dire che $X$ è una v.a. di questo tipo.\n",
    "\n",
    "V.a. che danno come risultato un vettore si dicono v.a. <mark>multivariate</mark>, per contrasto le altre si dicono <mark>univariate</mark>.\n",
    "\n",
    "Osserviamo che i parametri $p_1,\\dots,p_k$ sono vincolata soddisfare\n",
    "\n",
    "$$\\sum_{i=1}^kp_i=1$$\n",
    " "
   ]
  },
  {
   "cell_type": "markdown",
   "id": "023ef74d",
   "metadata": {},
   "source": [
    "Non è difficile calcolare la distribuzione di una variabile $X\\sim{\\rm Multi}(n,p_1,\\dots,p_k)$.\n",
    "È importante notare che questa è una funzione con $k$ variabili:\n",
    "\n",
    "$$\\Pr\\big(X=[x_1,\\dots,x_k]\\big)\\ \\ =\\ \\ {n\\choose{x_1,\\dots,x_k}}\\ p_1^{x_1},\\dots,p_k^{x_k}$$\n",
    "\n",
    "Dove il coefficiente\n",
    "\n",
    "$${n\\choose{x_1,\\dots,x_k}}\\ \\ =\\ \\ \\frac{n!}{x_1!\\cdots x_k!}$$\n",
    "\n",
    "è un opportuna generalizzazione del coefficiente binomiale"
   ]
  },
  {
   "cell_type": "markdown",
   "id": "b09da4bb",
   "metadata": {},
   "source": [
    "<hr>\n",
    "\n",
    "A volte conviene rappresentare la v.a. $X$ con un vettore di v.a. univariate, diciamo $X=[X_1,\\dots,X_k]$. \n",
    "La variabile $X_i$ dice quante volte si è verificato l'evento $i$-esimo (diciamo, quante volte è uscita la faccia $i$-esima del dado).\n",
    "\n",
    "Si noti che le variabili $X_i$ sono di tipo ${\\rm B}(n,p_i)$. \n",
    "Chiaramente non sono indipendenti, infatti $X_1+\\dots+X_k=n$."
   ]
  },
  {
   "cell_type": "markdown",
   "id": "e8a5be97",
   "metadata": {},
   "source": [
    "## Valore atteso\n",
    "\n",
    "Il valore atteso di una variabile aleatoria multivariata $X=[X_1,\\dots,X_k]$ è il vettore\n",
    "\n",
    "$${\\rm E}(X)\\ \\ =\\ \\ \\big[{\\rm E}(X_1),\\dots,{\\rm E}(X_k)\\big]$$\n",
    "\n",
    "Nel caso di una variabile multinomiale abbiamo ${\\rm E}(X)=[np_1,\\dots,np_k]$."
   ]
  },
  {
   "cell_type": "code",
   "execution_count": null,
   "id": "db9d6be6",
   "metadata": {},
   "outputs": [],
   "source": []
  }
 ],
 "metadata": {
  "kernelspec": {
   "display_name": "Python 3 (ipykernel)",
   "language": "python",
   "name": "python3"
  },
  "language_info": {
   "codemirror_mode": {
    "name": "ipython",
    "version": 3
   },
   "file_extension": ".py",
   "mimetype": "text/x-python",
   "name": "python",
   "nbconvert_exporter": "python",
   "pygments_lexer": "ipython3",
   "version": "3.9.13"
  }
 },
 "nbformat": 4,
 "nbformat_minor": 5
}
