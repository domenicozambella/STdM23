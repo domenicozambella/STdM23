{
 "cells": [
  {
   "cell_type": "code",
   "execution_count": 2,
   "metadata": {},
   "outputs": [
    {
     "data": {
      "text/html": [
       "<style>\n",
       "div.jp-MarkdownOutput {font-family: \"Times New Roman\", Times, serif;   \n",
       "    /* background-color: #eee;  */\n",
       "    /* border-left: 5px solid #00b5b4; */\n",
       "    font-size: 10pt;\n",
       "    line-height: 140%;\n",
       "}\n",
       ".text_cell_render {\n",
       "    font-family: \"Times New Roman\", Times, serif;    \n",
       "    /* background-color: #eee;  */\n",
       "    /* border-left: 5px solid #00b5b4; */\n",
       "    font-size: 14pt;\n",
       "    line-height: 140%;s\n",
       "}\n",
       "\n",
       "h1 {\n",
       "    font-size: xx-large  !important;\n",
       "    margin-top: 0ex !important;\n",
       "}\n",
       "\n",
       "h2 {\n",
       "    font-size: larger !important;\n",
       "    margin-top: 0ex !important;\n",
       "    margin-bottom: 0ex !important;\n",
       "    padding-bottom: 0ex !important;\n",
       "}\n",
       "\n",
       "h3 {\n",
       "    font-size: large !important;\n",
       "    margin-top: 0ex !important;\n",
       "    margin-bottom: 1ex !important;\n",
       "    padding-bottom: 0ex !important;\n",
       "}\n",
       "\n",
       "mark {\n",
       "    background-color: #ffdd00;\n",
       "    border-top-right-radius: 5px;\n",
       "    border-top-left-radius: 5px;\n",
       "    border-bottom-right-radius: 5px;\n",
       "    border-bottom-left-radius: 5px;\n",
       "    padding-top: 0.1ex;\n",
       "    padding-bottom: 0.2ex;\n",
       "    padding-left: 0.7ex;\n",
       "    padding-right: 0.7ex;\n",
       "}\n",
       "\n",
       ".ita {\n",
       "    background-color: #bbddee;\n",
       "}\n",
       "\n",
       ".errore {background-color:#d88;\n",
       "        width:310px;\n",
       "        height:17ex;\n",
       "        display:inline-block;\n",
       "        margin:5px;\n",
       "        padding:8px;\n",
       "}\n",
       "\n",
       ".corretto {background-color:#2d8;\n",
       "        width:310px;\n",
       "        height:17ex;\n",
       "        display:inline-block;\n",
       "        margin:5px;\n",
       "        padding:8px;\n",
       "}\n",
       "\n",
       "n-a {background-color: #ffdddd;}\n",
       "\n",
       "ul, ol {\n",
       "     padding-left: 2ex !important;\n",
       "}\n",
       "ul {\n",
       "     margin-top: 0ex !important;\n",
       "     margin-bottom: 0ex !important;\n",
       "     list-style-type: square !important;\n",
       "}\n",
       "\n",
       "div.warn {    \n",
       "    background-color: #fcf2f2;\n",
       "    border-color: #dFb5b4;\n",
       "    border-left: 5px solid #dfb5b4;\n",
       "    margin-top: 1ex;\n",
       "    padding: 1ex;\n",
       "}\n",
       ".right{\n",
       "    float:right\n",
       "}\n",
       "\n",
       "hr { \n",
       "    display: block;\n",
       "    margin-top: 0.5ex;\n",
       "    margin-bottom: 0.5ex;\n",
       "    margin-left: auto;\n",
       "    margin-right: auto;\n",
       "    border-style: inset;\n",
       "    border-width: 1px;\n",
       "}\n",
       "</style>\n"
      ],
      "text/plain": [
       "<IPython.core.display.HTML object>"
      ]
     },
     "execution_count": 2,
     "metadata": {},
     "output_type": "execute_result"
    }
   ],
   "source": [
    "# RUN THIS CELL: it loads some style files\n",
    "from IPython.display import HTML, display, Math\n",
    "with open( './style/custom.css', 'r' ) as f: html_style = f.read()\n",
    "HTML( html_style )"
   ]
  },
  {
   "cell_type": "markdown",
   "metadata": {},
   "source": [
    "# Regola di Bayes\n",
    "\n",
    "Il fatto seguente si chiama <mark>regola (o teorema) di Bayes</mark>.\n",
    "\n",
    "Per ogni coppia di eventi $A$ e $B$ di probabilità $>0$ \n",
    "\n",
    "$\\quad\\Pr(A|B)\\quad=\\quad\\dfrac{\\Pr(B|A)\\cdot\\Pr(A)}{\\Pr(B)}.$\n",
    "\n",
    "In molte applicazioni $\\Pr(B)$ viene calcolato usando il teorema delle probabilità totali. La regola diventa\n",
    "\n",
    "$\\quad\\phantom{\\Pr(A|B)}\\quad=\\quad\\dfrac{\\Pr(B|A)\\cdot \\Pr(A)}{\\Pr(B|A)\\Pr(A)+\\Pr(B|\\neg A)\\Pr(\\neg A)}.$\n",
    "\n",
    "I termini che occorrono nella regola di Bayes sono\n",
    "\n",
    "$\\Pr(A)\\quad$ <mark>probabilità a priori</mark> in in inglese <mark class=ita>prior probability</mark>\n",
    "\n",
    "$\\Pr(B|A)\\quad$ <mark>verosimiglianza</mark> in in inglese <mark class=ita>liklihood</mark>\n",
    "\n",
    "$\\Pr(A|B)\\quad$ <mark>probabilità a posteriori</mark> in in inglese <mark class=ita>posterior probability</mark>"
   ]
  },
  {
   "cell_type": "markdown",
   "metadata": {},
   "source": [
    "# Esempio: fumatori e non fumatori\n",
    "\n",
    "Tra le persone affette da una certa patologia, il $20\\%$ è fumatore. La prevalenza nella popolazione generale è del $2\\%$. Il $10\\%$ della popolazione fuma. Calcolare la probabilità che un fumatore sia affetto da questa patologia.\n",
    "\n",
    "\n",
    "$F\\quad$ insieme dei fumatori\n",
    "\n",
    "$A\\quad$ insieme persone affette da $A$\n",
    "\n",
    "$\\Pr(A)=0.02\\quad $prevalenza nella popolazione generale\n",
    "\n",
    "$\\Pr(F)=0.10\\quad$ frazione di fumatori nella popolazione generale\n",
    "\n",
    "$\\Pr(F|A)=0.20\\quad$ frazione di fumatori nella popolazione malata\n",
    "\n",
    "$\\Pr(A|F)=\\dfrac{\\Pr(F|A)\\cdot \\Pr(A)}{\\Pr(F)} =\\quad$ prevalenza tra i fumatori\n",
    "\n",
    "     il calcolo numerico nella cella sottostante"
   ]
  },
  {
   "cell_type": "code",
   "execution_count": 2,
   "metadata": {},
   "outputs": [
    {
     "data": {
      "text/latex": [
       "$$\\Pr(A|F)=0.04$$"
      ],
      "text/plain": [
       "<IPython.core.display.Math object>"
      ]
     },
     "metadata": {},
     "output_type": "display_data"
    }
   ],
   "source": [
    "Pr_A  = 0.02                    # prevalenza nella popolazione generale\n",
    "Pr_F  = 0.10                    # frazione di fumatori nella popolazione generale\n",
    "Pr_F_A = 0.20                    # frazione di fumatori nella popolazione malata\n",
    "Pr_A_F = ( Pr_F_A * Pr_A ) / Pr_F    # prevalenza tra i fumatori\n",
    "display(Math(r'\\Pr(A|F)={}'.format(round(Pr_A_F,4))))"
   ]
  },
  {
   "cell_type": "markdown",
   "metadata": {},
   "source": [
    "# Esempio: portatrice sana di emofilia \n",
    "\n",
    "Hemophilia is a disease that exhibits X-chromosome-linked recessive inheritance, meaning that a male who inherits the gene that causes the disease on the X-chromosome is affected, whereas a female carrying the gene on only one of her two X-chromosomes is not affected. The disease is generally fatal for women who inherit two such genes.\n",
    "\n",
    "Consider a woman who has an affected brother. We are also told that her father is not affected, which implies that her mother must be a carrier of the hemophilia gene. Thus the woman herself has a fifty-fifty chance of having the gene.\n",
    "\n",
    "Suppose she has a son (from a man who is not affected) that is not affected. What is the probability that she is a carrier?\n",
    "\n",
    "$\\Omega\\quad$  set of women daughter of carrier \n",
    "\n",
    "$C\\quad$ set of women that are carrier\n",
    "\n",
    "$S_{na}\\quad$ set of women that have (exactly) one son and he is not affected\n",
    "\n",
    "$\\Pr(C)\\ =\\ 1/2\\quad$ \n",
    "\n",
    "$\\Pr(S_{na}|C)\\ =\\ 1/2\\quad$\n",
    "\n",
    "$\\Pr(C|S_{na})\\ =\\ \\dfrac{\\Pr(S_{na}|C)\\cdot \\Pr(C)}{\\Pr(S_{na})}$\n",
    "\n",
    "$\\phantom{\\Pr(C|S_{na})}\\ =\\ \\dfrac{\\Pr(S_{na}|C)\\cdot \\Pr(C)}{\\Pr(S_{na}|C)\\cdot \\Pr(C)+\\Pr(S_{na}|\\neg C)\\cdot \\Pr(\\neg C)}$\n",
    "\n",
    "$\\phantom{\\Pr(C|S_{na})}\\ =\\ \\dfrac{1/4}{1/4+1/2}\\ =\\ 1/3$"
   ]
  },
  {
   "cell_type": "code",
   "execution_count": null,
   "metadata": {},
   "outputs": [],
   "source": []
  }
 ],
 "metadata": {
  "kernelspec": {
   "display_name": "Python 3 (ipykernel)",
   "language": "python",
   "name": "python3"
  },
  "language_info": {
   "codemirror_mode": {
    "name": "ipython",
    "version": 3
   },
   "file_extension": ".py",
   "mimetype": "text/x-python",
   "name": "python",
   "nbconvert_exporter": "python",
   "pygments_lexer": "ipython3",
   "version": "3.9.13"
  }
 },
 "nbformat": 4,
 "nbformat_minor": 2
}
