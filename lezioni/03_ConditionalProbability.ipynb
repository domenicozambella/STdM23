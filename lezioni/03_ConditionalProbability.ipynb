{
 "cells": [
  {
   "cell_type": "code",
   "execution_count": 3,
   "metadata": {},
   "outputs": [
    {
     "data": {
      "text/html": [
       "<style>\n",
       "div.jp-MarkdownOutput {font-family: \"Times New Roman\", Times, serif;   \n",
       "    /* background-color: #eee;  */\n",
       "    /* border-left: 5px solid #00b5b4; */\n",
       "    font-size: 10pt;\n",
       "    line-height: 140%;\n",
       "}\n",
       ".text_cell_render {\n",
       "    font-family: \"Times New Roman\", Times, serif;    \n",
       "    /* background-color: #eee;  */\n",
       "    /* border-left: 5px solid #00b5b4; */\n",
       "    font-size: 14pt;\n",
       "    line-height: 140%;s\n",
       "}\n",
       "\n",
       "h1 {\n",
       "    font-size: xx-large  !important;\n",
       "    margin-top: 0ex !important;\n",
       "}\n",
       "\n",
       "h2 {\n",
       "    font-size: larger !important;\n",
       "    margin-top: 0ex !important;\n",
       "    margin-bottom: 0ex !important;\n",
       "    padding-bottom: 0ex !important;\n",
       "}\n",
       "\n",
       "h3 {\n",
       "    font-size: large !important;\n",
       "    margin-top: 0ex !important;\n",
       "    margin-bottom: 0ex !important;\n",
       "    padding-bottom: 0ex !important;\n",
       "}\n",
       "\n",
       "mark {\n",
       "    background-color: #ffdd00;\n",
       "    border-top-right-radius: 5px;\n",
       "    border-top-left-radius: 5px;\n",
       "    border-bottom-right-radius: 5px;\n",
       "    border-bottom-left-radius: 5px;\n",
       "    padding-top: 0.1ex;\n",
       "    padding-bottom: 0.2ex;\n",
       "    padding-left: 0.7ex;\n",
       "    padding-right: 0.7ex;\n",
       "}\n",
       "\n",
       ".ita {\n",
       "    background-color: #bbddee;\n",
       "}\n",
       "\n",
       ".errore {background-color:#d88;\n",
       "        width:310px;\n",
       "        height:17ex;\n",
       "        display:inline-block;\n",
       "        margin:5px;\n",
       "        padding:8px;\n",
       "}\n",
       "\n",
       ".corretto {background-color:#2d8;\n",
       "        width:310px;\n",
       "        height:17ex;\n",
       "        display:inline-block;\n",
       "        margin:5px;\n",
       "        padding:8px;\n",
       "}\n",
       "\n",
       "n-a {background-color: #ffdddd;}\n",
       "\n",
       "ul, ol {\n",
       "     padding-left: 2ex !important;\n",
       "}\n",
       "ul {\n",
       "     margin-top: 0ex !important;\n",
       "     margin-bottom: 0ex !important;\n",
       "     list-style-type: square !important;\n",
       "}\n",
       "\n",
       "div.warn {    \n",
       "    background-color: #fcf2f2;\n",
       "    border-color: #dFb5b4;\n",
       "    border-left: 5px solid #dfb5b4;\n",
       "    margin-top: 1ex;\n",
       "    padding: 1ex;\n",
       "}\n",
       ".right{\n",
       "    float:right\n",
       "}\n",
       "\n",
       "hr { \n",
       "    display: block;\n",
       "    margin-top: 0.5ex;\n",
       "    margin-bottom: 0.5ex;\n",
       "    margin-left: auto;\n",
       "    margin-right: auto;\n",
       "    border-style: inset;\n",
       "    border-width: 1px;\n",
       "}\n",
       "</style>\n"
      ],
      "text/plain": [
       "<IPython.core.display.HTML object>"
      ]
     },
     "execution_count": 3,
     "metadata": {},
     "output_type": "execute_result"
    }
   ],
   "source": [
    "# RUN THIS CELL: it loads some style files\n",
    "from IPython.core.display import HTML\n",
    "with open( './style/custom.css', 'r' ) as f: html_style = f.read()\n",
    "HTML( html_style )"
   ]
  },
  {
   "cell_type": "markdown",
   "metadata": {},
   "source": [
    "# Probabilità condizionata\n",
    "\n",
    "Dato $A, \\Phi\\subseteq\\Omega$ tali che $\\Pr(\\Phi)\\neq 0$ definiamo \n",
    "\n",
    "$\\quad$<mark>$\\Pr\\,(\\,A\\mathbin|\\Phi\\,)$</mark>$\\quad=\\quad\\displaystyle\\frac{\\Pr(A\\cap\\Phi)}{\\Pr(\\Phi)\\vphantom{\\Big[}}$\n",
    "\n",
    "Questo si legge <mark>probabilità di $A$ dato $\\Phi$</mark>. \n",
    "\n",
    "Si verifica facilmente che $\\Pr(\\,\\cdot\\,|\\Phi)$ soddisfa a tutte le proprietà di $\\Pr(\\,\\cdot\\,$) se rimpiazziamo $\\Omega$ con $\\Phi$ ed ogni sottoinsieme $A$ di $\\Omega$ con $A\\cap\\Phi$."
   ]
  },
  {
   "cell_type": "markdown",
   "metadata": {},
   "source": [
    "# Teorema delle Probabilità Totali\n",
    "\n",
    "Il fatto seguente si chiama <mark>Teorema delle Probabilità Totali</mark>: siano $A_1,\\dots,A_n$ eventi mutuamente esclusivi ed esaustivi. Sia $C$ un qualsiasi altro evento, allora\n",
    "\n",
    "$\\quad\\Pr(C)\n",
    "\\quad=\\quad\n",
    "\\Pr(A_1)\\cdot \\Pr\\big(C| A_1)\\ +\\ \\dots\\ +\\ \\Pr(A_n)\\cdot \\Pr\\big(C| A_n)$\n",
    "\n",
    "notazione: $\\ =\\quad$\n",
    "<mark style=\"padding:2.2ex;\">$\\displaystyle\\sum^n_{i=1} \\Pr(A_i)\\cdot \\Pr\\big(C| A_i\\big)$</mark>\n",
    "\n",
    "<mark>Mutualmente esclusivi</mark>: $\\quad A_i\\cap A_j\\ =\\ \\varnothing\\quad$ per ogni $i\\neq j$\n",
    "\n",
    "<mark>Esaustivi</mark>: $\\displaystyle\\quad\\Omega\\ =\\ A_1\\cup\\dots\\cup A_n\\ =\\ $ notazione: <mark style=\"padding:2.2ex;\">$\\displaystyle\\bigcup^n_{i=1}A_i$</mark>\n"
   ]
  },
  {
   "cell_type": "markdown",
   "metadata": {},
   "source": [
    "# Esempio\n",
    "\n",
    "In letteratura è riportata la prevalenza di una certa patologia nella popolazione femminile ($5\\%$) e nella popolazione maschile ($3\\%$). Che prevalenza dovremo aspettarci in una popolazione composta dal $60\\%$ di maschi e dal $40\\%$ di femmine?\n",
    "\n",
    "$F$ evento: femmina\n",
    "\n",
    "$M$ evento: maschio\n",
    "\n",
    "$A$ evento: affetto dalla patologia\n",
    "\n",
    "$P(F)=0.4$\n",
    "\n",
    "$P(M)=0.6$\n",
    "\n",
    "$P(A|F)=0.05$\n",
    "\n",
    "$P(A|M)=0.03$\n",
    "\n",
    "$P(A)=P(A|F)P(F)+P(A|M)P(M) = $ \n",
    "\n",
    "      risultato numerico nella cella sottostante"
   ]
  },
  {
   "cell_type": "code",
   "execution_count": 1,
   "metadata": {},
   "outputs": [
    {
     "data": {
      "text/plain": [
       "0.038"
      ]
     },
     "execution_count": 1,
     "metadata": {},
     "output_type": "execute_result"
    }
   ],
   "source": [
    "Pr_F  = 0.4\n",
    "Pr_M  = 0.6\n",
    "Pr_A_F = 0.05 \n",
    "Pr_A_M = 0.03\n",
    "Pr_A = Pr_A_F * Pr_F + Pr_A_M * Pr_M\n",
    "round(Pr_A, 4) # arrotonda il risultato a 4 cifre decimali"
   ]
  },
  {
   "cell_type": "code",
   "execution_count": null,
   "metadata": {},
   "outputs": [],
   "source": []
  }
 ],
 "metadata": {
  "kernelspec": {
   "display_name": "Python 3",
   "language": "python",
   "name": "python3"
  },
  "language_info": {
   "codemirror_mode": {
    "name": "ipython",
    "version": 3
   },
   "file_extension": ".py",
   "mimetype": "text/x-python",
   "name": "python",
   "nbconvert_exporter": "python",
   "pygments_lexer": "ipython3",
   "version": "3.6.5"
  }
 },
 "nbformat": 4,
 "nbformat_minor": 2
}
